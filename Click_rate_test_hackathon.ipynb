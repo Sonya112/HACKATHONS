{
  "nbformat": 4,
  "nbformat_minor": 0,
  "metadata": {
    "colab": {
      "name": "Click rate_test_hackathon.ipynb",
      "provenance": [],
      "collapsed_sections": [],
      "toc_visible": true
    },
    "kernelspec": {
      "name": "python3",
      "display_name": "Python 3"
    },
    "accelerator": "GPU"
  },
  "cells": [
    {
      "cell_type": "markdown",
      "metadata": {
        "id": "bQBRqga4I6PQ",
        "colab_type": "text"
      },
      "source": [
        "## Logistic regression and DT model to predict click-rate on the add"
      ]
    },
    {
      "cell_type": "markdown",
      "metadata": {
        "id": "LDKq0ZKFP33i",
        "colab_type": "text"
      },
      "source": [
        "### In this problem, the task is to predict click probability i.e. probability of user clicking the ad which is shown to them on the partner websites for the next 7 days on the basis of historical view log data, ad impression data and user data.\n",
        "\n",
        "### Train data contains the impression logs during 2018/11/15 – 2018/12/13 along with the label which specifies whether the ad is clicked or not. Your model will be evaluated on the test data which have impression logs during 2018/12/12 – 2018/12/18 without the labels."
      ]
    },
    {
      "cell_type": "code",
      "metadata": {
        "id": "Or3IAepFPoEy",
        "colab_type": "code",
        "colab": {}
      },
      "source": [
        "import warnings\n",
        "warnings.filterwarnings(\"ignore\")\n",
        "import time\n",
        "import pandas as pd               \n",
        "import numpy as np\n",
        "import pickle\n",
        "\n",
        "\n",
        "from sklearn.linear_model import LinearRegression         #linear regression\n",
        "from sklearn.metrics.regression import mean_squared_error #error metrics\n",
        "from sklearn.metrics import mean_absolute_error\n",
        "\n",
        "import seaborn as sns                       #visualisation\n",
        "import matplotlib.pyplot as plt             #visualisation\n",
        "\n",
        "%matplotlib inline     \n",
        "sns.set(color_codes=True)"
      ],
      "execution_count": 0,
      "outputs": []
    },
    {
      "cell_type": "code",
      "metadata": {
        "id": "r89FLfsBSTbf",
        "colab_type": "code",
        "outputId": "09abe838-5b7a-4a92-9e9a-1207341301de",
        "colab": {
          "base_uri": "https://localhost:8080/",
          "height": 221
        }
      },
      "source": [
        "# Read data through Pandas and compute time taken to read\n",
        "\n",
        "t_start = time.time()\n",
        "train = pd.read_csv('train.csv')\n",
        "t_end = time.time()\n",
        "print('pd.read_csv(): {} s'.format(t_end-t_start)) # time [s]\n",
        "train.head()"
      ],
      "execution_count": 0,
      "outputs": [
        {
          "output_type": "stream",
          "text": [
            "pd.read_csv(): 0.38570261001586914 s\n"
          ],
          "name": "stdout"
        },
        {
          "output_type": "execute_result",
          "data": {
            "text/html": [
              "<div>\n",
              "<style scoped>\n",
              "    .dataframe tbody tr th:only-of-type {\n",
              "        vertical-align: middle;\n",
              "    }\n",
              "\n",
              "    .dataframe tbody tr th {\n",
              "        vertical-align: top;\n",
              "    }\n",
              "\n",
              "    .dataframe thead th {\n",
              "        text-align: right;\n",
              "    }\n",
              "</style>\n",
              "<table border=\"1\" class=\"dataframe\">\n",
              "  <thead>\n",
              "    <tr style=\"text-align: right;\">\n",
              "      <th></th>\n",
              "      <th>impression_id</th>\n",
              "      <th>impression_time</th>\n",
              "      <th>user_id</th>\n",
              "      <th>app_code</th>\n",
              "      <th>os_version</th>\n",
              "      <th>is_4G</th>\n",
              "      <th>is_click</th>\n",
              "    </tr>\n",
              "  </thead>\n",
              "  <tbody>\n",
              "    <tr>\n",
              "      <th>0</th>\n",
              "      <td>c4ca4238a0b923820dcc509a6f75849b</td>\n",
              "      <td>2018-11-15 00:00:00</td>\n",
              "      <td>87862</td>\n",
              "      <td>422</td>\n",
              "      <td>old</td>\n",
              "      <td>0</td>\n",
              "      <td>0</td>\n",
              "    </tr>\n",
              "    <tr>\n",
              "      <th>1</th>\n",
              "      <td>45c48cce2e2d7fbdea1afc51c7c6ad26</td>\n",
              "      <td>2018-11-15 00:01:00</td>\n",
              "      <td>63410</td>\n",
              "      <td>467</td>\n",
              "      <td>latest</td>\n",
              "      <td>1</td>\n",
              "      <td>1</td>\n",
              "    </tr>\n",
              "    <tr>\n",
              "      <th>2</th>\n",
              "      <td>70efdf2ec9b086079795c442636b55fb</td>\n",
              "      <td>2018-11-15 00:02:00</td>\n",
              "      <td>71748</td>\n",
              "      <td>259</td>\n",
              "      <td>intermediate</td>\n",
              "      <td>1</td>\n",
              "      <td>0</td>\n",
              "    </tr>\n",
              "    <tr>\n",
              "      <th>3</th>\n",
              "      <td>8e296a067a37563370ded05f5a3bf3ec</td>\n",
              "      <td>2018-11-15 00:02:00</td>\n",
              "      <td>69209</td>\n",
              "      <td>244</td>\n",
              "      <td>latest</td>\n",
              "      <td>1</td>\n",
              "      <td>0</td>\n",
              "    </tr>\n",
              "    <tr>\n",
              "      <th>4</th>\n",
              "      <td>182be0c5cdcd5072bb1864cdee4d3d6e</td>\n",
              "      <td>2018-11-15 00:02:00</td>\n",
              "      <td>62873</td>\n",
              "      <td>473</td>\n",
              "      <td>latest</td>\n",
              "      <td>0</td>\n",
              "      <td>0</td>\n",
              "    </tr>\n",
              "  </tbody>\n",
              "</table>\n",
              "</div>"
            ],
            "text/plain": [
              "                      impression_id      impression_time  ...  is_4G  is_click\n",
              "0  c4ca4238a0b923820dcc509a6f75849b  2018-11-15 00:00:00  ...      0         0\n",
              "1  45c48cce2e2d7fbdea1afc51c7c6ad26  2018-11-15 00:01:00  ...      1         1\n",
              "2  70efdf2ec9b086079795c442636b55fb  2018-11-15 00:02:00  ...      1         0\n",
              "3  8e296a067a37563370ded05f5a3bf3ec  2018-11-15 00:02:00  ...      1         0\n",
              "4  182be0c5cdcd5072bb1864cdee4d3d6e  2018-11-15 00:02:00  ...      0         0\n",
              "\n",
              "[5 rows x 7 columns]"
            ]
          },
          "metadata": {
            "tags": []
          },
          "execution_count": 2
        }
      ]
    },
    {
      "cell_type": "code",
      "metadata": {
        "id": "nJKrda-nM0bV",
        "colab_type": "code",
        "outputId": "706693a1-d305-465a-e84a-df559e61e413",
        "colab": {
          "base_uri": "https://localhost:8080/",
          "height": 221
        }
      },
      "source": [
        "t_start = time.time()\n",
        "test = pd.read_csv('test.csv')\n",
        "t_end = time.time()\n",
        "print('pd.read_csv(): {} s'.format(t_end-t_start)) # time [s]\n",
        "train.head()"
      ],
      "execution_count": 0,
      "outputs": [
        {
          "output_type": "stream",
          "text": [
            "pd.read_csv(): 0.14452385902404785 s\n"
          ],
          "name": "stdout"
        },
        {
          "output_type": "execute_result",
          "data": {
            "text/html": [
              "<div>\n",
              "<style scoped>\n",
              "    .dataframe tbody tr th:only-of-type {\n",
              "        vertical-align: middle;\n",
              "    }\n",
              "\n",
              "    .dataframe tbody tr th {\n",
              "        vertical-align: top;\n",
              "    }\n",
              "\n",
              "    .dataframe thead th {\n",
              "        text-align: right;\n",
              "    }\n",
              "</style>\n",
              "<table border=\"1\" class=\"dataframe\">\n",
              "  <thead>\n",
              "    <tr style=\"text-align: right;\">\n",
              "      <th></th>\n",
              "      <th>impression_id</th>\n",
              "      <th>impression_time</th>\n",
              "      <th>user_id</th>\n",
              "      <th>app_code</th>\n",
              "      <th>os_version</th>\n",
              "      <th>is_4G</th>\n",
              "      <th>is_click</th>\n",
              "    </tr>\n",
              "  </thead>\n",
              "  <tbody>\n",
              "    <tr>\n",
              "      <th>0</th>\n",
              "      <td>c4ca4238a0b923820dcc509a6f75849b</td>\n",
              "      <td>2018-11-15 00:00:00</td>\n",
              "      <td>87862</td>\n",
              "      <td>422</td>\n",
              "      <td>old</td>\n",
              "      <td>0</td>\n",
              "      <td>0</td>\n",
              "    </tr>\n",
              "    <tr>\n",
              "      <th>1</th>\n",
              "      <td>45c48cce2e2d7fbdea1afc51c7c6ad26</td>\n",
              "      <td>2018-11-15 00:01:00</td>\n",
              "      <td>63410</td>\n",
              "      <td>467</td>\n",
              "      <td>latest</td>\n",
              "      <td>1</td>\n",
              "      <td>1</td>\n",
              "    </tr>\n",
              "    <tr>\n",
              "      <th>2</th>\n",
              "      <td>70efdf2ec9b086079795c442636b55fb</td>\n",
              "      <td>2018-11-15 00:02:00</td>\n",
              "      <td>71748</td>\n",
              "      <td>259</td>\n",
              "      <td>intermediate</td>\n",
              "      <td>1</td>\n",
              "      <td>0</td>\n",
              "    </tr>\n",
              "    <tr>\n",
              "      <th>3</th>\n",
              "      <td>8e296a067a37563370ded05f5a3bf3ec</td>\n",
              "      <td>2018-11-15 00:02:00</td>\n",
              "      <td>69209</td>\n",
              "      <td>244</td>\n",
              "      <td>latest</td>\n",
              "      <td>1</td>\n",
              "      <td>0</td>\n",
              "    </tr>\n",
              "    <tr>\n",
              "      <th>4</th>\n",
              "      <td>182be0c5cdcd5072bb1864cdee4d3d6e</td>\n",
              "      <td>2018-11-15 00:02:00</td>\n",
              "      <td>62873</td>\n",
              "      <td>473</td>\n",
              "      <td>latest</td>\n",
              "      <td>0</td>\n",
              "      <td>0</td>\n",
              "    </tr>\n",
              "  </tbody>\n",
              "</table>\n",
              "</div>"
            ],
            "text/plain": [
              "                      impression_id      impression_time  ...  is_4G  is_click\n",
              "0  c4ca4238a0b923820dcc509a6f75849b  2018-11-15 00:00:00  ...      0         0\n",
              "1  45c48cce2e2d7fbdea1afc51c7c6ad26  2018-11-15 00:01:00  ...      1         1\n",
              "2  70efdf2ec9b086079795c442636b55fb  2018-11-15 00:02:00  ...      1         0\n",
              "3  8e296a067a37563370ded05f5a3bf3ec  2018-11-15 00:02:00  ...      1         0\n",
              "4  182be0c5cdcd5072bb1864cdee4d3d6e  2018-11-15 00:02:00  ...      0         0\n",
              "\n",
              "[5 rows x 7 columns]"
            ]
          },
          "metadata": {
            "tags": []
          },
          "execution_count": 90
        }
      ]
    },
    {
      "cell_type": "code",
      "metadata": {
        "id": "u8ng323DMviX",
        "colab_type": "code",
        "colab": {}
      },
      "source": [
        ""
      ],
      "execution_count": 0,
      "outputs": []
    },
    {
      "cell_type": "code",
      "metadata": {
        "id": "oJM_42jXTKkm",
        "colab_type": "code",
        "outputId": "8cbcfe18-5f29-4821-8a8e-e5083cecefa1",
        "colab": {
          "base_uri": "https://localhost:8080/",
          "height": 221
        }
      },
      "source": [
        "train.info()"
      ],
      "execution_count": 0,
      "outputs": [
        {
          "output_type": "stream",
          "text": [
            "<class 'pandas.core.frame.DataFrame'>\n",
            "RangeIndex: 237609 entries, 0 to 237608\n",
            "Data columns (total 7 columns):\n",
            "impression_id      237609 non-null object\n",
            "impression_time    237609 non-null object\n",
            "user_id            237609 non-null int64\n",
            "app_code           237609 non-null int64\n",
            "os_version         237609 non-null object\n",
            "is_4G              237609 non-null int64\n",
            "is_click           237609 non-null int64\n",
            "dtypes: int64(4), object(3)\n",
            "memory usage: 12.7+ MB\n"
          ],
          "name": "stdout"
        }
      ]
    },
    {
      "cell_type": "code",
      "metadata": {
        "id": "fonnU4AjTXdG",
        "colab_type": "code",
        "outputId": "284c4257-5351-4548-8569-c68fd2899478",
        "colab": {
          "base_uri": "https://localhost:8080/",
          "height": 173
        }
      },
      "source": [
        "train.describe().T"
      ],
      "execution_count": 0,
      "outputs": [
        {
          "output_type": "execute_result",
          "data": {
            "text/html": [
              "<div>\n",
              "<style scoped>\n",
              "    .dataframe tbody tr th:only-of-type {\n",
              "        vertical-align: middle;\n",
              "    }\n",
              "\n",
              "    .dataframe tbody tr th {\n",
              "        vertical-align: top;\n",
              "    }\n",
              "\n",
              "    .dataframe thead th {\n",
              "        text-align: right;\n",
              "    }\n",
              "</style>\n",
              "<table border=\"1\" class=\"dataframe\">\n",
              "  <thead>\n",
              "    <tr style=\"text-align: right;\">\n",
              "      <th></th>\n",
              "      <th>count</th>\n",
              "      <th>mean</th>\n",
              "      <th>std</th>\n",
              "      <th>min</th>\n",
              "      <th>25%</th>\n",
              "      <th>50%</th>\n",
              "      <th>75%</th>\n",
              "      <th>max</th>\n",
              "    </tr>\n",
              "  </thead>\n",
              "  <tbody>\n",
              "    <tr>\n",
              "      <th>user_id</th>\n",
              "      <td>237609.0</td>\n",
              "      <td>46454.526828</td>\n",
              "      <td>26802.726666</td>\n",
              "      <td>0.0</td>\n",
              "      <td>23197.0</td>\n",
              "      <td>46597.0</td>\n",
              "      <td>69684.0</td>\n",
              "      <td>92586.0</td>\n",
              "    </tr>\n",
              "    <tr>\n",
              "      <th>app_code</th>\n",
              "      <td>237609.0</td>\n",
              "      <td>249.099971</td>\n",
              "      <td>135.213609</td>\n",
              "      <td>0.0</td>\n",
              "      <td>163.0</td>\n",
              "      <td>213.0</td>\n",
              "      <td>385.0</td>\n",
              "      <td>522.0</td>\n",
              "    </tr>\n",
              "    <tr>\n",
              "      <th>is_4G</th>\n",
              "      <td>237609.0</td>\n",
              "      <td>0.361312</td>\n",
              "      <td>0.480382</td>\n",
              "      <td>0.0</td>\n",
              "      <td>0.0</td>\n",
              "      <td>0.0</td>\n",
              "      <td>1.0</td>\n",
              "      <td>1.0</td>\n",
              "    </tr>\n",
              "    <tr>\n",
              "      <th>is_click</th>\n",
              "      <td>237609.0</td>\n",
              "      <td>0.045714</td>\n",
              "      <td>0.208864</td>\n",
              "      <td>0.0</td>\n",
              "      <td>0.0</td>\n",
              "      <td>0.0</td>\n",
              "      <td>0.0</td>\n",
              "      <td>1.0</td>\n",
              "    </tr>\n",
              "  </tbody>\n",
              "</table>\n",
              "</div>"
            ],
            "text/plain": [
              "             count          mean           std  ...      50%      75%      max\n",
              "user_id   237609.0  46454.526828  26802.726666  ...  46597.0  69684.0  92586.0\n",
              "app_code  237609.0    249.099971    135.213609  ...    213.0    385.0    522.0\n",
              "is_4G     237609.0      0.361312      0.480382  ...      0.0      1.0      1.0\n",
              "is_click  237609.0      0.045714      0.208864  ...      0.0      0.0      1.0\n",
              "\n",
              "[4 rows x 8 columns]"
            ]
          },
          "metadata": {
            "tags": []
          },
          "execution_count": 4
        }
      ]
    },
    {
      "cell_type": "code",
      "metadata": {
        "id": "YBcDwm9vTXQL",
        "colab_type": "code",
        "outputId": "516e83f7-307c-42f1-9751-b908d36b12ea",
        "colab": {
          "base_uri": "https://localhost:8080/",
          "height": 34
        }
      },
      "source": [
        "train.shape"
      ],
      "execution_count": 0,
      "outputs": [
        {
          "output_type": "execute_result",
          "data": {
            "text/plain": [
              "(237609, 7)"
            ]
          },
          "metadata": {
            "tags": []
          },
          "execution_count": 5
        }
      ]
    },
    {
      "cell_type": "code",
      "metadata": {
        "id": "3iXSCouzTW_R",
        "colab_type": "code",
        "colab": {}
      },
      "source": [
        "#Perform Pandas profiling to understand quick overview of columns\n",
        "\n",
        "import pandas_profiling as pp\n",
        "report = pp.ProfileReport(train)\n",
        "#covert profile report as html file\n",
        "report.to_file(\"click-rate_data.html\")"
      ],
      "execution_count": 0,
      "outputs": []
    },
    {
      "cell_type": "code",
      "metadata": {
        "id": "YHbOYc5cTtZm",
        "colab_type": "code",
        "outputId": "0f6c4f74-3669-4d71-8ed5-e24e9cd9e4dd",
        "colab": {
          "base_uri": "https://localhost:8080/",
          "height": 1000
        }
      },
      "source": [
        "from IPython.display import display,HTML,IFrame\n",
        "\n",
        "display(HTML(open('click-rate_data.html').read()))"
      ],
      "execution_count": 0,
      "outputs": [
        {
          "output_type": "display_data",
          "data": {
            "text/html": [
              "<!doctype html>\n",
              "\n",
              "<html lang=\"en\">\n",
              "<head>\n",
              "  <meta charset=\"utf-8\">\n",
              "\n",
              "  <title>Profile report</title>\n",
              "  <meta name=\"description\" content=\"Profile report generated by pandas-profiling. See GitHub.\">\n",
              "  <meta name=\"author\" content=\"pandas-profiling\">\n",
              "    <script src=\"https://ajax.googleapis.com/ajax/libs/jquery/1.11.3/jquery.min.js\"></script>\n",
              "\n",
              "    <link rel=\"stylesheet\" href=\"https://maxcdn.bootstrapcdn.com/bootstrap/3.3.6/css/bootstrap.min.css\"\n",
              "          integrity=\"sha384-1q8mTJOASx8j1Au+a5WDVnPi2lkFfwwEAa8hDDdjZlpLegxhjVME1fgjWPGmkzs7\" crossorigin=\"anonymous\">\n",
              "    <link rel=\"stylesheet\" href=\"https://maxcdn.bootstrapcdn.com/bootstrap/3.3.6/css/bootstrap-theme.min.css\"\n",
              "          integrity=\"sha384-fLW2N01lMqjakBkx3l/M9EahuwpSfeNvV63J5ezn3uZzapT0u7EYsXMjQV+0En5r\" crossorigin=\"anonymous\">\n",
              "    <script src=\"https://maxcdn.bootstrapcdn.com/bootstrap/3.3.6/js/bootstrap.min.js\" integrity=\"sha384-0mSbJDEHialfmuBBQP6A4Qrprq5OVfW37PRR3j5ELqxss1yVqOtnepnHVP9aJ7xS\" crossorigin=\"anonymous\"></script>\n",
              "    <script>\n",
              "      $(function () {\n",
              "            $('[data-toggle=\"tooltip\"]').tooltip()\n",
              "      })\n",
              "\n",
              "      $(\"a[href^='#'].anchor\").on('click', function(e) {\n",
              "\n",
              "       // prevent default anchor click behavior\n",
              "       e.preventDefault();\n",
              "\n",
              "       // store hash\n",
              "       var hash = this.hash;\n",
              "\n",
              "       // animate\n",
              "       $('html, body').animate({\n",
              "           scrollTop: $(hash).offset().top\n",
              "         }, 300, function(){\n",
              "\n",
              "           // when done, add hash to url\n",
              "           // (default click behaviour)\n",
              "           window.location.hash = hash;\n",
              "         });\n",
              "\n",
              "      });\n",
              "    </script>\n",
              "</head>\n",
              "\n",
              "<body>\n",
              "    <meta charset=\"UTF-8\">\n",
              "\n",
              "<style>\n",
              "\n",
              "        .variablerow {\n",
              "            border: 1px solid #e1e1e8;\n",
              "            border-top: hidden;\n",
              "            padding-top: 2em;\n",
              "            padding-bottom: 2em;\n",
              "            padding-left: 1em;\n",
              "            padding-right: 1em;\n",
              "        }\n",
              "\n",
              "        .headerrow {\n",
              "            border: 1px solid #e1e1e8;\n",
              "            background-color: #f5f5f5;\n",
              "            padding: 2em;\n",
              "        }\n",
              "        .namecol {\n",
              "            margin-top: -1em;\n",
              "            overflow-x: auto;\n",
              "        }\n",
              "\n",
              "        .dl-horizontal dt {\n",
              "            text-align: left;\n",
              "            padding-right: 1em;\n",
              "            white-space: normal;\n",
              "        }\n",
              "\n",
              "        .dl-horizontal dd {\n",
              "            margin-left: 0;\n",
              "        }\n",
              "\n",
              "        .ignore {\n",
              "            opacity: 0.4;\n",
              "        }\n",
              "\n",
              "        .container.pandas-profiling {\n",
              "            max-width:975px;\n",
              "        }\n",
              "\n",
              "        .col-md-12 {\n",
              "            padding-left: 2em;\n",
              "        }\n",
              "\n",
              "        .indent {\n",
              "            margin-left: 1em;\n",
              "        }\n",
              "\n",
              "        .center-img {\n",
              "            margin-left: auto !important;\n",
              "            margin-right: auto !important;\n",
              "            display: block;\n",
              "        }\n",
              "\n",
              "        /* Table example_values */\n",
              "            table.example_values {\n",
              "                border: 0;\n",
              "            }\n",
              "\n",
              "            .example_values th {\n",
              "                border: 0;\n",
              "                padding: 0 ;\n",
              "                color: #555;\n",
              "                font-weight: 600;\n",
              "            }\n",
              "\n",
              "            .example_values tr, .example_values td{\n",
              "                border: 0;\n",
              "                padding: 0;\n",
              "                color: #555;\n",
              "            }\n",
              "\n",
              "        /* STATS */\n",
              "            table.stats {\n",
              "                border: 0;\n",
              "            }\n",
              "\n",
              "            .stats th {\n",
              "                border: 0;\n",
              "                padding: 0 2em 0 0;\n",
              "                color: #555;\n",
              "                font-weight: 600;\n",
              "            }\n",
              "\n",
              "            .stats tr {\n",
              "                border: 0;\n",
              "            }\n",
              "\n",
              "            .stats td{\n",
              "                color: #555;\n",
              "                padding: 1px;\n",
              "                border: 0;\n",
              "            }\n",
              "\n",
              "\n",
              "        /* Sample table */\n",
              "            table.sample {\n",
              "                border: 0;\n",
              "                margin-bottom: 2em;\n",
              "                margin-left:1em;\n",
              "            }\n",
              "            .sample tr {\n",
              "                border:0;\n",
              "            }\n",
              "            .sample td, .sample th{\n",
              "                padding: 0.5em;\n",
              "                white-space: nowrap;\n",
              "                border: none;\n",
              "\n",
              "            }\n",
              "\n",
              "            .sample thead {\n",
              "                border-top: 0;\n",
              "                border-bottom: 2px solid #ddd;\n",
              "            }\n",
              "\n",
              "            .sample td {\n",
              "                width:100%;\n",
              "            }\n",
              "\n",
              "\n",
              "        /* There is no good solution available to make the divs equal height and then center ... */\n",
              "            .histogram {\n",
              "                margin-top: 3em;\n",
              "            }\n",
              "        /* Freq table */\n",
              "\n",
              "            table.freq {\n",
              "                margin-bottom: 2em;\n",
              "                border: 0;\n",
              "            }\n",
              "            table.freq th, table.freq tr, table.freq td {\n",
              "                border: 0;\n",
              "                padding: 0;\n",
              "            }\n",
              "\n",
              "            .freq thead {\n",
              "                font-weight: 600;\n",
              "                white-space: nowrap;\n",
              "                overflow: hidden;\n",
              "                text-overflow: ellipsis;\n",
              "\n",
              "            }\n",
              "\n",
              "            td.fillremaining{\n",
              "                width:auto;\n",
              "                max-width: none;\n",
              "            }\n",
              "\n",
              "            td.number, th.number {\n",
              "                text-align:right ;\n",
              "            }\n",
              "\n",
              "        /* Freq mini */\n",
              "            .freq.mini td{\n",
              "                width: 50%;\n",
              "                padding: 1px;\n",
              "                font-size: 12px;\n",
              "\n",
              "            }\n",
              "            table.freq.mini {\n",
              "                 width:100%;\n",
              "            }\n",
              "            .freq.mini th {\n",
              "                overflow: hidden;\n",
              "                text-overflow: ellipsis;\n",
              "                white-space: nowrap;\n",
              "                max-width: 5em;\n",
              "                font-weight: 400;\n",
              "                text-align:right;\n",
              "                padding-right: 0.5em;\n",
              "            }\n",
              "\n",
              "            .missing {\n",
              "                color: #a94442;\n",
              "            }\n",
              "            .alert, .alert > th, .alert > td {\n",
              "                color: #a94442;\n",
              "            }\n",
              "\n",
              "\n",
              "        /* Bars in tables */\n",
              "            .freq .bar{\n",
              "                float: left;\n",
              "                width: 0;\n",
              "                height: 100%;\n",
              "                line-height: 20px;\n",
              "                color: #fff;\n",
              "                text-align: center;\n",
              "                background-color: #337ab7;\n",
              "                border-radius: 3px;\n",
              "                margin-right: 4px;\n",
              "            }\n",
              "            .other .bar {\n",
              "                background-color: #999;\n",
              "            }\n",
              "            .missing .bar{\n",
              "                background-color: #a94442;\n",
              "            }\n",
              "            .tooltip-inner {\n",
              "                width: 100%;\n",
              "                white-space: nowrap;\n",
              "                text-align:left;\n",
              "            }\n",
              "\n",
              "            .extrapadding{\n",
              "                padding: 2em;\n",
              "            }\n",
              "\n",
              "            .pp-anchor{\n",
              "\n",
              "            }\n",
              "\n",
              "</style>\n",
              "\n",
              "<div class=\"container pandas-profiling\">\n",
              "    <div class=\"row headerrow highlight\">\n",
              "        <h1>Overview</h1>\n",
              "    </div>\n",
              "    <div class=\"row variablerow\">\n",
              "    <div class=\"col-md-6 namecol\">\n",
              "        <p class=\"h4\">Dataset info</p>\n",
              "        <table class=\"stats\" style=\"margin-left: 1em;\">\n",
              "            <tbody>\n",
              "            <tr>\n",
              "                <th>Number of variables</th>\n",
              "                <td>7 </td>\n",
              "            </tr>\n",
              "            <tr>\n",
              "                <th>Number of observations</th>\n",
              "                <td>237609 </td>\n",
              "            </tr>\n",
              "            <tr>\n",
              "                <th>Total Missing (%)</th>\n",
              "                <td>0.0% </td>\n",
              "            </tr>\n",
              "            <tr>\n",
              "                <th>Total size in memory</th>\n",
              "                <td>12.7 MiB </td>\n",
              "            </tr>\n",
              "            <tr>\n",
              "                <th>Average record size in memory</th>\n",
              "                <td>56.0 B </td>\n",
              "            </tr>\n",
              "            </tbody>\n",
              "        </table>\n",
              "    </div>\n",
              "    <div class=\"col-md-6 namecol\">\n",
              "        <p class=\"h4\">Variables types</p>\n",
              "        <table class=\"stats\" style=\"margin-left: 1em;\">\n",
              "            <tbody>\n",
              "            <tr>\n",
              "                <th>Numeric</th>\n",
              "                <td>2 </td>\n",
              "            </tr>\n",
              "            <tr>\n",
              "                <th>Categorical</th>\n",
              "                <td>2 </td>\n",
              "            </tr>\n",
              "            <tr>\n",
              "                <th>Boolean</th>\n",
              "                <td>2 </td>\n",
              "            </tr>\n",
              "            <tr>\n",
              "                <th>Date</th>\n",
              "                <td>0 </td>\n",
              "            </tr>\n",
              "            <tr>\n",
              "                <th>Text (Unique)</th>\n",
              "                <td>1 </td>\n",
              "            </tr>\n",
              "            <tr>\n",
              "                <th>Rejected</th>\n",
              "                <td>0 </td>\n",
              "            </tr>\n",
              "            <tr>\n",
              "                <th>Unsupported</th>\n",
              "                <td>0 </td>\n",
              "            </tr>\n",
              "            </tbody>\n",
              "        </table>\n",
              "    </div>\n",
              "    <div class=\"col-md-12\" style=\"padding-left: 1em;\">\n",
              "        \n",
              "        <p class=\"h4\">Warnings</p>\n",
              "        <ul class=\"list-unstyled\"><li><a href=\"#pp_var_impression_time\"><code>impression_time</code></a> has a high cardinality: 36461 distinct values  <span class=\"label label-warning\">Warning</span></li> </ul>\n",
              "    </div>\n",
              "</div>\n",
              "    <div class=\"row headerrow highlight\">\n",
              "        <h1>Variables</h1>\n",
              "    </div>\n",
              "    <div class=\"row variablerow\">\n",
              "    <div class=\"col-md-3 namecol\">\n",
              "        <p class=\"h4 pp-anchor\" id=\"pp_var_app_code\">app_code<br/>\n",
              "            <small>Numeric</small>\n",
              "        </p>\n",
              "    </div><div class=\"col-md-6\">\n",
              "    <div class=\"row\">\n",
              "        <div class=\"col-sm-6\">\n",
              "            <table class=\"stats \">\n",
              "                <tr>\n",
              "                    <th>Distinct count</th>\n",
              "                    <td>490</td>\n",
              "                </tr>\n",
              "                <tr>\n",
              "                    <th>Unique (%)</th>\n",
              "                    <td>0.2%</td>\n",
              "                </tr>\n",
              "                <tr class=\"ignore\">\n",
              "                    <th>Missing (%)</th>\n",
              "                    <td>0.0%</td>\n",
              "                </tr>\n",
              "                <tr class=\"ignore\">\n",
              "                    <th>Missing (n)</th>\n",
              "                    <td>0</td>\n",
              "                </tr>\n",
              "                <tr class=\"ignore\">\n",
              "                    <th>Infinite (%)</th>\n",
              "                    <td>0.0%</td>\n",
              "                </tr>\n",
              "                <tr class=\"ignore\">\n",
              "                    <th>Infinite (n)</th>\n",
              "                    <td>0</td>\n",
              "                </tr>\n",
              "            </table>\n",
              "\n",
              "        </div>\n",
              "        <div class=\"col-sm-6\">\n",
              "            <table class=\"stats \">\n",
              "\n",
              "                <tr>\n",
              "                    <th>Mean</th>\n",
              "                    <td>249.1</td>\n",
              "                </tr>\n",
              "                <tr>\n",
              "                    <th>Minimum</th>\n",
              "                    <td>0</td>\n",
              "                </tr>\n",
              "                <tr>\n",
              "                    <th>Maximum</th>\n",
              "                    <td>522</td>\n",
              "                </tr>\n",
              "                <tr class=\"ignore\">\n",
              "                    <th>Zeros (%)</th>\n",
              "                    <td>0.0%</td>\n",
              "                </tr>\n",
              "            </table>\n",
              "        </div>\n",
              "    </div>\n",
              "</div>\n",
              "<div class=\"col-md-3 collapse in\" id=\"minihistogram-2647104349510590850\">\n",
              "    <img src=\"data:image/png;base64,iVBORw0KGgoAAAANSUhEUgAAAMgAAABLCAYAAAA1fMjoAAAABHNCSVQICAgIfAhkiAAAAAlwSFlzAAAPYQAAD2EBqD%2BnaQAAADl0RVh0U29mdHdhcmUAbWF0cGxvdGxpYiB2ZXJzaW9uIDMuMC4zLCBodHRwOi8vbWF0cGxvdGxpYi5vcmcvnQurowAAATVJREFUeJzt28FNw0AARUEHpSSKoCfO9JQi6GlpAD2RSNhr78w5h708fa8V38YYYwN%2B9Xb0AWBm96MPcCbvn4%2Bnfv/99fFPJ2EvFgSCBVnQs0u4beuuoQWBIBAIAoEgEAgCgSAQCAKBIBAIAoEgEAgCgSAQCAKBIBAIAoEgEAgCgSAQCAKBMN036b6XZiYWBIJAIAgEwnR3kL28ctdhPRYEwrILsgdv5M7PgkAQCASBQBAIBIFAEAgEr3kn49XwXATCn6warkcsCAKBIBAIAoHgkn4Bs/51/woXewsCQSAQBALhEneQWZ/BOT8LAuE2xhhHHwJmZUEgCASCQCAIBIJAIAgEgkAgCASCQCAIBIJAIAgEgkAgCASCQCAIBIJAIAgEgkAgCASCQCAIBIJAIAgEgkAg/ADUtCHUDCLwdQAAAABJRU5ErkJggg%3D%3D\">\n",
              "\n",
              "</div>\n",
              "<div class=\"col-md-12 text-right\">\n",
              "    <a role=\"button\" data-toggle=\"collapse\" data-target=\"#descriptives-2647104349510590850,#minihistogram-2647104349510590850\"\n",
              "       aria-expanded=\"false\" aria-controls=\"collapseExample\">\n",
              "        Toggle details\n",
              "    </a>\n",
              "</div>\n",
              "<div class=\"row collapse col-md-12\" id=\"descriptives-2647104349510590850\">\n",
              "    <ul class=\"nav nav-tabs\" role=\"tablist\">\n",
              "        <li role=\"presentation\" class=\"active\"><a href=\"#quantiles-2647104349510590850\"\n",
              "                                                  aria-controls=\"quantiles-2647104349510590850\" role=\"tab\"\n",
              "                                                  data-toggle=\"tab\">Statistics</a></li>\n",
              "        <li role=\"presentation\"><a href=\"#histogram-2647104349510590850\" aria-controls=\"histogram-2647104349510590850\"\n",
              "                                   role=\"tab\" data-toggle=\"tab\">Histogram</a></li>\n",
              "        <li role=\"presentation\"><a href=\"#common-2647104349510590850\" aria-controls=\"common-2647104349510590850\"\n",
              "                                   role=\"tab\" data-toggle=\"tab\">Common Values</a></li>\n",
              "        <li role=\"presentation\"><a href=\"#extreme-2647104349510590850\" aria-controls=\"extreme-2647104349510590850\"\n",
              "                                   role=\"tab\" data-toggle=\"tab\">Extreme Values</a></li>\n",
              "\n",
              "    </ul>\n",
              "\n",
              "    <div class=\"tab-content\">\n",
              "        <div role=\"tabpanel\" class=\"tab-pane active row\" id=\"quantiles-2647104349510590850\">\n",
              "            <div class=\"col-md-4 col-md-offset-1\">\n",
              "                <p class=\"h4\">Quantile statistics</p>\n",
              "                <table class=\"stats indent\">\n",
              "                    <tr>\n",
              "                        <th>Minimum</th>\n",
              "                        <td>0</td>\n",
              "                    </tr>\n",
              "                    <tr>\n",
              "                        <th>5-th percentile</th>\n",
              "                        <td>5</td>\n",
              "                    </tr>\n",
              "                    <tr>\n",
              "                        <th>Q1</th>\n",
              "                        <td>163</td>\n",
              "                    </tr>\n",
              "                    <tr>\n",
              "                        <th>Median</th>\n",
              "                        <td>213</td>\n",
              "                    </tr>\n",
              "                    <tr>\n",
              "                        <th>Q3</th>\n",
              "                        <td>385</td>\n",
              "                    </tr>\n",
              "                    <tr>\n",
              "                        <th>95-th percentile</th>\n",
              "                        <td>469</td>\n",
              "                    </tr>\n",
              "                    <tr>\n",
              "                        <th>Maximum</th>\n",
              "                        <td>522</td>\n",
              "                    </tr>\n",
              "                    <tr>\n",
              "                        <th>Range</th>\n",
              "                        <td>522</td>\n",
              "                    </tr>\n",
              "                    <tr>\n",
              "                        <th>Interquartile range</th>\n",
              "                        <td>222</td>\n",
              "                    </tr>\n",
              "                </table>\n",
              "            </div>\n",
              "            <div class=\"col-md-4 col-md-offset-2\">\n",
              "                <p class=\"h4\">Descriptive statistics</p>\n",
              "                <table class=\"stats indent\">\n",
              "                    <tr>\n",
              "                        <th>Standard deviation</th>\n",
              "                        <td>135.21</td>\n",
              "                    </tr>\n",
              "                    <tr>\n",
              "                        <th>Coef of variation</th>\n",
              "                        <td>0.54281</td>\n",
              "                    </tr>\n",
              "                    <tr>\n",
              "                        <th>Kurtosis</th>\n",
              "                        <td>-0.8606</td>\n",
              "                    </tr>\n",
              "                    <tr>\n",
              "                        <th>Mean</th>\n",
              "                        <td>249.1</td>\n",
              "                    </tr>\n",
              "                    <tr>\n",
              "                        <th>MAD</th>\n",
              "                        <td>113.3</td>\n",
              "                    </tr>\n",
              "                    <tr class=\"\">\n",
              "                        <th>Skewness</th>\n",
              "                        <td>-0.074578</td>\n",
              "                    </tr>\n",
              "                    <tr>\n",
              "                        <th>Sum</th>\n",
              "                        <td>59188395</td>\n",
              "                    </tr>\n",
              "                    <tr>\n",
              "                        <th>Variance</th>\n",
              "                        <td>18283</td>\n",
              "                    </tr>\n",
              "                    <tr>\n",
              "                        <th>Memory size</th>\n",
              "                        <td>1.8 MiB</td>\n",
              "                    </tr>\n",
              "                </table>\n",
              "            </div>\n",
              "        </div>\n",
              "        <div role=\"tabpanel\" class=\"tab-pane col-md-8 col-md-offset-2\" id=\"histogram-2647104349510590850\">\n",
              "            <img src=\"data:image/png;base64,iVBORw0KGgoAAAANSUhEUgAAAlgAAAGQCAYAAAByNR6YAAAABHNCSVQICAgIfAhkiAAAAAlwSFlzAAAPYQAAD2EBqD%2BnaQAAADl0RVh0U29mdHdhcmUAbWF0cGxvdGxpYiB2ZXJzaW9uIDMuMC4zLCBodHRwOi8vbWF0cGxvdGxpYi5vcmcvnQurowAAIABJREFUeJzt3Xt0VNX9//9XkpFEEnIDgnwjNZRLJJmAgBIN1JAgUFBQMFzisjYtKLeSlQgtKiJQUWgBUcAFpF1QqXw%2BToOtAhVhUS71QttPW6GTAbQErDQrkAgzhIQkkOT8/uDHtGNAom6YGXg%2B1mJZ9p6z9z7vtZO%2BOOfkJMSyLEsAAAAwJtTfCwAAALjeELAAAAAMI2ABAAAYRsACAAAwjIAFAABgGAELAADAMAIWAACAYQQsAAAAwwhYAAAAhhGwAAAADCNgAQAAGEbAAgAAMIyABQAAYBgBCwAAwDACFgAAgGEELAAAAMMIWAAAAIYRsAAAAAwjYAEAABhGwAIAADCMgAUAAGAYAQsAAMAwAhYAAIBhBCwAAADDCFgAAACGEbAAAAAMI2ABAAAYRsACAAAwjIAFAABgGAELAADAMAIWAACAYQQsAAAAwwhYAAAAhhGwAAAADCNgAQAAGEbAAgAAMIyABQAAYBgBCwAAwDACFgAAgGE2fy/gy6xatUobNmxQdXW17rjjDi1YsEC33nqr9u7dq6VLl%2BrIkSPq2LGjJk2apJEjR3qPW79%2BvTZs2KDKykolJydr9uzZstvtkqT6%2Bnq98MIL2r17t%2Brr65Wenq758%2BcrLi5OklRWVqb58%2Bdr//79at26tYYPH64ZM2YoNPSbZdHKyjPf6PhLCQ0NUXx8pE6dqlFTk2V8/BsJtTSLeppFPc2hlmYFQz3bt2/jl3kD9grWhg0btGnTJq1fv17vv/%2B%2Bunbtql/96leqqKjQ1KlTNX78eO3du1ezZ8/WnDlz5HQ6JUk7d%2B7UihUr9POf/1wffvihsrKyNHnyZJ09e1aStGzZMrlcLjkcDm3btk2WZenpp5/2zjt9%2BnR16NBBO3bs0Lp167Rjxw699tprfqnBlYSGhigkJEShoSH%2BXkrQo5ZmUU%2BzqKc51NIs6nl5ARuw1q5dq8LCQn37299WVFSUnn32WT377LPavHmzkpKSlJOTo/DwcGVkZCg7O1vFxcWSJIfDodGjR6tXr16KiIjQxIkTJUm7du1SQ0ODNm7cqKlTp6pjx46KjY1VQUGBdu/erRMnTsjpdOrQoUOaOXOm2rRpo6SkJOXl5cnhcPizFAAAIMgE5C3CEydO6N///rdOnz6t4cOH6%2BTJk0pPT9e8efPkcrmUkpLi8/mUlBRt3bpVkuRyuTR8%2BHBvX2hoqHr06CGn06kePXrozJkzSk1N9fZ36dJFERERcrlcqqioUGJiomJiYrz9qampOnr0qKqrqxUVFdWi9VdUVKiystKnzWZrrYSEhK9ciy8TFhbq8198fdTSLOppFvU0h1qaRT0vLyAD1vHjxyVJ7777rtatWyfLspSfn69nn31WdXV16tChg8/nY2Nj5Xa7JUkej8cnIElSTEyM3G63PB6PJCk6OtqnPzo62tv/xb6LY7nd7hYHLIfDoZUrV/q0TZs2Tfn5%2BS06/quKjr75qox7I6KWZlFPs6inOdTSLOrZXEAGLMu68KDcxIkTvWFq%2BvTpevzxx5WRkdHi479O/5WObYlx48YpOzvbp81may23u%2BYbj/3fwsJCFR19s6qqatXY2GR07BsNtTSLeppFPc2hlmYFQz3j4iL9Mm9ABqx27dpJ8r3SlJiYKMuydP78ee%2BVqIvcbrfi4%2BMlSXFxcc36PR6PunXr5v2Mx%2BNRZOR/Cn769Gm1bdtWjY2Nlzw2JCTEe2xLJCQkNLsdWFl5Rg0NV2fzNTY2XbWxbzTU0izqaRb1NIdamkU9mwvIm6a33HKLoqKidPDgQW9bWVmZbrrpJmVmZqqkpMTn8yUlJerVq5ckyW63y%2BVyefsaGxt14MAB9erVS506dVJMTIxP/yeffKJz587JbrfLbrervLxcp06d8vY7nU517drVJ5ABAAB8mYAMWDabTTk5OVq9erX%2B9a9/6eTJk3r11Vc1YsQIjRo1SmVlZSouLlZ9fb327NmjPXv2aOzYsZKk3NxcvfXWW9q3b59qa2u1atUqtWrVSgMHDlRYWJjGjh2r1atXq7y8XG63Wy%2B99JIGDx6sdu3aKSUlRWlpaVq6dKmqq6tVWlqqdevWKTc3188VAQAAwSQgbxFK0owZM3Tu3DmNGTNG58%2Bf19ChQ/Xss88qMjJSa9as0YIFCzR//nwlJiZq8eLFuv322yVJ9957r5588kkVFBTo5MmTSktLU1FRkSIiIiRJ%2Bfn5qqmp0YMPPqiGhgZlZWVp3rx53nmXL1%2BuOXPmqH///oqKitL48eP1yCOP%2BKMEAAAgSIVYJp7qxhVdjTe522yhiouLlNtdw73vb4hamkU9zaKe5lBLs4KhnrzJHQAA4DpBwAIAADCMgAUAAGAYAQsAAMCwgP0pQgBfzbCXP/D3Elpsa0F/fy8BAK4qrmABAAAYRsACAAAwjIAFAABgGAELAADAMAIWAACAYQQsAAAAwwhYAAAAhhGwAAAADCNgAQAAGEbAAgAAMIyABQAAYBgBCwAAwDACFgAAgGE2fy8AAHDjGvbyB/5ewleytaC/v5eAIMEVLAAAAMMIWAAAAIYRsAAAAAwjYAEAABhGwAIAADCMgAUAAGAYAQsAAMAwAhYAAIBhBCwAAADDCFgAAACGEbAAAAAMI2ABAAAYRsACAAAwjIAFAABgGAELAADAMAIWAACAYQQsAAAAwwhYAAAAhhGwAAAADCNgAQAAGEbAAgAAMIyABQAAYFjABqzk5GTZ7XalpaV5/zz//POSpL179yonJ0d9%2BvTR/fffr02bNvkcu379eg0dOlR9%2BvRRbm6uSkpKvH319fV67rnndO%2B99yo9PV35%2Bflyu93e/rKyMj3xxBNKT09XVlaWFi9erKampmtz0gAA4Lpg8/cCvsy7776rW2%2B91aetoqJCU6dO1ezZszVixAj97W9/05QpU9S5c2elpaVp586dWrFihX75y18qOTlZ69ev1%2BTJk7V9%2B3a1bt1ay5Ytk8vlksPh0M0336w5c%2Bbo6aef1urVqyVJ06dPV2pqqnbs2KGTJ09q0qRJateunX7wgx/4owQAACAIBewVrMvZvHmzkpKSlJOTo/DwcGVkZCg7O1vFxcWSJIfDodGjR6tXr16KiIjQxIkTJUm7du1SQ0ODNm7cqKlTp6pjx46KjY1VQUGBdu/erRMnTsjpdOrQoUOaOXOm2rRpo6SkJOXl5cnhcPjzlAEAQJAJ6IC1dOlSDRw4UHfeeafmzJmjmpoauVwupaSk%2BHwuJSXFexvwi/2hoaHq0aOHnE6nPvvsM505c0apqane/i5duigiIkIul0sul0uJiYmKiYnx9qempuro0aOqrq6%2BymcLAACuFwF7i/COO%2B5QRkaGfvazn%2BnYsWMqKCjQ/Pnz5fF41KFDB5/PxsbGep%2Bj8ng8PgFJkmJiYuR2u%2BXxeCRJ0dHRPv3R0dHe/i/2XRzL7XYrKiqqRWuvqKhQZWWlT5vN1loJCQktOr6lwsJCff6Lr49aXls2G3X%2BKtifgYO964u9eXkBG7D%2B%2B7Zcly5dNHPmTE2ZMkV9%2B/a94rGWZX3t/isd2xIOh0MrV670aZs2bZry8/O/8diXEh1981UZ90ZELa%2BNuLhIfy8hKLE//Y%2B9e2nszeYCNmB90a233qrGxkaFhoZ6r0Rd5Ha7FR8fL0mKi4tr1u/xeNStWzfvZzwejyIj//NFcvr0abVt21aNjY2XPDYkJMR7bEuMGzdO2dnZPm02W2u53TUtHqMlwsJCFR19s6qqatXYyE86fhPU8toy/bVwvWN/Bg72rq9g2Jv%2BCsUBGbAOHDigTZs26amnnvK2lZaWqlWrVsrMzNTvfvc7n8%2BXlJSoV69ekiS73S6Xy6VRo0ZJkhobG3XgwAHl5OSoU6dOiomJ8T5rJUmffPKJzp07J7vdroqKCpWXl%2BvUqVPeQOV0OtW1a1efQHYlCQkJzW4HVlaeUUPD1dl8jY1NV23sGw21vDao8dfD/vQ/6n9p7M3mAvKmadu2beVwOFRUVKRz587p6NGjeuWVVzRu3Dg9%2BOCDKisrU3Fxserr67Vnzx7t2bNHY8eOlSTl5ubqrbfe0r59%2B1RbW6tVq1apVatWGjhwoMLCwjR27FitXr1a5eXlcrvdeumllzR48GC1a9dOKSkpSktL09KlS1VdXa3S0lKtW7dOubm5fq4IAAAIJgF5BatDhw4qKirS0qVLvQFp1KhRKiwsVHh4uNasWaMFCxZo/vz5SkxM1OLFi3X77bdLku699149%2BeSTKigo0MmTJ5WWlqaioiJFRERIkvLz81VTU6MHH3xQDQ0NysrK0rx587xzL1%2B%2BXHPmzFH//v0VFRWl8ePH65FHHvFHGQAAQJAKsUw81Y0rqqw8Y3xMmy1UcXGRcrtruDT7DV0PtRz28gf%2BXkKLbS3o7%2B8lBJXrYX9eTjDtW4m9%2B0XBsDfbt2/jl3kD8hYhAABAMCNgAQAAGEbAAgAAMIyABQAAYBgBCwAAwDACFgAAgGEELAAAAMMIWAAAAIYRsAAAAAwjYAEAABhGwAIAADCMgAUAAGAYAQsAAMAwAhYAAIBhBCwAAADDCFgAAACGEbAAAAAMI2ABAAAYRsACAAAwjIAFAABgGAELAADAMAIWAACAYQQsAAAAwwhYAAAAhhGwAAAADCNgAQAAGEbAAgAAMIyABQAAYBgBCwAAwDACFgAAgGEELAAAAMMIWAAAAIYRsAAAAAwjYAEAABhGwAIAADCMgAUAAGAYAQsAAMAwAhYAAIBhBCwAAADDCFgAAACGEbAAAAAMI2ABAAAYFhQB68UXX1RycrL373v37lVOTo769Omj%2B%2B%2B/X5s2bfL5/Pr16zV06FD16dNHubm5Kikp8fbV19frueee07333qv09HTl5%2BfL7XZ7%2B8vKyvTEE08oPT1dWVlZWrx4sZqamq7%2BSQIAgOtGwAesgwcP6u233/b%2BvaKiQlOnTtX48eO1d%2B9ezZ49W3PmzJHT6ZQk7dy5UytWrNDPf/5zffjhh8rKytLkyZN19uxZSdKyZcvkcrnkcDi0bds2WZalp59%2B2jv%2B9OnT1aFDB%2B3YsUPr1q3Tjh079Nprr13bkwYAAEEtoANWU1OT5s6dq7y8PG/b5s2blZSUpJycHIWHhysjI0PZ2dkqLi6WJDkcDo0ePVq9evVSRESEJk6cKEnatWuXGhoatHHjRk2dOlUdO3ZUbGysCgoKtHv3bp04cUJOp1OHDh3SzJkz1aZNGyUlJSkvL08Oh8Mfpw8AAIJUQAesN954Q%2BHh4RoxYoS3zeVyKSUlxedzKSkp3tuAX%2BwPDQ1Vjx495HQ69dlnn%2BnMmTNKTU319nfp0kURERFyuVxyuVxKTExUTEyMtz81NVVHjx5VdXX11TpNAABwnbH5ewGX8/nnn2vFihX69a9/7dPu8XjUoUMHn7bY2Fjvc1Qej8cnIElSTEyM3G63PB6PJCk6OtqnPzo62tv/xb6LY7ndbkVFRbVo7RUVFaqsrPRps9laKyEhoUXHt1RYWKjPf/H1Uctry2ajzl8F%2BzNwsHd9sTcvL2AD1sKFCzV69Gh17dpV//73v7/SsZZlfe3%2BKx3bEg6HQytXrvRpmzZtmvLz87/x2JcSHX3zVRn3RkQtr424uEh/LyEosT/9j717aezN5gIyYO3du1cfffSRtmzZ0qwvLi7OeyXqIrfbrfj4%2BMv2ezwedevWzfsZj8ejyMj/fJGcPn1abdu2VWNj4yWPDQkJ8R7bEuPGjVN2drZPm83WWm53TYvHaImwsFBFR9%2BsqqpaNTbyk47fBLW8tkx/LVzv2J%2BBg73rKxj2pr9CcUAGrE2bNunkyZPKysqS9J%2BrSunp6frhD3/YLHiVlJSoV69ekiS73S6Xy6VRo0ZJkhobG3XgwAHl5OSoU6dOiomJ8T5rJUmffPKJzp07J7vdroqKCpWXl%2BvUqVPeQOV0OtW1a1efQHYlCQkJzW4HVlaeUUPD1dl8jY1NV23sGw21vDao8dfD/vQ/6n9p7M3mAvKm6VNPPaVt27bp7bff1ttvv62ioiJJ0ttvv60RI0aorKxMxcXFqq%2Bv1549e7Rnzx6NHTtWkpSbm6u33npL%2B/btU21trVatWqVWrVpp4MCBCgsL09ixY7V69WqVl5fL7XbrpZde0uDBg9WuXTulpKQoLS1NS5cuVXV1tUpLS7Vu3Trl5ub6sxwAACDIBOQVrJiYGJ8H1RsaGiRJt9xyiyRpzZo1WrBggebPn6/ExEQtXrxYt99%2BuyTp3nvv1ZNPPqmCggKdPHlSaWlpKioqUkREhCQpPz9fNTU1evDBB9XQ0KCsrCzNmzfPO9fy5cs1Z84c9e/fX1FRURo/frweeeSRa3TmAADgehBimXiqG1dUWXnG%2BJg2W6ji4iLldtdwafYbuh5qOezlD/y9hBbbWtDf30sIKtfD/rycYNq3Env3i4Jhb7Zv38Yv8wbkLUIAAIBgRsACAAAwjIAFAABgGAELAADAMAIWAACAYQQsAAAAwwhYAAAAhhGwAAAADCNgAQAAGEbAAgAAMIyABQAAYJjxgJWdna2VK1eqvLzc9NAAAABBwXjAevjhh/XOO%2B/ovvvu08SJE7V9%2B3Y1NDSYngYAACBgGQ9Y06ZN0zvvvKPf/OY36tatm1588UVlZmZq8eLFOnr0qOnpAAAAAs5VewYrNTVVs2bN0q5du/TMM8/oN7/5jYYPH64JEyboH//4x9WaFgAAwO%2BuWsA6f/683nnnHT3%2B%2BOOaNWuWOnTooKefflo9evRQXl6eNm/efLWmBgAA8Cub6QFLS0u1ceNGvfXWW6qpqdHQoUP12muvqW/fvt7P3HXXXZo3b55GjBhhenoAAAC/Mx6w7r//fnXu3FmTJk3SQw89pNjY2GafyczM1KlTp0xPDQAAEBCMB6z169erX79%2BV/zc/v37TU8NAAAQEIw/g5WcnKzJkydrx44d3rZf/epXevzxx%2BXxeExPBwAAEHCMB6yFCxfqzJkz6tq1q7dt4MCBampq0qJFi0xPBwAAEHCM3yJ8//33tXnzZsXFxXnbkpKStGTJEj3wwAOmpwMAAAg4xq9g1dXVKTw8vPlEoaGqra01PR0AAEDAMR6w7rrrLi1atEinT5/2tp04cULz58/3eVUDAADA9cr4LcJnnnlGP/zhD3XPPfcoKipKTU1NqqmpUadOnfTrX//a9HQAAAABx3jA6tSpk37/%2B9/rj3/8oz777DOFhoaqc%2BfOGjBggMLCwkxPBwAAEHCMByxJatWqle67776rMTQAAEDAMx6wjh07pqVLl%2Bqf//yn6urqmvX/4Q9/MD0lAABAQLkqz2BVVFRowIABat26tenhAQAAAp7xgFVSUqI//OEPio%2BPNz00AABAUDD%2Bmoa2bdty5QoAANzQjAesSZMmaeXKlbIsy/TQAAAAQcH4LcI//vGP%2Bvvf/67f/va3uvXWWxUa6pvh3njjDdNTAgAABBTjASsqKkr33nuv6WEBAACChvGAtXDhQtNDAgAABBXjz2BJ0pEjR7RixQo9/fTT3raPPvroakwFAAAQcIwHrL1792rkyJHavn27tmzZIunCy0cfe%2BwxXjIKAABuCMYD1rJly/TjH/9YmzdvVkhIiKQLv59w0aJFevXVV01PBwAAEHCMB6xPPvlEubm5kuQNWJL03e9%2BV6WlpaanAwAACDjGA1abNm0u%2BTsIKyoq1KpVK9PTAQAABBzjAatPnz568cUXVV1d7W07evSoZs2apXvuucf0dAAAAAHH%2BGsann76aX3/%2B99Xenq6Ghsb1adPH9XW1qpbt25atGiR6ekAAAACjvGAdcstt2jLli3as2ePjh49qoiICHXu3Fn9%2B/f3eSbrSg4dOqSFCxeqpKRE4eHh6tevn2bPnq327dtr7969Wrp0qY4cOaKOHTtq0qRJGjlypPfY9evXa8OGDaqsrFRycrJmz54tu90uSaqvr9cLL7yg3bt3q76%2BXunp6Zo/f77i4uIkSWVlZZo/f77279%2Bv1q1ba/jw4ZoxY0azN9IDAABczlVJDTfddJPuu%2B8%2BPf744/re976nAQMGfKVwde7cOf3whz9Uv379tHfvXm3ZskUnT57UvHnzVFFRoalTp2r8%2BPHau3evZs%2BerTlz5sjpdEqSdu7cqRUrVujnP/%2B5PvzwQ2VlZWny5Mk6e/aspAs/5ehyueRwOLRt2zZZluXzvq7p06erQ4cO2rFjh9atW6cdO3botddeM1sgAABwXTN%2BBSs7O/tLw1RL3oVVW1urwsJCjRo1SjabTfHx8Ro8eLBef/11bd68WUlJScrJyZEkZWRkKDs7W8XFxUpLS5PD4dDo0aPVq1cvSdLEiRO1fv167dq1S0OHDtXGjRv1s5/9TB07dpQkFRQU6P7779eJEydUUVGhQ4cOad26dWrTpo3atGmjvLw8vfbaa/rBD35goDrm3Tn7XX8vocW2FvT39xIAALgmjAes4cOH%2BwSsxsZGHT16VE6nU9///vdbNEZMTIzGjBnj/fuRI0f0u9/9TsOGDZPL5VJKSorP51NSUrR161ZJksvl0vDhw719oaGh6tGjh5xOp3r06KEzZ84oNTXV29%2BlSxdFRETI5XKpoqJCiYmJiomJ8fanpqbq6NGjqq6uVlRUVIvWX1FRocrKSp82m621EhISWnR8S4WFBddtS5stcNd7sZbBVtNgFch7IRCxPwMHe9cXe/PyjAesmTNnXrJ927Zt%2BvOf//yVxiorK9PQoUPV0NCgsWPHKj8/X48//rg6dOjg87nY2Fi53W5Jksfj8QlI0oXA5na75fF4JEnR0dE%2B/dHR0d7%2BL/ZdHMvtdrc4YDkcDq1cudKnbdq0acrPz2/R8deruLhIfy/hiqKjb/b3Em4IwbAXAhH70//Yu5fG3mzOeMC6nPvuu0/PPfecnnvuuRYfk5iYKKfTqX/961967rnn9JOf/KRFx1mW9bX7r3RsS4wbN07Z2dk%2BbTZba7ndNd947P8WbP9iMH3%2BJoWFhSo6%2BmZVVdWqsbHJ38u57gXyXghE7M/Awd71FQx701%2Bh%2BJoFrAMHDnyt8BISEqKkpCQVFhZq/PjxyszM9F6Jusjtdis%2BPl6SFBcX16zf4/GoW7du3s94PB5FRv6n4KdPn1bbtm3V2Nh4yWNDQkK8x7ZEQkJCs9uBlZVn1NAQmJvvWgmG829sbAqKdQY7avz1sD/9j/pfGnuzOeMBa/z48c3aamtrVVpaqiFDhrRojL1792revHnaunWr9/UIF//bs2dPbdu2zefzJSUl3ofa7Xa7XC6XRo0aJenCM2AHDhxQTk6OOnXqpJiYGLlcLiUmJkq68Kt9zp07J7vdroqKCpWXl%2BvUqVPeQOV0OtW1a1efQAYAAPBljN9jSkpKUufOnX3%2B9O7dW7NmzdKLL77YojHsdruqq6u1ePFi1dbW6tSpU1qxYoXuvPNO5ebmqqysTMXFxaqvr9eePXu0Z88ejR07VpKUm5urt956S/v27VNtba1WrVqlVq1aaeDAgQoLC9PYsWO1evVqlZeXy%2B1266WXXtLgwYPVrl07paSkKC0tTUuXLlV1dbVKS0u1bt067%2B9WBAAAaAnjV7BMvK29TZs2Wrt2rRYsWKC7775brVu31t13360XXnhBbdu21Zo1a7RgwQLNnz9fiYmJWrx4sW6//XZJ0r333qsnn3xSBQUFOnnypNLS0lRUVKSIiAhJUn5%2BvmpqavTggw%2BqoaFBWVlZmjdvnnfu5cuXa86cOerfv7%2BioqI0fvx4PfLII9/4nAAAwI0jxDLxVPd/eeutt1r82Yceesjk1AGtsvKM8TFttlANXvKe8XGvlkB%2BD5bNFqq4uEi53TVB%2BxzBsJc/8PcSWiyQ90Iguh725%2BUE076V2LtfFAx7s337Nn6Z1/gVrNmzZ6upqanZA%2B0hISE%2BbSEhITdUwAIAADcO4wHrl7/8pdauXavJkycrOTlZlmXp448/1i9%2B8Qs9%2BuijSk9PNz0lAABAQLkqz2AVFRX5vAz0zjvvVKdOnTRhwgRt2bLF9JQAAAABxfhPEX766afN3qQuXXhbellZmenpAAAAAo7xgJWYmKhFixZ5f3WNJFVVVWnp0qX61re%2BZXo6AACAgGP8FuEzzzyjGTNmyOFwKDIyUqGhoaqurlZERIReffVV09MBAAAEHOMBa8CAAdq9e7f27Nmj48ePy7IsdejQQd/5znfUpo1/flQSAADgWroqv4vw5ptv1qBBg3T8%2BHF16tTpakwBAAAQsIw/g1VXV6dZs2apd%2B/eGjZsmKQLz2BNnDhRVVVVpqcDAAAIOMYD1uLFi3Xw4EEtWbLE%2BwuapQu/dHnJkiWmpwMAAAg4xgPWtm3btHz5cn33u99VSEiIpAuvaFi4cKG2b99uejoAAICAYzxg1dTUKCkpqVl7fHy8zp49a3o6AACAgGM8YH3rW9/Sn//8Z0ny%2Bd2D7777rv7f//t/pqcDAAAIOMZ/ivCRRx7R9OnT9fDDD6upqUnr1q1TSUmJtm3bptmzZ5ueDrhqhr38gb%2BXAAAIUsYD1rhx42Sz2fT6668rLCxMq1evVufOnbVkyRJ997vfNT0dAABAwDEesE6dOqWHH35YDz/8sOmhAQAAgoLxZ7AGDRrk8%2BwVAADAjcZ4wEpPT9fWrVtNDwsAABA0jN8i7Nixo1544QUVFRXpW9/6lm666Saf/qVLl5qeEgAAIKAYD1iHDx/Wt7/9bUmS2%2B02PTwAAEDAMxawCgsLtWzZMv3617/2tr366quaNm2aqSkAAACCgrFnsHbu3NmsraioyNTwAAAAQcNYwLrUTw7y04QAAOBGZCxgXfzFzldqAwAAuN4Zf00DAADAjY6ABQAAYJixnyI8f/68ZsyYccU23oMFAACud8YCVt%2B%2BfVVRUXHFNgAAgOudsYD13%2B%2B/AgAAuJHxDBYAAIBhBCwAAADDjP8uQgC4kmEvf%2BDvJXwlWwv6%2B3sJAIIMV7AAAADCSTI%2BAAAXC0lEQVQMI2ABAAAYRsACAAAwjIAFAABgGAELAADAMAIWAACAYQQsAAAAwwhYAAAAhhGwAAAADAvYgFVWVqZp06YpPT1dGRkZeuqpp1RVVSVJOnjwoB599FH17dtXQ4YM0dq1a32OfeeddzRixAj17t1bo0eP1vvvv%2B/ta2pq0rJlyzRo0CDdddddmjBhgo4dO%2Bbt93g8KigoUEZGhgYMGKDZs2errq7u2pw0AAC4LgRswJo8ebKio6O1c%2BdO/fa3v9U///lP/exnP1NdXZ0mTZqku%2B%2B%2BW%2B%2B9956WLVumNWvWaPv27ZIuhK9Zs2Zp5syZ%2BtOf/qS8vDz96Ec/0vHjxyVJGzZs0ObNm1VUVKRdu3YpKSlJ06ZNk2VZkqQ5c%2BaotrZWW7Zs0ZtvvqnS0lItWbLEb3UAAADBJyADVlVVlex2u2bMmKHIyEjdcsstGjVqlP76179q9%2B7dOn/%2BvKZMmaLWrVsrNTVVY8aMkcPhkCQVFxcrMzNTmZmZCg8P18iRI9W9e3dt2rRJkuRwOJSXl6cuXbooKipKhYWFKi0t1f79%2B/X5559rx44dKiwsVHx8vDp06KCpU6fqzTff1Pnz5/1ZEgAAEEQCMmBFR0dr4cKFateunbetvLxcCQkJcrlcSk5OVlhYmLcvJSVFJSUlkiSXy6WUlBSf8VJSUuR0OlVXV6fDhw/79EdFRem2226T0%2BnUwYMHFRYWpuTkZG9/amqqzp49qyNHjlyt0wUAANcZm78X0BJOp1Ovv/66Vq1apa1btyo6OtqnPzY2Vh6PR01NTfJ4PIqJifHpj4mJ0eHDh3X69GlZlnXJfrfbrdjYWEVFRSkkJMSnT5LcbneL11tRUaHKykqfNputtRISElo8RkuEhQVkPr4smy1w13uxlsFWU1wb/t677M/A4e%2B9EGjYm5cX8AHrb3/7m6ZMmaIZM2YoIyNDW7duveTn/jsUXXye6nK%2BrP9Kx7aEw%2BHQypUrfdqmTZum/Pz8bzx2MIuLi/T3Eq4oOvpmfy8BAShQ9i770/8CZS8EGvZmcwEdsHbu3Kkf//jHmjNnjh566CFJUnx8vD799FOfz3k8HsXGxio0NFRxcXHyeDzN%2BuPj472fuVR/27ZtFR8fr%2BrqajU2NnpvQV78bNu2bVu87nHjxik7O9unzWZrLbe7psVjtESw/YvB9PmbFBYWqujom1VVVavGxiZ/LwcBxt97l/0ZOPy9FwJNMOxNf4XigA1Yf//73zVr1iy98sorGjBggLfdbrfrf//3f9XQ0CCb7cLynU6nevXq5e2/%2BDzWRU6nU/fff7/Cw8PVrVs3uVwu9evXT9KFB%2Bo/%2B%2Bwz9ezZU4mJibIsS4cOHVJqaqr32OjoaHXu3LnFa09ISGh2O7Cy8owaGgJz810rwXD%2BjY1NQbFOXFuBsifYn/5H/S%2BNvdlcQF4CaWho0LPPPquZM2f6hCtJyszMVFRUlFatWqXa2lrt379fGzduVG5uriRp7Nix%2BvDDD7V7927V19dr48aN%2BvTTTzVy5EhJUm5urtavX6/S0lJVV1dryZIl6tGjh9LS0hQfH6%2BhQ4fq5Zdf1qlTp3T8%2BHG9%2BuqrysnJ8YY5AACAKwnI1LBv3z6VlpZqwYIFWrBggU/fu%2B%2B%2Bq9WrV2vu3LkqKipSu3btVFhYqIEDB0qSunfvriVLlmjhwoUqKytT165dtWbNGrVv316SNH78eFVWVup73/ueampqlJ6e7vO81E9/%2BlPNnTtXgwYN0k033aQHHnhAhYWF1%2BzcAQBA8AuxTDzVjSuqrDxjfEybLVSDl7xnfNyrZWtBf38v4bJstlDFxUXK7a7xXuYe9vIHfl4VAoW/9%2B6l9uf1Iti%2Bzvy9FwJNMOzN9u3b%2BGXegLxFCAAAEMwIWAAAAIYRsAAAAAwjYAEAABhGwAIAADCMgAUAAGAYAQsAAMAwAhYAAIBhBCwAAADDCFgAAACGEbAAAAAMI2ABAAAYRsACAAAwjIAFAABgGAELAADAMAIWAACAYQQsAAAAwwhYAAAAhhGwAAAADCNgAQAAGEbAAgAAMIyABQAAYJjN3wsAgEA37OUP/L2Er2RrQX9/LwG44XEFCwAAwDACFgAAgGEELAAAAMN4BgsAgBbieTy0FFewAAAADCNgAQAAGEbAAgAAMIyABQAAYBgBCwAAwDACFgAAgGEELAAAAMMIWAAAAIYRsAAAAAwjYAEAABhGwAIAADCMgAUAAGAYAQsAAMAwAhYAAIBhBCwAAADDAjpgvffee8rIyFBhYWGzvnfeeUcjRoxQ7969NXr0aL3//vvevqamJi1btkyDBg3SXXfdpQkTJujYsWPefo/Ho4KCAmVkZGjAgAGaPXu26urqvP0HDx7Uo48%2Bqr59%2B2rIkCFau3bt1T1RAABwXQnYgPWLX/xCCxYs0G233das7%2BDBg5o1a5ZmzpypP/3pT8rLy9OPfvQjHT9%2BXJK0YcMGbd68WUVFRdq1a5eSkpI0bdo0WZYlSZozZ45qa2u1ZcsWvfnmmyotLdWSJUskSXV1dZo0aZLuvvtuvffee1q2bJnWrFmj7du3X7uTBwAAQS1gA1Z4eLg2btx4yYBVXFyszMxMZWZmKjw8XCNHjlT37t21adMmSZLD4VBeXp66dOmiqKgoFRYWqrS0VPv379fnn3%2BuHTt2qLCwUPHx8erQoYOmTp2qN998U%2BfPn9fu3bt1/vx5TZkyRa1bt1ZqaqrGjBkjh8NxrUsAAACClM3fC7icxx577LJ9LpdLmZmZPm0pKSlyOp2qq6vT4cOHlZKS4u2LiorSbbfdJqfTqTNnzigsLEzJycne/tTUVJ09e1ZHjhyRy%2BVScnKywsLCfMYuLi5u8dorKipUWVnp02aztVZCQkKLx2iJsLCAzceXZLMF7nov1jLYagpcSiB/reHautp7ge%2BdlxewAevLeDwexcTE%2BLTFxMTo8OHDOn36tCzLumS/2%2B1WbGysoqKiFBIS4tMnSW63Wx6PR9HR0T7HxsbGyuPxqKmpSaGhV95EDodDK1eu9GmbNm2a8vPzv9J5Xm/i4iL9vYQrio6%2B2d9LAL6xYPhaw7VxrfYC3zubC8qAJcn7PNXX6b/SsZfy34HsSsaNG6fs7GyfNputtdzumq8875cJtn8xmD5/k8LCQhUdfbOqqmrV2Njk7%2BUA30ggf63h2rraeyEYvnf66x8cQRmw4uLi5PF4fNo8Ho/i4%2BMVGxur0NDQS/a3bdtW8fHxqq6uVmNjo/c24MXPXuz/9NNPmx17cdyWSEhIaHY7sLLyjBoaAnPzXSvBcP6NjU1BsU7gy7CHcdG12gt872wuuC6B/P/sdrtKSkp82pxOp3r16qXw8HB169ZNLpfL21dVVaXPPvtMPXv2VI8ePWRZlg4dOuRzbHR0tDp37iy73a6PP/5YDQ0NzcYGAABoiaAMWGPHjtWHH36o3bt3q76%2BXhs3btSnn36qkSNHSpJyc3O1fv16lZaWqrq6WkuWLFGPHj2Ulpam%2BPh4DR06VC%2B//LJOnTql48eP69VXX1VOTo5sNpsyMzMVFRWlVatWqba2Vvv379fGjRuVm5vr57MGAADBImBvEaalpUmS90rSjh07JF24mtS9e3ctWbJECxcuVFlZmbp27ao1a9aoffv2kqTx48ersrJS3/ve91RTU6P09HSfh85/%2BtOfau7cuRo0aJBuuukmPfDAA96XmbZq1UqrV6/W3LlzVVRUpHbt2qmwsFADBw68hmcPAACCWYj1dZ74xldWWXnG%2BJg2W6gGL3nP%2BLhXy9aC/v5ewmXZbKGKi4uU213jfY5g2Msf%2BHlVwNcTyF9rX8TX2dV1tffCpb53Bpr27dv4Zd6gvEUIAAAQyAhYAAAAhhGwAAAADCNgAQAAGEbAAgAAMIyABQAAYFjAvgcLAAB8M8H0Goxger1IS3AFCwAAwDCuYAHAdSaYrloA1yuuYAEAABhGwAIAADCMgAUAAGAYAQsAAMAwAhYAAIBhBCwAAADDCFgAAACGEbAAAAAMI2ABAAAYRsACAAAwjIAFAABgGAELAADAMAIWAACAYQQsAAAAwwhYAAAAhhGwAAAADCNgAQAAGEbAAgAAMIyABQAAYBgBCwAAwDACFgAAgGEELAAAAMMIWAAAAIYRsAAAAAwjYAEAABhGwAIAADCMgAUAAGAYAQsAAMAwm78XgBvHsJc/8PcSAAC4JriCBQAAYBgBCwAAwDACFgAAgGEELAAAAMMIWJdQVlamJ554Qunp6crKytLixYvV1NTk72UBAIAgwU8RXsL06dOVmpqqHTt26OTJk5o0aZLatWunH/zgB/5eGgAACAJcwfoCp9OpQ4cOaebMmWrTpo2SkpKUl5cnh8Ph76UBAIAgwRWsL3C5XEpMTFRMTIy3LTU1VUePHlV1dbWioqKuOEZFRYUqKyt92my21kpISDC61rAw8jEA4Ppgs11f/59GwPoCj8ej6Ohon7aLYcvtdrcoYDkcDq1cudKn7Uc/%2BpGmT59ubqG6EOS%2Bf8s/NW7cOOPh7UZTUVEhh8NBLQ2hnmZRT3OopVnU8/Kur7hoiGVZ3%2Bj4cePG6be//a3Pn3Hjxhla3X9UVlZq5cqVza6W4aujlmZRT7OopznU0izqeXlcwfqC%2BPh4eTwenzaPx6OQkBDFx8e3aIyEhASSPAAANzCuYH2B3W5XeXm5Tp065W1zOp3q2rWrIiMj/bgyAAAQLAhYX5CSkqK0tDQtXbpU1dXVKi0t1bp165Sbm%2BvvpQEAgCARNm/evHn%2BXkSg%2Bc53vqMtW7bo%2Beef1%2B9//3vl5ORowoQJCgkJ8ffSmomMjFS/fv24umYAtTSLeppFPc2hlmZRz0sLsb7pE90AAADwwS1CAAAAwwhYAAAAhhGwAAAADCNgAQAAGEbAAgAAMIyABQAAYBgBCwAAwDACFgAAgGEELAAAAMMIWEGorKxMTzzxhNLT05WVlaXFixerqanJ38sKaO%2B9954yMjJUWFjYrO%2Bdd97RiBEj1Lt3b40ePVrvv/%2B%2Bt6%2BpqUnLli3ToEGDdNddd2nChAk6duzYtVx6wCkrK9O0adOUnp6ujIwMPfXUU6qqqpIkHTx4UI8%2B%2Bqj69u2rIUOGaO3atT7Hflmtb1SHDh3S97//ffXt21cZGRkqKChQZWWlJGnv3r3KyclRnz59dP/992vTpk0%2Bx65fv15Dhw5Vnz59lJubq5KSEn%2BcQkB68cUXlZyc7P07tfzqkpOTZbfblZaW5v3z/PPPS6KeLWIh6IwaNcp69tlnraqqKuvo0aPWkCFDrLVr1/p7WQGrqKjIGjJkiDV%2B/HiroKDAp%2B/AgQOW3W63du/ebdXV1Vlvv/221atXL6u8vNyyLMtav369lZWVZR0%2BfNg6c%2BaM9dOf/tQaMWKE1dTU5I9TCQgPPPCA9dRTT1nV1dVWeXm5NXr0aOuZZ56xamtrre985zvWihUrrJqaGqukpMTq16%2BftW3bNsuyrlzrG1F9fb11zz33WCtXrrTq6%2ButkydPWo8%2B%2Bqg1depU68SJE9Ydd9xhFRcXW3V1ddYHH3xg9ezZ0/rHP/5hWZZl/eEPf7DuvPNOa9%2B%2BfVZtba21Zs0aq3///lZNTY2fz8r/Dhw4YPXr18/q3r27ZVkWtfyaunfvbh07dqxZO/VsGa5gBRmn06lDhw5p5syZatOmjZKSkpSXlyeHw%2BHvpQWs8PBwbdy4UbfddluzvuLiYmVmZiozM1Ph4eEaOXKkunfv7v3XmMPhUF5enrp06aKoqCgVFhaqtLRU%2B/fvv9anERCqqqpkt9s1Y8YMRUZG6pZbbtGoUaP017/%2BVbt379b58%2Bc1ZcoUtW7dWqmpqRozZox3b16p1jei2tpaFRYWatKkSWrVqpXi4%2BM1ePBg/fOf/9TmzZuVlJSknJwchYeHKyMjQ9nZ2SouLpZ0YW%2BOHj1avXr1UkREhCZOnChJ2rVrlz9Pye%2Bampo0d%2B5c5eXleduopVnUs2UIWEHG5XIpMTFRMTEx3rbU1FQdPXpU1dXVflxZ4HrsscfUpk2bS/a5XC6lpKT4tKWkpMjpdKqurk6HDx/26Y%2BKitJtt90mp9N5VdccqKKjo7Vw4UK1a9fO21ZeXq6EhAS5XC4lJycrLCzM25eSkuK9NfBltb5RxcTEaMyYMbLZbJKkI0eO6He/%2B52GDRt22Xpdrp6hoaHq0aPHDV1PSXrjjTcUHh6uESNGeNuo5de3dOlSDRw4UHfeeafmzJmjmpoa6tlCBKwg4/F4FB0d7dN2MWy53W5/LCmoeTwen7AqXain2%2B3W6dOnZVnWZftx4Yrq66%2B/rilTplxyb8bGxsrj8aipqelLa32jKysrk91u1/Dhw5WWlqb8/PzL1vNivahnc59//rlWrFihuXPn%2BrRTy6/njjvuUEZGhrZv3y6Hw6F9%2B/Zp/vz51LOFCFhByLIsfy/hunKlelLvS/vb3/6mCRMmaMaMGcrIyLjs50JCQrz/m1peWmJiopxOp9599119%2Bumn%2BslPftKi46inr4ULF2r06NHq2rXrVz6WWjbncDg0ZswYtWrVSl26dNHMmTO1ZcsWnT9//orHUk8CVtCJj4%2BXx%2BPxafN4PAoJCVF8fLyfVhW84uLiLlnP%2BPh4xcbGKjQ09JL9bdu2vZbLDDg7d%2B7UE088oWeeeUaPPfaYpAt784v/QvV4PN46flmtcSGIJiUlqbCwUFu2bJHNZmtWL7fb7a0X9fS1d%2B9effTRR5o2bVqzvkvVilp%2BdbfeeqsaGxsv%2BX2RejZHwAoydrtd5eXlOnXqlLfN6XSqa9euioyM9OPKgpPdbm/248NOp1O9evVSeHi4unXrJpfL5e2rqqrSZ599pp49e17rpQaMv//975o1a5ZeeeUVPfTQQ952u92ujz/%2BWA0NDd62i7W82H%2B5Wt%2Bo9u7dq6FDh/q8ZiU09MK35Z49ezarV0lJiU89/3tvNjY26sCBAzdsPTdt2qSTJ08qKytL6enpGj16tCQpPT1d3bt3p5Zf0YEDB7Ro0SKfttLSUrVq1UqZmZnUsyX89wOM%2BLrGjBljPfPMM9aZM2esw4cPW9nZ2dbrr7/u72UFvFmzZjV7TcPHH39spaWlWbt27bLq6uqs4uJiq3fv3lZFRYVlWZb1P//zP9bAgQO9r2mYM2eO9fDDD/tj%2BQHh/Pnz1rBhw6w33nijWV99fb2VlZVlLV%2B%2B3Dp79qy1b98%2B684777R27dplWdaVa30jqqqqsjIyMqxFixZZZ8%2BetU6ePGlNmDDBeuSRR6zPP//c6t27t/Wb3/zGqqurs3bv3m317NnTOnjwoGVZlrVnzx6rb9%2B%2B1kcffWSdPXvWWrFihZWZmWnV1tb6%2Baz8w%2BPxWOXl5d4/H330kdW9e3ervLzcKisro5Zf0fHjx6077rjDWrNmjVVfX28dOXLEGj58uPX888%2BzN1uIgBWEysvLrYkTJ1o9e/a0MjIyrOXLl9/Q72W6Ervdbtntduv222%2B3br/9du/fL9q2bZs1ZMgQKzU11XrwwQetv/zlL96%2BpqYm65VXXrHuueceq2fPntbjjz9%2BQ7%2B36f/%2B7/%2Bs7t27e2v433/%2B/e9/Wx9//LE1fvx4y263WwMHDrQ2bNjgc/yX1fpGdejQIevRRx%2B1evbsad19991WQUGBdfz4ccuyLOsvf/mLNXLkSCs1NdUaMmSI951iF23YsMHKzMy07Ha7lZuba3388cf%2BOIWAdOzYMe97sCyLWn4df/nLX6xx48ZZd9xxh9WvXz9r4cKFVl1dnbePen65EMviSTQAAACTeAYLAADAMAIWAACAYQQsAAAAwwhYAAAAhhGwAAAADCNgAQAAGEbAAgAAMIyABQAAYBgBCwAAwDACFgAAgGEELAAAAMMIWAAAAIYRsAAAAAz7/wA2piU4hi%2Bs6QAAAABJRU5ErkJggg%3D%3D\"/>\n",
              "        </div>\n",
              "        <div role=\"tabpanel\" class=\"tab-pane col-md-12\" id=\"common-2647104349510590850\">\n",
              "            \n",
              "<table class=\"freq table table-hover\">\n",
              "    <thead>\n",
              "    <tr>\n",
              "        <td class=\"fillremaining\">Value</td>\n",
              "        <td class=\"number\">Count</td>\n",
              "        <td class=\"number\">Frequency (%)</td>\n",
              "        <td style=\"min-width:200px\">&nbsp;</td>\n",
              "    </tr>\n",
              "    </thead>\n",
              "    <tr class=\"\">\n",
              "        <td class=\"fillremaining\">207</td>\n",
              "        <td class=\"number\">33788</td>\n",
              "        <td class=\"number\">14.2%</td>\n",
              "        <td>\n",
              "            <div class=\"bar\" style=\"width:34%\">&nbsp;</div>\n",
              "        </td>\n",
              "</tr><tr class=\"\">\n",
              "        <td class=\"fillremaining\">386</td>\n",
              "        <td class=\"number\">30706</td>\n",
              "        <td class=\"number\">12.9%</td>\n",
              "        <td>\n",
              "            <div class=\"bar\" style=\"width:31%\">&nbsp;</div>\n",
              "        </td>\n",
              "</tr><tr class=\"\">\n",
              "        <td class=\"fillremaining\">190</td>\n",
              "        <td class=\"number\">17441</td>\n",
              "        <td class=\"number\">7.3%</td>\n",
              "        <td>\n",
              "            <div class=\"bar\" style=\"width:18%\">&nbsp;</div>\n",
              "        </td>\n",
              "</tr><tr class=\"\">\n",
              "        <td class=\"fillremaining\">127</td>\n",
              "        <td class=\"number\">10851</td>\n",
              "        <td class=\"number\">4.6%</td>\n",
              "        <td>\n",
              "            <div class=\"bar\" style=\"width:11%\">&nbsp;</div>\n",
              "        </td>\n",
              "</tr><tr class=\"\">\n",
              "        <td class=\"fillremaining\">371</td>\n",
              "        <td class=\"number\">9343</td>\n",
              "        <td class=\"number\">3.9%</td>\n",
              "        <td>\n",
              "            <div class=\"bar\" style=\"width:10%\">&nbsp;</div>\n",
              "        </td>\n",
              "</tr><tr class=\"\">\n",
              "        <td class=\"fillremaining\">3</td>\n",
              "        <td class=\"number\">8860</td>\n",
              "        <td class=\"number\">3.7%</td>\n",
              "        <td>\n",
              "            <div class=\"bar\" style=\"width:9%\">&nbsp;</div>\n",
              "        </td>\n",
              "</tr><tr class=\"\">\n",
              "        <td class=\"fillremaining\">296</td>\n",
              "        <td class=\"number\">7453</td>\n",
              "        <td class=\"number\">3.1%</td>\n",
              "        <td>\n",
              "            <div class=\"bar\" style=\"width:8%\">&nbsp;</div>\n",
              "        </td>\n",
              "</tr><tr class=\"\">\n",
              "        <td class=\"fillremaining\">129</td>\n",
              "        <td class=\"number\">7050</td>\n",
              "        <td class=\"number\">3.0%</td>\n",
              "        <td>\n",
              "            <div class=\"bar\" style=\"width:8%\">&nbsp;</div>\n",
              "        </td>\n",
              "</tr><tr class=\"\">\n",
              "        <td class=\"fillremaining\">385</td>\n",
              "        <td class=\"number\">6976</td>\n",
              "        <td class=\"number\">2.9%</td>\n",
              "        <td>\n",
              "            <div class=\"bar\" style=\"width:7%\">&nbsp;</div>\n",
              "        </td>\n",
              "</tr><tr class=\"\">\n",
              "        <td class=\"fillremaining\">32</td>\n",
              "        <td class=\"number\">5984</td>\n",
              "        <td class=\"number\">2.5%</td>\n",
              "        <td>\n",
              "            <div class=\"bar\" style=\"width:6%\">&nbsp;</div>\n",
              "        </td>\n",
              "</tr><tr class=\"other\">\n",
              "        <td class=\"fillremaining\">Other values (480)</td>\n",
              "        <td class=\"number\">99157</td>\n",
              "        <td class=\"number\">41.7%</td>\n",
              "        <td>\n",
              "            <div class=\"bar\" style=\"width:100%\">&nbsp;</div>\n",
              "        </td>\n",
              "</tr>\n",
              "</table>\n",
              "        </div>\n",
              "        <div role=\"tabpanel\" class=\"tab-pane col-md-12\"  id=\"extreme-2647104349510590850\">\n",
              "            <p class=\"h4\">Minimum 5 values</p>\n",
              "            \n",
              "<table class=\"freq table table-hover\">\n",
              "    <thead>\n",
              "    <tr>\n",
              "        <td class=\"fillremaining\">Value</td>\n",
              "        <td class=\"number\">Count</td>\n",
              "        <td class=\"number\">Frequency (%)</td>\n",
              "        <td style=\"min-width:200px\">&nbsp;</td>\n",
              "    </tr>\n",
              "    </thead>\n",
              "    <tr class=\"\">\n",
              "        <td class=\"fillremaining\">0</td>\n",
              "        <td class=\"number\">73</td>\n",
              "        <td class=\"number\">0.0%</td>\n",
              "        <td>\n",
              "            <div class=\"bar\" style=\"width:1%\">&nbsp;</div>\n",
              "        </td>\n",
              "</tr><tr class=\"\">\n",
              "        <td class=\"fillremaining\">1</td>\n",
              "        <td class=\"number\">35</td>\n",
              "        <td class=\"number\">0.0%</td>\n",
              "        <td>\n",
              "            <div class=\"bar\" style=\"width:1%\">&nbsp;</div>\n",
              "        </td>\n",
              "</tr><tr class=\"\">\n",
              "        <td class=\"fillremaining\">2</td>\n",
              "        <td class=\"number\">134</td>\n",
              "        <td class=\"number\">0.1%</td>\n",
              "        <td>\n",
              "            <div class=\"bar\" style=\"width:2%\">&nbsp;</div>\n",
              "        </td>\n",
              "</tr><tr class=\"\">\n",
              "        <td class=\"fillremaining\">3</td>\n",
              "        <td class=\"number\">8860</td>\n",
              "        <td class=\"number\">3.7%</td>\n",
              "        <td>\n",
              "            <div class=\"bar\" style=\"width:100%\">&nbsp;</div>\n",
              "        </td>\n",
              "</tr><tr class=\"\">\n",
              "        <td class=\"fillremaining\">4</td>\n",
              "        <td class=\"number\">2</td>\n",
              "        <td class=\"number\">0.0%</td>\n",
              "        <td>\n",
              "            <div class=\"bar\" style=\"width:1%\">&nbsp;</div>\n",
              "        </td>\n",
              "</tr>\n",
              "</table>\n",
              "            <p class=\"h4\">Maximum 5 values</p>\n",
              "            \n",
              "<table class=\"freq table table-hover\">\n",
              "    <thead>\n",
              "    <tr>\n",
              "        <td class=\"fillremaining\">Value</td>\n",
              "        <td class=\"number\">Count</td>\n",
              "        <td class=\"number\">Frequency (%)</td>\n",
              "        <td style=\"min-width:200px\">&nbsp;</td>\n",
              "    </tr>\n",
              "    </thead>\n",
              "    <tr class=\"\">\n",
              "        <td class=\"fillremaining\">518</td>\n",
              "        <td class=\"number\">5</td>\n",
              "        <td class=\"number\">0.0%</td>\n",
              "        <td>\n",
              "            <div class=\"bar\" style=\"width:4%\">&nbsp;</div>\n",
              "        </td>\n",
              "</tr><tr class=\"\">\n",
              "        <td class=\"fillremaining\">519</td>\n",
              "        <td class=\"number\">39</td>\n",
              "        <td class=\"number\">0.0%</td>\n",
              "        <td>\n",
              "            <div class=\"bar\" style=\"width:31%\">&nbsp;</div>\n",
              "        </td>\n",
              "</tr><tr class=\"\">\n",
              "        <td class=\"fillremaining\">520</td>\n",
              "        <td class=\"number\">3</td>\n",
              "        <td class=\"number\">0.0%</td>\n",
              "        <td>\n",
              "            <div class=\"bar\" style=\"width:3%\">&nbsp;</div>\n",
              "        </td>\n",
              "</tr><tr class=\"\">\n",
              "        <td class=\"fillremaining\">521</td>\n",
              "        <td class=\"number\">28</td>\n",
              "        <td class=\"number\">0.0%</td>\n",
              "        <td>\n",
              "            <div class=\"bar\" style=\"width:23%\">&nbsp;</div>\n",
              "        </td>\n",
              "</tr><tr class=\"\">\n",
              "        <td class=\"fillremaining\">522</td>\n",
              "        <td class=\"number\">126</td>\n",
              "        <td class=\"number\">0.1%</td>\n",
              "        <td>\n",
              "            <div class=\"bar\" style=\"width:100%\">&nbsp;</div>\n",
              "        </td>\n",
              "</tr>\n",
              "</table>\n",
              "        </div>\n",
              "    </div>\n",
              "</div>\n",
              "</div><div class=\"row variablerow\">\n",
              "    <div class=\"col-md-3 namecol\">\n",
              "        <p class=\"h4 pp-anchor\" id=\"pp_var_impression_id\">impression_id<br/>\n",
              "            <small>Categorical, Unique</small>\n",
              "        </p>\n",
              "    </div><div class=\"col-md-3 collapse in\" id=\"minivalues-7502762459934951846\"><table border=\"1\" class=\"dataframe example_values\">\n",
              "  <thead>\n",
              "    <tr style=\"text-align: right;\">\n",
              "      <th>First 3 values</th>\n",
              "    </tr>\n",
              "  </thead>\n",
              "  <tbody>\n",
              "    <tr>\n",
              "      <td>affdd77ef80ad2b61648703e0c3005e7</td>\n",
              "    </tr>\n",
              "    <tr>\n",
              "      <td>2965c89a9f435e21b0c178206d5f81ea</td>\n",
              "    </tr>\n",
              "    <tr>\n",
              "      <td>0e5f5a8300884d84de39914ba112e35e</td>\n",
              "    </tr>\n",
              "  </tbody>\n",
              "</table></div>\n",
              "<div class=\"col-md-6 collapse in\" id=\"minivalues-7502762459934951846\"><table border=\"1\" class=\"dataframe example_values\">\n",
              "  <thead>\n",
              "    <tr style=\"text-align: right;\">\n",
              "      <th>Last 3 values</th>\n",
              "    </tr>\n",
              "  </thead>\n",
              "  <tbody>\n",
              "    <tr>\n",
              "      <td>ff7a21039a72c3431bfebfdb21dda061</td>\n",
              "    </tr>\n",
              "    <tr>\n",
              "      <td>8f9b9fd0f3d4fdb8e07c3c7b1640d9b7</td>\n",
              "    </tr>\n",
              "    <tr>\n",
              "      <td>be7603ba31a1841ae30978a92d264680</td>\n",
              "    </tr>\n",
              "  </tbody>\n",
              "</table></div>\n",
              "<div class=\"col-md-12 text-right\">\n",
              "    <a role=\"button\" data-toggle=\"collapse\" data-target=\"#values-7502762459934951846,#minivalues-7502762459934951846\" aria-expanded=\"false\"\n",
              "       aria-controls=\"collapseExample\">\n",
              "        Toggle details\n",
              "    </a>\n",
              "</div>\n",
              "<div class=\"col-md-12 collapse\" id=\"values-7502762459934951846\">\n",
              "    <p class=\"h4\">First 10 values</p>\n",
              "    \n",
              "<table class=\"freq table table-hover\">\n",
              "    <thead>\n",
              "    <tr>\n",
              "        <td class=\"fillremaining\">Value</td>\n",
              "        <td class=\"number\">Count</td>\n",
              "        <td class=\"number\">Frequency (%)</td>\n",
              "        <td style=\"min-width:200px\">&nbsp;</td>\n",
              "    </tr>\n",
              "    </thead>\n",
              "    <tr class=\"\">\n",
              "        <td class=\"fillremaining\">00003e3b9e5336685200ae85d21b4f5e</td>\n",
              "        <td class=\"number\">1</td>\n",
              "        <td class=\"number\">0.0%</td>\n",
              "        <td>\n",
              "            <div class=\"bar\" style=\"width:100%\">&nbsp;</div>\n",
              "        </td>\n",
              "</tr><tr class=\"\">\n",
              "        <td class=\"fillremaining\">000053b1e684c9e7ea73727b2238ce18</td>\n",
              "        <td class=\"number\">1</td>\n",
              "        <td class=\"number\">0.0%</td>\n",
              "        <td>\n",
              "            <div class=\"bar\" style=\"width:100%\">&nbsp;</div>\n",
              "        </td>\n",
              "</tr><tr class=\"\">\n",
              "        <td class=\"fillremaining\">00005d011db80a956aab176cc94d1d37</td>\n",
              "        <td class=\"number\">1</td>\n",
              "        <td class=\"number\">0.0%</td>\n",
              "        <td>\n",
              "            <div class=\"bar\" style=\"width:100%\">&nbsp;</div>\n",
              "        </td>\n",
              "</tr><tr class=\"\">\n",
              "        <td class=\"fillremaining\">0000b2815cc3c2b56867cbbf4d36efa5</td>\n",
              "        <td class=\"number\">1</td>\n",
              "        <td class=\"number\">0.0%</td>\n",
              "        <td>\n",
              "            <div class=\"bar\" style=\"width:100%\">&nbsp;</div>\n",
              "        </td>\n",
              "</tr><tr class=\"\">\n",
              "        <td class=\"fillremaining\">0001261e2060303a06ba6c64d676d639</td>\n",
              "        <td class=\"number\">1</td>\n",
              "        <td class=\"number\">0.0%</td>\n",
              "        <td>\n",
              "            <div class=\"bar\" style=\"width:100%\">&nbsp;</div>\n",
              "        </td>\n",
              "</tr>\n",
              "</table>\n",
              "    <p class=\"h4\">Last 10 values</p>\n",
              "    \n",
              "<table class=\"freq table table-hover\">\n",
              "    <thead>\n",
              "    <tr>\n",
              "        <td class=\"fillremaining\">Value</td>\n",
              "        <td class=\"number\">Count</td>\n",
              "        <td class=\"number\">Frequency (%)</td>\n",
              "        <td style=\"min-width:200px\">&nbsp;</td>\n",
              "    </tr>\n",
              "    </thead>\n",
              "    <tr class=\"\">\n",
              "        <td class=\"fillremaining\">fffee5badc626a2ab8086120712e5639</td>\n",
              "        <td class=\"number\">1</td>\n",
              "        <td class=\"number\">0.0%</td>\n",
              "        <td>\n",
              "            <div class=\"bar\" style=\"width:100%\">&nbsp;</div>\n",
              "        </td>\n",
              "</tr><tr class=\"\">\n",
              "        <td class=\"fillremaining\">ffff748a7ac35759d9fef57a34fd4a21</td>\n",
              "        <td class=\"number\">1</td>\n",
              "        <td class=\"number\">0.0%</td>\n",
              "        <td>\n",
              "            <div class=\"bar\" style=\"width:100%\">&nbsp;</div>\n",
              "        </td>\n",
              "</tr><tr class=\"\">\n",
              "        <td class=\"fillremaining\">ffffb8de2d77567f452ad766471a9e5e</td>\n",
              "        <td class=\"number\">1</td>\n",
              "        <td class=\"number\">0.0%</td>\n",
              "        <td>\n",
              "            <div class=\"bar\" style=\"width:100%\">&nbsp;</div>\n",
              "        </td>\n",
              "</tr><tr class=\"\">\n",
              "        <td class=\"fillremaining\">ffffda8ada4827900cbf65fd20281080</td>\n",
              "        <td class=\"number\">1</td>\n",
              "        <td class=\"number\">0.0%</td>\n",
              "        <td>\n",
              "            <div class=\"bar\" style=\"width:100%\">&nbsp;</div>\n",
              "        </td>\n",
              "</tr><tr class=\"\">\n",
              "        <td class=\"fillremaining\">fffffe98d0963d27015c198262d97221</td>\n",
              "        <td class=\"number\">1</td>\n",
              "        <td class=\"number\">0.0%</td>\n",
              "        <td>\n",
              "            <div class=\"bar\" style=\"width:100%\">&nbsp;</div>\n",
              "        </td>\n",
              "</tr>\n",
              "</table>\n",
              "</div>\n",
              "</div><div class=\"row variablerow\">\n",
              "    <div class=\"col-md-3 namecol\">\n",
              "        <p class=\"h4 pp-anchor\" id=\"pp_var_impression_time\">impression_time<br/>\n",
              "            <small>Categorical</small>\n",
              "        </p>\n",
              "    </div><div class=\"col-md-3\">\n",
              "    <table class=\"stats \">\n",
              "        <tr class=\"alert\">\n",
              "            <th>Distinct count</th>\n",
              "            <td>36461</td>\n",
              "        </tr>\n",
              "        <tr>\n",
              "            <th>Unique (%)</th>\n",
              "            <td>15.3%</td>\n",
              "        </tr>\n",
              "        <tr class=\"ignore\">\n",
              "            <th>Missing (%)</th>\n",
              "            <td>0.0%</td>\n",
              "        </tr>\n",
              "        <tr class=\"ignore\">\n",
              "            <th>Missing (n)</th>\n",
              "            <td>0</td>\n",
              "        </tr>\n",
              "    </table>\n",
              "</div>\n",
              "<div class=\"col-md-6 collapse in\" id=\"minifreqtable-5806035580118590360\">\n",
              "    <table class=\"mini freq\">\n",
              "        <tr class=\"\">\n",
              "    <th>2018-12-04 00:01:00</th>\n",
              "    <td>\n",
              "        <div class=\"bar\" style=\"width:1%\" data-toggle=\"tooltip\" data-placement=\"right\" data-html=\"true\"\n",
              "             data-delay=500 title=\"Percentage: 0.0%\">\n",
              "            &nbsp;\n",
              "        </div>\n",
              "        46\n",
              "    </td>\n",
              "</tr><tr class=\"\">\n",
              "    <th>2018-12-03 00:01:00</th>\n",
              "    <td>\n",
              "        <div class=\"bar\" style=\"width:1%\" data-toggle=\"tooltip\" data-placement=\"right\" data-html=\"true\"\n",
              "             data-delay=500 title=\"Percentage: 0.0%\">\n",
              "            &nbsp;\n",
              "        </div>\n",
              "        43\n",
              "    </td>\n",
              "</tr><tr class=\"\">\n",
              "    <th>2018-12-04 00:03:00</th>\n",
              "    <td>\n",
              "        <div class=\"bar\" style=\"width:1%\" data-toggle=\"tooltip\" data-placement=\"right\" data-html=\"true\"\n",
              "             data-delay=500 title=\"Percentage: 0.0%\">\n",
              "            &nbsp;\n",
              "        </div>\n",
              "        43\n",
              "    </td>\n",
              "</tr><tr class=\"other\">\n",
              "    <th>Other values (36458)</th>\n",
              "    <td>\n",
              "        <div class=\"bar\" style=\"width:100%\" data-toggle=\"tooltip\" data-placement=\"right\" data-html=\"true\"\n",
              "             data-delay=500 title=\"Percentage: 99.9%\">\n",
              "            237477\n",
              "        </div>\n",
              "        \n",
              "    </td>\n",
              "</tr>\n",
              "    </table>\n",
              "</div>\n",
              "<div class=\"col-md-12 text-right\">\n",
              "    <a role=\"button\" data-toggle=\"collapse\" data-target=\"#freqtable-5806035580118590360, #minifreqtable-5806035580118590360\"\n",
              "       aria-expanded=\"true\" aria-controls=\"collapseExample\">\n",
              "        Toggle details\n",
              "    </a>\n",
              "</div>\n",
              "<div class=\"col-md-12 extrapadding collapse\" id=\"freqtable-5806035580118590360\">\n",
              "    \n",
              "<table class=\"freq table table-hover\">\n",
              "    <thead>\n",
              "    <tr>\n",
              "        <td class=\"fillremaining\">Value</td>\n",
              "        <td class=\"number\">Count</td>\n",
              "        <td class=\"number\">Frequency (%)</td>\n",
              "        <td style=\"min-width:200px\">&nbsp;</td>\n",
              "    </tr>\n",
              "    </thead>\n",
              "    <tr class=\"\">\n",
              "        <td class=\"fillremaining\">2018-12-04 00:01:00</td>\n",
              "        <td class=\"number\">46</td>\n",
              "        <td class=\"number\">0.0%</td>\n",
              "        <td>\n",
              "            <div class=\"bar\" style=\"width:1%\">&nbsp;</div>\n",
              "        </td>\n",
              "</tr><tr class=\"\">\n",
              "        <td class=\"fillremaining\">2018-12-03 00:01:00</td>\n",
              "        <td class=\"number\">43</td>\n",
              "        <td class=\"number\">0.0%</td>\n",
              "        <td>\n",
              "            <div class=\"bar\" style=\"width:1%\">&nbsp;</div>\n",
              "        </td>\n",
              "</tr><tr class=\"\">\n",
              "        <td class=\"fillremaining\">2018-12-04 00:03:00</td>\n",
              "        <td class=\"number\">43</td>\n",
              "        <td class=\"number\">0.0%</td>\n",
              "        <td>\n",
              "            <div class=\"bar\" style=\"width:1%\">&nbsp;</div>\n",
              "        </td>\n",
              "</tr><tr class=\"\">\n",
              "        <td class=\"fillremaining\">2018-12-02 00:10:00</td>\n",
              "        <td class=\"number\">42</td>\n",
              "        <td class=\"number\">0.0%</td>\n",
              "        <td>\n",
              "            <div class=\"bar\" style=\"width:1%\">&nbsp;</div>\n",
              "        </td>\n",
              "</tr><tr class=\"\">\n",
              "        <td class=\"fillremaining\">2018-11-27 00:01:00</td>\n",
              "        <td class=\"number\">42</td>\n",
              "        <td class=\"number\">0.0%</td>\n",
              "        <td>\n",
              "            <div class=\"bar\" style=\"width:1%\">&nbsp;</div>\n",
              "        </td>\n",
              "</tr><tr class=\"\">\n",
              "        <td class=\"fillremaining\">2018-11-21 00:01:00</td>\n",
              "        <td class=\"number\">41</td>\n",
              "        <td class=\"number\">0.0%</td>\n",
              "        <td>\n",
              "            <div class=\"bar\" style=\"width:1%\">&nbsp;</div>\n",
              "        </td>\n",
              "</tr><tr class=\"\">\n",
              "        <td class=\"fillremaining\">2018-12-02 00:01:00</td>\n",
              "        <td class=\"number\">41</td>\n",
              "        <td class=\"number\">0.0%</td>\n",
              "        <td>\n",
              "            <div class=\"bar\" style=\"width:1%\">&nbsp;</div>\n",
              "        </td>\n",
              "</tr><tr class=\"\">\n",
              "        <td class=\"fillremaining\">2018-12-03 00:02:00</td>\n",
              "        <td class=\"number\">39</td>\n",
              "        <td class=\"number\">0.0%</td>\n",
              "        <td>\n",
              "            <div class=\"bar\" style=\"width:1%\">&nbsp;</div>\n",
              "        </td>\n",
              "</tr><tr class=\"\">\n",
              "        <td class=\"fillremaining\">2018-12-03 00:08:00</td>\n",
              "        <td class=\"number\">38</td>\n",
              "        <td class=\"number\">0.0%</td>\n",
              "        <td>\n",
              "            <div class=\"bar\" style=\"width:1%\">&nbsp;</div>\n",
              "        </td>\n",
              "</tr><tr class=\"\">\n",
              "        <td class=\"fillremaining\">2018-11-28 00:01:00</td>\n",
              "        <td class=\"number\">38</td>\n",
              "        <td class=\"number\">0.0%</td>\n",
              "        <td>\n",
              "            <div class=\"bar\" style=\"width:1%\">&nbsp;</div>\n",
              "        </td>\n",
              "</tr><tr class=\"other\">\n",
              "        <td class=\"fillremaining\">Other values (36451)</td>\n",
              "        <td class=\"number\">237196</td>\n",
              "        <td class=\"number\">99.8%</td>\n",
              "        <td>\n",
              "            <div class=\"bar\" style=\"width:100%\">&nbsp;</div>\n",
              "        </td>\n",
              "</tr>\n",
              "</table>\n",
              "</div>\n",
              "</div><div class=\"row variablerow\">\n",
              "    <div class=\"col-md-3 namecol\">\n",
              "        <p class=\"h4 pp-anchor\" id=\"pp_var_is_4G\">is_4G<br/>\n",
              "            <small>Boolean</small>\n",
              "        </p>\n",
              "    </div><div class=\"col-md-6\">\n",
              "    <div class=\"row\">\n",
              "        <div class=\"col-sm-6\">\n",
              "            <table class=\"stats \">\n",
              "                <tr class=\"\">\n",
              "                    <th>Distinct count</th>\n",
              "                    <td>2</td>\n",
              "                </tr>\n",
              "                <tr>\n",
              "                    <th>Unique (%)</th>\n",
              "                    <td>0.0%</td>\n",
              "                </tr>\n",
              "                <tr class=\"ignore\">\n",
              "                    <th>Missing (%)</th>\n",
              "                    <td>0.0%</td>\n",
              "                </tr>\n",
              "                <tr class=\"ignore\">\n",
              "                    <th>Missing (n)</th>\n",
              "                    <td>0</td>\n",
              "                </tr>\n",
              "            </table>\n",
              "        </div>\n",
              "        <div class=\"col-sm-6\">\n",
              "            <table class=\"stats \">\n",
              "                <tr>\n",
              "                    <th>Mean</th>\n",
              "                    <td>0.36131</td>\n",
              "                </tr>\n",
              "            </table>\n",
              "        </div>\n",
              "    </div>\n",
              "</div>\n",
              "<div class=\"col-md-3 collapse in\" id=\"minifreqtable-7025515013058842877\">\n",
              "    <table class=\"mini freq\">\n",
              "        <tr class=\"\">\n",
              "    <th>0</th>\n",
              "    <td>\n",
              "        <div class=\"bar\" style=\"width:100%\" data-toggle=\"tooltip\" data-placement=\"right\" data-html=\"true\"\n",
              "             data-delay=500 title=\"Percentage: 63.9%\">\n",
              "            151758\n",
              "        </div>\n",
              "        \n",
              "    </td>\n",
              "</tr><tr class=\"\">\n",
              "    <th>1</th>\n",
              "    <td>\n",
              "        <div class=\"bar\" style=\"width:57%\" data-toggle=\"tooltip\" data-placement=\"right\" data-html=\"true\"\n",
              "             data-delay=500 title=\"Percentage: 36.1%\">\n",
              "            85851\n",
              "        </div>\n",
              "        \n",
              "    </td>\n",
              "</tr>\n",
              "    </table>\n",
              "</div>\n",
              "<div class=\"col-md-12 text-right\">\n",
              "    <a role=\"button\" data-toggle=\"collapse\" data-target=\"#freqtable-7025515013058842877, #minifreqtable-7025515013058842877\"\n",
              "        aria-expanded=\"true\" aria-controls=\"collapseExample\">\n",
              "        Toggle details\n",
              "    </a>\n",
              "</div>\n",
              "<div class=\"col-md-12 extrapadding collapse\" id=\"freqtable-7025515013058842877\">\n",
              "    \n",
              "<table class=\"freq table table-hover\">\n",
              "    <thead>\n",
              "    <tr>\n",
              "        <td class=\"fillremaining\">Value</td>\n",
              "        <td class=\"number\">Count</td>\n",
              "        <td class=\"number\">Frequency (%)</td>\n",
              "        <td style=\"min-width:200px\">&nbsp;</td>\n",
              "    </tr>\n",
              "    </thead>\n",
              "    <tr class=\"\">\n",
              "        <td class=\"fillremaining\">0</td>\n",
              "        <td class=\"number\">151758</td>\n",
              "        <td class=\"number\">63.9%</td>\n",
              "        <td>\n",
              "            <div class=\"bar\" style=\"width:100%\">&nbsp;</div>\n",
              "        </td>\n",
              "</tr><tr class=\"\">\n",
              "        <td class=\"fillremaining\">1</td>\n",
              "        <td class=\"number\">85851</td>\n",
              "        <td class=\"number\">36.1%</td>\n",
              "        <td>\n",
              "            <div class=\"bar\" style=\"width:57%\">&nbsp;</div>\n",
              "        </td>\n",
              "</tr>\n",
              "</table>\n",
              "</div>\n",
              "</div><div class=\"row variablerow\">\n",
              "    <div class=\"col-md-3 namecol\">\n",
              "        <p class=\"h4 pp-anchor\" id=\"pp_var_is_click\">is_click<br/>\n",
              "            <small>Boolean</small>\n",
              "        </p>\n",
              "    </div><div class=\"col-md-6\">\n",
              "    <div class=\"row\">\n",
              "        <div class=\"col-sm-6\">\n",
              "            <table class=\"stats \">\n",
              "                <tr class=\"\">\n",
              "                    <th>Distinct count</th>\n",
              "                    <td>2</td>\n",
              "                </tr>\n",
              "                <tr>\n",
              "                    <th>Unique (%)</th>\n",
              "                    <td>0.0%</td>\n",
              "                </tr>\n",
              "                <tr class=\"ignore\">\n",
              "                    <th>Missing (%)</th>\n",
              "                    <td>0.0%</td>\n",
              "                </tr>\n",
              "                <tr class=\"ignore\">\n",
              "                    <th>Missing (n)</th>\n",
              "                    <td>0</td>\n",
              "                </tr>\n",
              "            </table>\n",
              "        </div>\n",
              "        <div class=\"col-sm-6\">\n",
              "            <table class=\"stats \">\n",
              "                <tr>\n",
              "                    <th>Mean</th>\n",
              "                    <td>0.045714</td>\n",
              "                </tr>\n",
              "            </table>\n",
              "        </div>\n",
              "    </div>\n",
              "</div>\n",
              "<div class=\"col-md-3 collapse in\" id=\"minifreqtable2336141335192642416\">\n",
              "    <table class=\"mini freq\">\n",
              "        <tr class=\"\">\n",
              "    <th>0</th>\n",
              "    <td>\n",
              "        <div class=\"bar\" style=\"width:100%\" data-toggle=\"tooltip\" data-placement=\"right\" data-html=\"true\"\n",
              "             data-delay=500 title=\"Percentage: 95.4%\">\n",
              "            226747\n",
              "        </div>\n",
              "        \n",
              "    </td>\n",
              "</tr><tr class=\"\">\n",
              "    <th>1</th>\n",
              "    <td>\n",
              "        <div class=\"bar\" style=\"width:5%\" data-toggle=\"tooltip\" data-placement=\"right\" data-html=\"true\"\n",
              "             data-delay=500 title=\"Percentage: 4.6%\">\n",
              "            &nbsp;\n",
              "        </div>\n",
              "        10862\n",
              "    </td>\n",
              "</tr>\n",
              "    </table>\n",
              "</div>\n",
              "<div class=\"col-md-12 text-right\">\n",
              "    <a role=\"button\" data-toggle=\"collapse\" data-target=\"#freqtable2336141335192642416, #minifreqtable2336141335192642416\"\n",
              "        aria-expanded=\"true\" aria-controls=\"collapseExample\">\n",
              "        Toggle details\n",
              "    </a>\n",
              "</div>\n",
              "<div class=\"col-md-12 extrapadding collapse\" id=\"freqtable2336141335192642416\">\n",
              "    \n",
              "<table class=\"freq table table-hover\">\n",
              "    <thead>\n",
              "    <tr>\n",
              "        <td class=\"fillremaining\">Value</td>\n",
              "        <td class=\"number\">Count</td>\n",
              "        <td class=\"number\">Frequency (%)</td>\n",
              "        <td style=\"min-width:200px\">&nbsp;</td>\n",
              "    </tr>\n",
              "    </thead>\n",
              "    <tr class=\"\">\n",
              "        <td class=\"fillremaining\">0</td>\n",
              "        <td class=\"number\">226747</td>\n",
              "        <td class=\"number\">95.4%</td>\n",
              "        <td>\n",
              "            <div class=\"bar\" style=\"width:100%\">&nbsp;</div>\n",
              "        </td>\n",
              "</tr><tr class=\"\">\n",
              "        <td class=\"fillremaining\">1</td>\n",
              "        <td class=\"number\">10862</td>\n",
              "        <td class=\"number\">4.6%</td>\n",
              "        <td>\n",
              "            <div class=\"bar\" style=\"width:5%\">&nbsp;</div>\n",
              "        </td>\n",
              "</tr>\n",
              "</table>\n",
              "</div>\n",
              "</div><div class=\"row variablerow\">\n",
              "    <div class=\"col-md-3 namecol\">\n",
              "        <p class=\"h4 pp-anchor\" id=\"pp_var_os_version\">os_version<br/>\n",
              "            <small>Categorical</small>\n",
              "        </p>\n",
              "    </div><div class=\"col-md-3\">\n",
              "    <table class=\"stats \">\n",
              "        <tr class=\"\">\n",
              "            <th>Distinct count</th>\n",
              "            <td>3</td>\n",
              "        </tr>\n",
              "        <tr>\n",
              "            <th>Unique (%)</th>\n",
              "            <td>0.0%</td>\n",
              "        </tr>\n",
              "        <tr class=\"ignore\">\n",
              "            <th>Missing (%)</th>\n",
              "            <td>0.0%</td>\n",
              "        </tr>\n",
              "        <tr class=\"ignore\">\n",
              "            <th>Missing (n)</th>\n",
              "            <td>0</td>\n",
              "        </tr>\n",
              "    </table>\n",
              "</div>\n",
              "<div class=\"col-md-6 collapse in\" id=\"minifreqtable122580812610777823\">\n",
              "    <table class=\"mini freq\">\n",
              "        <tr class=\"\">\n",
              "    <th>latest</th>\n",
              "    <td>\n",
              "        <div class=\"bar\" style=\"width:100%\" data-toggle=\"tooltip\" data-placement=\"right\" data-html=\"true\"\n",
              "             data-delay=500 title=\"Percentage: 54.4%\">\n",
              "            129216\n",
              "        </div>\n",
              "        \n",
              "    </td>\n",
              "</tr><tr class=\"\">\n",
              "    <th>intermediate</th>\n",
              "    <td>\n",
              "        <div class=\"bar\" style=\"width:43%\" data-toggle=\"tooltip\" data-placement=\"right\" data-html=\"true\"\n",
              "             data-delay=500 title=\"Percentage: 23.4%\">\n",
              "            55543\n",
              "        </div>\n",
              "        \n",
              "    </td>\n",
              "</tr><tr class=\"\">\n",
              "    <th>old</th>\n",
              "    <td>\n",
              "        <div class=\"bar\" style=\"width:41%\" data-toggle=\"tooltip\" data-placement=\"right\" data-html=\"true\"\n",
              "             data-delay=500 title=\"Percentage: 22.2%\">\n",
              "            52850\n",
              "        </div>\n",
              "        \n",
              "    </td>\n",
              "</tr>\n",
              "    </table>\n",
              "</div>\n",
              "<div class=\"col-md-12 text-right\">\n",
              "    <a role=\"button\" data-toggle=\"collapse\" data-target=\"#freqtable122580812610777823, #minifreqtable122580812610777823\"\n",
              "       aria-expanded=\"true\" aria-controls=\"collapseExample\">\n",
              "        Toggle details\n",
              "    </a>\n",
              "</div>\n",
              "<div class=\"col-md-12 extrapadding collapse\" id=\"freqtable122580812610777823\">\n",
              "    \n",
              "<table class=\"freq table table-hover\">\n",
              "    <thead>\n",
              "    <tr>\n",
              "        <td class=\"fillremaining\">Value</td>\n",
              "        <td class=\"number\">Count</td>\n",
              "        <td class=\"number\">Frequency (%)</td>\n",
              "        <td style=\"min-width:200px\">&nbsp;</td>\n",
              "    </tr>\n",
              "    </thead>\n",
              "    <tr class=\"\">\n",
              "        <td class=\"fillremaining\">latest</td>\n",
              "        <td class=\"number\">129216</td>\n",
              "        <td class=\"number\">54.4%</td>\n",
              "        <td>\n",
              "            <div class=\"bar\" style=\"width:100%\">&nbsp;</div>\n",
              "        </td>\n",
              "</tr><tr class=\"\">\n",
              "        <td class=\"fillremaining\">intermediate</td>\n",
              "        <td class=\"number\">55543</td>\n",
              "        <td class=\"number\">23.4%</td>\n",
              "        <td>\n",
              "            <div class=\"bar\" style=\"width:43%\">&nbsp;</div>\n",
              "        </td>\n",
              "</tr><tr class=\"\">\n",
              "        <td class=\"fillremaining\">old</td>\n",
              "        <td class=\"number\">52850</td>\n",
              "        <td class=\"number\">22.2%</td>\n",
              "        <td>\n",
              "            <div class=\"bar\" style=\"width:41%\">&nbsp;</div>\n",
              "        </td>\n",
              "</tr>\n",
              "</table>\n",
              "</div>\n",
              "</div><div class=\"row variablerow\">\n",
              "    <div class=\"col-md-3 namecol\">\n",
              "        <p class=\"h4 pp-anchor\" id=\"pp_var_user_id\">user_id<br/>\n",
              "            <small>Numeric</small>\n",
              "        </p>\n",
              "    </div><div class=\"col-md-6\">\n",
              "    <div class=\"row\">\n",
              "        <div class=\"col-sm-6\">\n",
              "            <table class=\"stats \">\n",
              "                <tr>\n",
              "                    <th>Distinct count</th>\n",
              "                    <td>74723</td>\n",
              "                </tr>\n",
              "                <tr>\n",
              "                    <th>Unique (%)</th>\n",
              "                    <td>31.4%</td>\n",
              "                </tr>\n",
              "                <tr class=\"ignore\">\n",
              "                    <th>Missing (%)</th>\n",
              "                    <td>0.0%</td>\n",
              "                </tr>\n",
              "                <tr class=\"ignore\">\n",
              "                    <th>Missing (n)</th>\n",
              "                    <td>0</td>\n",
              "                </tr>\n",
              "                <tr class=\"ignore\">\n",
              "                    <th>Infinite (%)</th>\n",
              "                    <td>0.0%</td>\n",
              "                </tr>\n",
              "                <tr class=\"ignore\">\n",
              "                    <th>Infinite (n)</th>\n",
              "                    <td>0</td>\n",
              "                </tr>\n",
              "            </table>\n",
              "\n",
              "        </div>\n",
              "        <div class=\"col-sm-6\">\n",
              "            <table class=\"stats \">\n",
              "\n",
              "                <tr>\n",
              "                    <th>Mean</th>\n",
              "                    <td>46455</td>\n",
              "                </tr>\n",
              "                <tr>\n",
              "                    <th>Minimum</th>\n",
              "                    <td>0</td>\n",
              "                </tr>\n",
              "                <tr>\n",
              "                    <th>Maximum</th>\n",
              "                    <td>92586</td>\n",
              "                </tr>\n",
              "                <tr class=\"ignore\">\n",
              "                    <th>Zeros (%)</th>\n",
              "                    <td>0.0%</td>\n",
              "                </tr>\n",
              "            </table>\n",
              "        </div>\n",
              "    </div>\n",
              "</div>\n",
              "<div class=\"col-md-3 collapse in\" id=\"minihistogram-8456800151438372511\">\n",
              "    <img src=\"data:image/png;base64,iVBORw0KGgoAAAANSUhEUgAAAMgAAABLCAYAAAA1fMjoAAAABHNCSVQICAgIfAhkiAAAAAlwSFlzAAAPYQAAD2EBqD%2BnaQAAADl0RVh0U29mdHdhcmUAbWF0cGxvdGxpYiB2ZXJzaW9uIDMuMC4zLCBodHRwOi8vbWF0cGxvdGxpYi5vcmcvnQurowAAARpJREFUeJzt18EJwkAQQFEjlmQR9uTZnizCntYG5IMLJou8dw%2BZy59JtjHGOAEfnY8eAFZ2OXoA/tf1/vz6mdfj9oNJ5rkgEJa7IDNbZ8bMpvp2tj3eMWO1Lb2ybbWf9L0CYU2rxesTC4JAIAgEgkAgCASCQCAIBIJAIAgEgkAgCASCQCAIBIJAIAgEgkAgCASCQCAIBIJAIAgEgkAgCASCQCAIBIJAIAgEgkAgCASCQCAIBIJAIAgEgkAgCASCQCAIBIJAIAgEgkAgCASCQCAIBMI2xhhHDwGrckEgCASCQCAIBIJAIAgEgkAgCASCQCAIBIJAIAgEgkAgCASCQCAIBIJAIAgEgkAgCASCQCAIBIJAIAgEgkAgvAHHVBuMFIAomQAAAABJRU5ErkJggg%3D%3D\">\n",
              "\n",
              "</div>\n",
              "<div class=\"col-md-12 text-right\">\n",
              "    <a role=\"button\" data-toggle=\"collapse\" data-target=\"#descriptives-8456800151438372511,#minihistogram-8456800151438372511\"\n",
              "       aria-expanded=\"false\" aria-controls=\"collapseExample\">\n",
              "        Toggle details\n",
              "    </a>\n",
              "</div>\n",
              "<div class=\"row collapse col-md-12\" id=\"descriptives-8456800151438372511\">\n",
              "    <ul class=\"nav nav-tabs\" role=\"tablist\">\n",
              "        <li role=\"presentation\" class=\"active\"><a href=\"#quantiles-8456800151438372511\"\n",
              "                                                  aria-controls=\"quantiles-8456800151438372511\" role=\"tab\"\n",
              "                                                  data-toggle=\"tab\">Statistics</a></li>\n",
              "        <li role=\"presentation\"><a href=\"#histogram-8456800151438372511\" aria-controls=\"histogram-8456800151438372511\"\n",
              "                                   role=\"tab\" data-toggle=\"tab\">Histogram</a></li>\n",
              "        <li role=\"presentation\"><a href=\"#common-8456800151438372511\" aria-controls=\"common-8456800151438372511\"\n",
              "                                   role=\"tab\" data-toggle=\"tab\">Common Values</a></li>\n",
              "        <li role=\"presentation\"><a href=\"#extreme-8456800151438372511\" aria-controls=\"extreme-8456800151438372511\"\n",
              "                                   role=\"tab\" data-toggle=\"tab\">Extreme Values</a></li>\n",
              "\n",
              "    </ul>\n",
              "\n",
              "    <div class=\"tab-content\">\n",
              "        <div role=\"tabpanel\" class=\"tab-pane active row\" id=\"quantiles-8456800151438372511\">\n",
              "            <div class=\"col-md-4 col-md-offset-1\">\n",
              "                <p class=\"h4\">Quantile statistics</p>\n",
              "                <table class=\"stats indent\">\n",
              "                    <tr>\n",
              "                        <th>Minimum</th>\n",
              "                        <td>0</td>\n",
              "                    </tr>\n",
              "                    <tr>\n",
              "                        <th>5-th percentile</th>\n",
              "                        <td>4622</td>\n",
              "                    </tr>\n",
              "                    <tr>\n",
              "                        <th>Q1</th>\n",
              "                        <td>23197</td>\n",
              "                    </tr>\n",
              "                    <tr>\n",
              "                        <th>Median</th>\n",
              "                        <td>46597</td>\n",
              "                    </tr>\n",
              "                    <tr>\n",
              "                        <th>Q3</th>\n",
              "                        <td>69684</td>\n",
              "                    </tr>\n",
              "                    <tr>\n",
              "                        <th>95-th percentile</th>\n",
              "                        <td>88156</td>\n",
              "                    </tr>\n",
              "                    <tr>\n",
              "                        <th>Maximum</th>\n",
              "                        <td>92586</td>\n",
              "                    </tr>\n",
              "                    <tr>\n",
              "                        <th>Range</th>\n",
              "                        <td>92586</td>\n",
              "                    </tr>\n",
              "                    <tr>\n",
              "                        <th>Interquartile range</th>\n",
              "                        <td>46487</td>\n",
              "                    </tr>\n",
              "                </table>\n",
              "            </div>\n",
              "            <div class=\"col-md-4 col-md-offset-2\">\n",
              "                <p class=\"h4\">Descriptive statistics</p>\n",
              "                <table class=\"stats indent\">\n",
              "                    <tr>\n",
              "                        <th>Standard deviation</th>\n",
              "                        <td>26803</td>\n",
              "                    </tr>\n",
              "                    <tr>\n",
              "                        <th>Coef of variation</th>\n",
              "                        <td>0.57697</td>\n",
              "                    </tr>\n",
              "                    <tr>\n",
              "                        <th>Kurtosis</th>\n",
              "                        <td>-1.2034</td>\n",
              "                    </tr>\n",
              "                    <tr>\n",
              "                        <th>Mean</th>\n",
              "                        <td>46455</td>\n",
              "                    </tr>\n",
              "                    <tr>\n",
              "                        <th>MAD</th>\n",
              "                        <td>23218</td>\n",
              "                    </tr>\n",
              "                    <tr class=\"\">\n",
              "                        <th>Skewness</th>\n",
              "                        <td>-0.0060884</td>\n",
              "                    </tr>\n",
              "                    <tr>\n",
              "                        <th>Sum</th>\n",
              "                        <td>11038013665</td>\n",
              "                    </tr>\n",
              "                    <tr>\n",
              "                        <th>Variance</th>\n",
              "                        <td>718390000</td>\n",
              "                    </tr>\n",
              "                    <tr>\n",
              "                        <th>Memory size</th>\n",
              "                        <td>1.8 MiB</td>\n",
              "                    </tr>\n",
              "                </table>\n",
              "            </div>\n",
              "        </div>\n",
              "        <div role=\"tabpanel\" class=\"tab-pane col-md-8 col-md-offset-2\" id=\"histogram-8456800151438372511\">\n",
              "            <img src=\"data:image/png;base64,iVBORw0KGgoAAAANSUhEUgAAAlgAAAGQCAYAAAByNR6YAAAABHNCSVQICAgIfAhkiAAAAAlwSFlzAAAPYQAAD2EBqD%2BnaQAAADl0RVh0U29mdHdhcmUAbWF0cGxvdGxpYiB2ZXJzaW9uIDMuMC4zLCBodHRwOi8vbWF0cGxvdGxpYi5vcmcvnQurowAAIABJREFUeJzt3Xl0VFW%2B/v8nA8SGkIQCE/qLCDRDmgyMhtgBDYOCyiAig1GvjQIyBJAICoo0KN2Ci9CowEXRxtuISi7DUkFQVECxxW4HxEoYNAEWGBMJJkUGEsiwf3/wo64lICA7VCW8X2tlKftTZ599PhDq4ZxTJ37GGCMAAABY4%2B/tBQAAANQ2BCwAAADLCFgAAACWEbAAAAAsI2ABAABYRsACAACwjIAFAABgGQELAADAMgIWAACAZQQsAAAAywhYAAAAlhGwAAAALCNgAQAAWEbAAgAAsIyABQAAYBkBCwAAwDICFgAAgGUELAAAAMsIWAAAAJYRsAAAACwjYAEAAFhGwAIAALCMgAUAAGAZAQsAAMAyAhYAAIBlBCwAAADLCFgAAACWEbAAAAAsI2ABAABYRsACAACwjIAFAABgGQELAADAMgIWAACAZQQsAAAAywhYAAAAlhGwAAAALCNgAQAAWEbAAgAAsIyABQAAYFmgtxdwpcjLK7I%2Bp7%2B/nxyO%2BsrPL1FVlbE%2BP86OvnsHffceeu8d9N2Oq69u4JX9cgarBvP395Ofn5/8/f28vZQrCn33DvruPfTeO%2Bh7zUbAAgAAsIyABQAAYBkBCwAAwDICFgAAgGUELAAAAMsIWAAAAJb5bMDKzs5WcnKy4uPjlZCQoOnTp6uwsFDff/%2B9IiMjFRsb6/H1j3/8w73txo0bNWDAAHXq1EmDBw/WJ5984q5VVVVp4cKF6t27t%2BLi4jRy5EgdPnzYXXe5XJo8ebISEhLUvXt3zZgxQ2VlZZf12AEAQM3mswFr7NixCgkJ0ZYtW7Ru3Tp99913euaZZ9x1p9Pp8TVy5EhJ0p49ezRt2jRNnTpVn332mUaMGKEJEyYoNzdXkvTaa69p/fr1WrZsmbZu3aoWLVooOTlZxpx6iNvMmTNVWlqqDRs2aO3atcrKylJqaurlbwAAAKixfDJgFRYWKiYmRlOmTFH9%2BvXVpEkT3XHHHfriiy/Ou%2B3q1auVmJioxMREBQUFaeDAgWrbtq3efvttSVJaWppGjBihVq1aKTg4WCkpKcrKytKuXbt09OhRffDBB0pJSZHD4VBERITGjx%2BvtWvXqry8vLoPGwAA1BI%2B%2BaNyQkJCNHfuXI%2BxnJwchYeHu3/96KOP6tNPP1VFRYWGDh2qSZMmqU6dOsrIyFBiYqLHtlFRUXI6nSorK1NmZqaioqLcteDgYDVv3lxOp1NFRUUKCAhQZGSkux4dHa3jx49r//79HuO/5siRI8rLy/MYCwys57F%2BGwIC/D3%2Bi8uDvnsHffceeu8d9L1m88mA9UtOp1MrV67U0qVLVbduXXXq1Ek333yz/va3v2nPnj2aOHGiAgMD9dBDD8nlcik0NNRj%2B9DQUGVmZurYsWMyxpy1XlBQoLCwMAUHB8vPz8%2BjJkkFBQUXvN60tDQtXrzYYyw5OVmTJk262EO/ICEhv6uWefHr6Lt30HfvoffeQd9rJp8PWF9%2B%2BaXGjRunKVOmKCEhQZK0atUqd719%2B/YaM2aMXnzxRT300EOS5L6f6lx%2BrX6%2BbS/E8OHD1atXL4%2BxwMB6KigoueS5fy4gwF8hIb9TYWGpKiurrM6Nc6Pv3kHfvYfeewd9t6Nhw/pe2a9PB6wtW7bokUce0cyZMzVo0KBzvq5p06Y6evSojDFq2LChXC6XR93lcsnhcCgsLEz%2B/v5nrTdq1EgOh0PFxcWqrKxUQECAuyZJjRo1uuB1h4eHn3E5MC%2BvSBUV1fMNUllZVW1z49zou3fQd%2B%2Bh995B32smnw1YX331laZNm6bnnntO3bt3d4/v2LFDX3/9tcaNG%2Bce279/v5o2bSo/Pz/FxMQoPT3dYy6n06l%2B/fopKChIbdq0UUZGhrp27Srp1A31hw4dUvv27dW0aVMZY7R3715FR0e7tw0JCVHLli0vw1EDAGDPrc/%2By9tLuGCbJnfz9hKs8sk75yoqKvTEE09o6tSpHuFKkho0aKAlS5borbfeUnl5uZxOp/7xj38oKSlJkjRs2DB9%2Bumn2rZtm06cOKE1a9bo4MGDGjhwoCQpKSlJK1asUFZWloqLi5Wamqp27dopNjZWDodDffv21bPPPqv8/Hzl5uZqyZIlGjJkiAIDfTaLAgAAH%2BNnbNx0ZNkXX3yhe%2B65R3Xr1j2j9u6772r37t1avHixDh48qAYNGui//uu/NHr0aPn7n8qLmzdv1oIFC5Sdna3WrVtrxowZiouLk3TqHqtFixZp1apVKikpUXx8vJ566ik1adJEklRUVKRZs2Zp69atqlOnjvr376/p06efdS0XIy%2Bv6JK2P5vAQH81bFhfBQUlnD6%2BjOi7d9B376H33mGj75zBkq6%2BukG1zHs%2BPhmwaiMCVu1B372DvnsPvfcOApYd3gpYPnmJEAAAoCYjYAEAAFhGwAIAALCMgAUAAGAZAQsAAMAyHu4EALUMnxwDvI8zWAAAAJZxBgsAzqMmnREC4BsIWDXcdTPe9fYSaq2adumiJoWAmtZbALhYXCIEAACwjIAFAABgGZcIAQBeU5MubUtc3saF4wwWAACAZQQsAAAAy7hECOCyq2mXhYDT%2BLOLC0XAAs6Bv0gBAL8VlwgBAAAsI2ABAABYRsACAACwjIAFAABgGQELAADAMgIWAACAZQQsAAAAywhYAAAAlhGwAAAALCNgAQAAWEbAAgAAsIyABQAAYBkBCwAAwDICFgAAgGUELAAAAMsIWAAAAJYRsAAAACwjYAEAAFhGwAIAALCMgAUAAGAZAQsAAMAyAhYAAIBlBCwAAADLCFgAAACWEbAAAAAsI2ABAABYRsACAACwjIAFAABgGQELAADAMgIWAACAZQQsAAAAywhYAAAAlhGwAAAALCNgAQAAWOazASs7O1vJycmKj49XQkKCpk%2BfrsLCQknSnj17dO%2B996pLly7q06ePli9f7rHtxo0bNWDAAHXq1EmDBw/WJ5984q5VVVVp4cKF6t27t%2BLi4jRy5EgdPnzYXXe5XJo8ebISEhLUvXt3zZgxQ2VlZZfnoAEAQK3gswFr7NixCgkJ0ZYtW7Ru3Tp99913euaZZ1RWVqYxY8bo%2Buuv1/bt27Vw4UK9%2BOKL2rx5s6RT4WvatGmaOnWqPvvsM40YMUITJkxQbm6uJOm1117T%2BvXrtWzZMm3dulUtWrRQcnKyjDGSpJkzZ6q0tFQbNmzQ2rVrlZWVpdTUVK/1AQAA1Dw%2BGbAKCwsVExOjKVOmqH79%2BmrSpInuuOMOffHFF9q2bZvKy8s1btw41atXT9HR0Ro6dKjS0tIkSatXr1ZiYqISExMVFBSkgQMHqm3btnr77bclSWlpaRoxYoRatWql4OBgpaSkKCsrS7t27dLRo0f1wQcfKCUlRQ6HQxERERo/frzWrl2r8vJyb7YEAADUID4ZsEJCQjR37lw1btzYPZaTk6Pw8HBlZGQoMjJSAQEB7lpUVJTS09MlSRkZGYqKivKYLyoqSk6nU2VlZcrMzPSoBwcHq3nz5nI6ndqzZ48CAgIUGRnprkdHR%2Bv48ePav39/dR0uAACoZQK9vYAL4XQ6tXLlSi1dulSbNm1SSEiIRz0sLEwul0tVVVVyuVwKDQ31qIeGhiozM1PHjh2TMeas9YKCAoWFhSk4OFh%2Bfn4eNUkqKCi44PUeOXJEeXl5HmOBgfUUHh5%2BwXNciIAAn8zHAABctMDA2vWe5vMB68svv9S4ceM0ZcoUJSQkaNOmTWd93c9D0en7qc7l1%2Brn2/ZCpKWlafHixR5jycnJmjRp0iXPDQBAbdSwYX1vL8Eqnw5YW7Zs0SOPPKKZM2dq0KBBkiSHw6GDBw96vM7lciksLEz%2B/v5q2LChXC7XGXWHw%2BF%2BzdnqjRo1ksPhUHFxsSorK92XIE%2B/tlGjRhe87uHDh6tXr14eY4GB9VRQUHLBc1wIzmABAGoL2%2B%2BRp3kruPlswPrqq680bdo0Pffcc%2Brevbt7PCYmRm%2B88YYqKioUGHhq%2BU6nUx06dHDXT9%2BPdZrT6VS/fv0UFBSkNm3aKCMjQ127dpV06ob6Q4cOqX379mratKmMMdq7d6%2Bio6Pd24aEhKhly5YXvPbw8PAzLgfm5RWpoqLq4hsBAMAVoLa9R/rkKZCKigo98cQTmjp1qke4kqTExEQFBwdr6dKlKi0t1a5du7RmzRolJSVJkoYNG6ZPP/1U27Zt04kTJ7RmzRodPHhQAwcOlCQlJSVpxYoVysrKUnFxsVJTU9WuXTvFxsbK4XCob9%2B%2BevbZZ5Wfn6/c3FwtWbJEQ4YMcYc5AACA8/EzNm46suyLL77QPffco7p1655Re/fdd1VSUqJZs2YpPT1djRs31ujRo3X33Xe7X7N582YtWLBA2dnZat26tWbMmKG4uDhJp%2B6xWrRokVatWqWSkhLFx8frqaeeUpMmTSRJRUVFmjVrlrZu3ao6deqof//%2Bmj59%2BlnXcjHy8oouafuzCQz0182p263PCwDA5bZpcrdqmffqqxtUy7zn45MBqzYiYAEAcG61LWD55CVCAACAmoyABQAAYBkBCwAAwDICFgAAgGUELAAAAMsIWAAAAJYRsAAAACwjYAEAAFhGwAIAALCMgAUAAGAZAQsAAMAyAhYAAIBlBCwAAADLCFgAAACWEbAAAAAsI2ABAABYRsACAACwjIAFAABgGQELAADAMgIWAACAZQQsAAAAywhYAAAAlhGwAAAALCNgAQAAWEbAAgAAsIyABQAAYBkBCwAAwDICFgAAgGUELAAAAMsIWAAAAJYRsAAAACwjYAEAAFhGwAIAALCMgAUAAGAZAQsAAMAyAhYAAIBlBCwAAADLCFgAAACWEbAAAAAsI2ABAABYRsACAACwjIAFAABgGQELAADAMgIWAACAZQQsAAAAywhYAAAAlhGwAAAALLMesHr16qXFixcrJyfH9tQAAAA1gvWAdeedd2rjxo266aabNGrUKG3evFkVFRW2dwMAAOCz/IwxpjomzsjI0IYNG7Rp0yaVl5dr0KBBGjJkiFq2bFkdu/N5eXlF1ucMDPTXzanbrc8LAMDltmlyt2qZ9%2BqrG1TLvOdTbQHrNGOMNm7cqNmzZ6u4uFgJCQl66KGH1L59%2B%2Brcrc8hYAEAcG61LWBV203u5eXl2rhxo0aPHq1p06YpIiJCjz32mNq1a6cRI0Zo/fr1551j%2B/btSkhIUEpKisf4unXr9Mc//lGxsbEeX998840kqaqqSgsXLlTv3r0VFxenkSNH6vDhw%2B7tXS6XJk%2BerISEBHXv3l0zZsxQWVmZu75nzx7de%2B%2B96tKli/r06aPly5db6goAALgSBNqeMCsrS2vWrNGbb76pkpIS9e3bV//85z/VpUsX92vi4uI0e/ZsDRgw4JzzvPTSS1qzZo2aN29%2B1npcXJxeffXVs9Zee%2B01rV%2B/Xi%2B99JIiIiK0cOFCJScn66233pKfn59mzpypkydPasOGDSovL9dDDz2k1NRUPfHEEyorK9OYMWM0bNgwLVu2TAcOHNADDzyga665Rn369Lm05gAAgCuC9TNY/fr107Zt2zRmzBh9/PHHmj9/vke4kqTExETl5%2Bf/6jxBQUG/GrB%2BTVpamkaMGKFWrVopODhYKSkpysrK0q5du3T06FF98MEHSklJkcPhUEREhMaPH6%2B1a9eqvLxc27ZtU3l5ucaNG6d69eopOjpaQ4cOVVpa2kWvAwAAXJmsn8FasWKFunbtet7X7dq161fr991336/Wc3JydP/99ys9PV0hISGaNGmSbr/9dpWVlSkzM1NRUVHu1wYHB6t58%2BZyOp0qKipSQECAIiMj3fXo6GgdP35c%2B/fvV0ZGhiIjIxUQEOCuR0VFafXq1ec9ptOOHDmivLw8j7HAwHoKDw%2B/4DkuREAAjzEDANQOgYG16z3NesCKjIzU2LFjNWTIEN10002SpP/5n//Rv/71L82fP19hYWGXvA%2BHw6EWLVro4YcfVuvWrfX%2B%2B%2B/r0UcfVXh4uP7whz/IGKPQ0FCPbUJDQ1VQUKCwsDAFBwfLz8/PoyZJBQUFcrlcCgkJ8dg2LCxMLpdLVVVV8vc//x%2BAtLQ0LV682GMsOTlZkyZN%2Bq2HDABArdawYX1vL8Eq6wFr7ty5KioqUuvWrd1jPXr00Pbt2zVv3jzNmzfvkvfRo0cP9ejRw/3rfv366f3339e6des0depUSac%2BvXguv%2BWDkz8PZOczfPhw9erVy2MsMLCeCgpKLnq/v4YzWACA2sL2e%2BRp3gpu1gPWJ598ovXr16thw4busRYtWig1NVX9%2B/e3vTu3pk2bKj09XWFhYfL395fL5fKou1wuNWrUSA6HQ8XFxaqsrHRfBjz92tP1gwcPnrHt6XkvRHh4%2BBmXA/PyilRRUfUbjw4AgNqttr1HWj8FUlZWpqCgoDN35O%2Bv0tJSK/t44403tHHjRo%2BxrKwsNWvWTEFBQWrTpo0yMjLctcLCQh06dEjt27dXu3btZIzR3r173XWn06mQkBC1bNlSMTEx2rdvn8fT551Opzp06GBl7QAAoPazHrDi4uI0b948HTt2zD32448/6sknnzzj04S/1cmTJzVnzhw5nU6Vl5drw4YN%2Bvjjj3XXXXdJkpKSkrRixQplZWWpuLhYqampateunWJjY%2BVwONS3b189%2B%2Byzys/PV25urpYsWaIhQ4YoMDBQiYmJCg4O1tKlS1VaWqpdu3ZpzZo1SkpKsrJ2AABQ%2B1l/kvvhw4f1wAMPKDs7W8HBwaqqqlJJSYmaNWumV199VRERERc0T2xsrCS5zyQFBp66mul0OmWM0dKlS7VmzRrl5eXpmmuu0aOPPqqePXtKOnWP1aJFi7Rq1SqVlJQoPj5eTz31lJo0aSJJKioq0qxZs7R161bVqVNH/fv31/Tp01W3bl1J0rfffqtZs2YpPT1djRs31ujRo3X33XdfUl94kjsAAOdW257kXi0/KufkyZP6%2BOOPdejQIfn7%2B6tly5bq3r27x6MPrjQELAAAzq22BSzrN7lLUt26dd2PaAAAALjSWA9Yhw8f1oIFC/Tdd995/Hy/0z788EPbuwQAAPAp1gPW448/riNHjqh79%2B6qV6%2Be7ekBAAB8nvWAlZ6erg8//FAOh8P21AAAADWC9cc0NGrUiDNXAADgimY9YI0ZM0aLFy/%2BTT%2BOBgAAoDawfonw448/1ldffaV169bpmmuuOePHy6xatcr2LgEAAHyK9YAVHBysG2%2B80fa0AAAANYb1gDV37lzbUwIAANQo1u/BkqT9%2B/dr0aJFeuyxx9xjO3furI5dAQAA%2BBzrAWvHjh0aOHCgNm/erA0bNkg69fDR%2B%2B67j4eMAgCAK4L1gLVw4UI98sgjWr9%2Bvfz8/CRJzZo107x587RkyRLbuwMAAPA51gPWt99%2Bq6SkJElyByxJuuWWW5SVlWV7dwAAAD7HesBq0KDBWX8G4ZEjR1S3bl3buwMAAPA51gNW586d9fTTT6u4uNg9duDAAU2bNk1/%2BtOfbO8OAADA51h/TMNjjz2mP//5z4qPj1dlZaU6d%2B6s0tJStWnTRvPmzbO9OwAAAJ9jPWA1adJEGzZs0EcffaQDBw7oqquuUsuWLdWtWzePe7IAAABqK%2BsBS5Lq1Kmjm266qTqmBgAA8HnWA1avXr1%2B9UwVz8ICAAC1nfWAddttt3kErMrKSh04cEBOp1N//vOfbe8OAADA51gPWFOnTj3r%2BHvvvad///vftncHAADgc6rlZxGezU033aR33nnncu0OAADAay5bwNq9e7eMMZdrdwAAAF5j/RLhXXfddcZYaWmpsrKy1KdPH9u7AwAA8DnWA1aLFi3O%2BBRhUFCQhgwZoqFDh9reHQAAgM%2BxHrB4WjsAALjSWQ9Yb7755gW/dtCgQbZ3DwAA4HXWA9aMGTNUVVV1xg3tfn5%2BHmN%2Bfn4ELAAAUCtZD1gvv/yyli9frrFjxyoyMlLGGO3bt08vvfSS7r33XsXHx9veJQAAgE%2Bplnuwli1bpoiICPfYddddp2bNmmnkyJHasGGD7V0CAAD4FOvPwTp48KBCQ0PPGA8JCVF2drbt3QEAAPgc6wGradOmmjdvngoKCtxjhYWFWrBgga699lrbuwMAAPA51i8RPv7445oyZYrS0tJUv359%2Bfv7q7i4WFdddZWWLFlie3cAAAA%2Bx3rA6t69u7Zt26aPPvpIubm5MsYoIiJCN9xwgxo0aGB7dwAAAD7HesCSpN/97nfq3bu3cnNz1axZs%2BrYBQAAgM%2Byfg9WWVmZpk2bpk6dOunWW2%2BVdOoerFGjRqmwsND27gAAAHyO9YA1f/587dmzR6mpqfL3/7/pKysrlZqaant3AAAAPsd6wHrvvff0/PPP65ZbbnH/0OeQkBDNnTtXmzdvtr07AAAAn2M9YJWUlKhFixZnjDscDh0/ftz27gAAAHyO9YB17bXX6t///rckefzswXfffVf/7//9P9u7AwAA8DnWP0V49913a%2BLEibrzzjtVVVWlV155Renp6Xrvvfc0Y8YM27sDAADwOdYD1vDhwxUYGKiVK1cqICBAL7zwglq2bKnU1FTdcssttncHAADgc6wHrPz8fN1555268847bU8NAABQI1i/B6t3794e914BAABcaawHrPj4eG3atMn2tAAAADWG9UuEv//97/W3v/1Ny5Yt07XXXqs6dep41BcsWGB7lwAAAD7FesDKzMzUH/7wB0lSQUGB7ekBAAB8nrWAlZKSooULF%2BrVV191jy1ZskTJycm2dgEAAFAjWLsHa8uWLWeMLVu2zNb0AAAANYa1gHW2Tw7yaUIAAHAlshawTv9g5/ONXYzt27crISFBKSkpZ9Q2btyoAQMGqFOnTho8eLA%2B%2BeQTd62qqkoLFy5U7969FRcXp5EjR%2Brw4cPuusvl0uTJk5WQkKDu3btrxowZKisrc9f37Nmje%2B%2B9V126dFGfPn20fPnySzoOAABwZbH%2BmAZbXnrpJf31r39V8%2BbNz6jt2bNH06ZN09SpU/XZZ59pxIgRmjBhgnJzcyVJr732mtavX69ly5Zp69atatGihZKTk91n1GbOnKnS0lJt2LBBa9euVVZWllJTUyVJZWVlGjNmjK6//npt375dCxcu1IsvvqjNmzdfvoMHAAA1ms8GrKCgIK1Zs%2BasAWv16tVKTExUYmKigoKCNHDgQLVt21Zvv/22JCktLU0jRoxQq1atFBwcrJSUFGVlZWnXrl06evSoPvjgA6WkpMjhcCgiIkLjx4/X2rVrVV5erm3btqm8vFzjxo1TvXr1FB0draFDhyotLe1ytwAAANRQ1j5FWF5erilTppx37EKfg3Xfffeds5aRkaHExESPsaioKDmdTpWVlSkzM1NRUVHuWnBwsJo3by6n06mioiIFBAQoMjLSXY%2BOjtbx48e1f/9%2BZWRkKDIyUgEBAR5zr169%2BoLWDQAAYC1gdenSRUeOHDnvmA0ul0uhoaEeY6GhocrMzNSxY8dkjDlrvaCgQGFhYQoODva4P%2Bz0awsKCuRyuRQSEuKxbVhYmFwul6qqquTvf/6TfkeOHFFeXp7HWGBgPYWHh1/UcZ5PQIDPnoAEAOCiBAbWrvc0awHr58%2B/uhzO9wnFX6v/lk83XswN%2B2lpaVq8eLHHWHJysiZNmnTR%2BwUA4ErQsGF9by/BKutPcr8cGjZsKJfL5THmcrnkcDgUFhYmf3//s9YbNWokh8Oh4uJiVVZWui8Dnn7t6frBgwfP2Pb0vBdi%2BPDh6tWrl8dYYGA9FRSUXMxhnhdnsAAAtYXt98jTvBXcamTAiomJUXp6useY0%2BlUv379FBQUpDZt2igjI0Ndu3aVJBUWFurQoUNq3769mjZtKmOM9u7dq%2BjoaPe2ISEhatmypWJiYvTGG2%2BooqJCgYGB7nqHDh0ueH3h4eFnXA7MyytSRUXVpRw2AAC1Vm17j6yRp0CGDRumTz/9VNu2bdOJEye0Zs0aHTx4UAMHDpQkJSUlacWKFcrKylJxcbFSU1PVrl07xcbGyuFwqG/fvnr22WeVn5%2Bv3NxcLVmyREOGDFFgYKASExMVHByspUuXqrS0VLt27dKaNWuUlJTk5aMGAAA1hZ/x0cetx8bGSpIqKiokyeNskiRt3rxZCxYsUHZ2tlq3bq0ZM2YoLi5O0ql7rBYtWqRVq1appKRE8fHxeuqpp9SkSRNJUlFRkWbNmqWtW7eqTp066t%2B/v6ZPn666detKkr799lvNmjVL6enpaty4sUaPHq277777ko4nL6/okrY/m8BAf92cut36vAAAXG6bJnerlnmvvrpBtcx7Pj4bsGobAhYAAOdW2wJWjbxECAAA4MsIWAAAAJYRsAAAACwjYAEAAFhGwAIAALCMgAUAAGAZAQsAAMAyAhYAAIBlBCwAAADLCFgAAACWEbAAAAAsI2ABAABYRsACAACwjIAFAABgGQELAADAMgIWAACAZQQsAAAAywhYAAAAlhGwAAAALCNgAQAAWEbAAgAAsIyABQAAYBkBCwAAwDICFgAAgGUELAAAAMsIWAAAAJYRsAAAACwjYAEAAFhGwAIAALCMgAUAAGAZAQsAAMAyAhYAAIBlBCwAAADLCFgAAACWEbAAAAAsI2ABAABYRsACAACwjIAFAABgGQELAADAMgIWAACAZQQsAAAAywhYAAAAlhGwAAAALCNgAQAAWEbAAgAAsIyABQAAYBkBCwAAwDICFgAAgGUELAAAAMsIWAAAAJYRsAAAACyrsQErMjJSMTExio2NdX/NmTNHkrRjxw4NGTJEnTt3Vr9%2B/fT22297bLtixQr17dtXnTt3VlJSktLT0921EydO6C9/%2BYtuvPFGxcfHa9KkSSooKLisxwYAAGq2QG8v4FK8%2B%2B67uuaaazzGjhw5ovHjx2vGjBkaMGCAvvzyS40bN04tW7ZUbGystmzZokWLFunll19WZGSkVqxYobFjx2rz5s2qV6%2BeFi5cqIyMDKWlpekuqkXXAAAQWUlEQVR3v/udZs6cqccee0wvvPCCl44SAADUNDX2DNa5rF%2B/Xi1atNCQIUMUFBSkhIQE9erVS6tXr5YkpaWlafDgwerQoYOuuuoqjRo1SpK0detWVVRUaM2aNRo/frx%2B//vfKywsTJMnT9a2bdv0448/evOwAABADVKjz2AtWLBAO3fuVHFxsW699VZNnz5dGRkZioqK8nhdVFSUNm3aJEnKyMjQbbfd5q75%2B/urXbt2cjqdateunYqKihQdHe2ut2rVSldddZUyMjIUERFxQes6cuSI8vLyPMYCA%2BspPDz8tx7qWQUE1Lp8DAC4QgUG1q73tBobsDp27KiEhAQ988wzOnz4sCZPnqwnn3xSLpfrjCAUFhbmvo/K5XIpNDTUox4aGqqCggK5XC5JUkhIiEc9JCTkou7DSktL0%2BLFiz3GkpOTNWnSpAueAwCAK0nDhvW9vQSramzASktLc/9/q1atNHXqVI0bN05dunQ577bGmEuqn8/w4cPVq1cvj7HAwHoqKCi5pHl/iTNYAIDawvZ75GneCm41NmD90jXXXKPKykr5%2B/u7z0SdVlBQIIfDIUlq2LDhGXWXy6U2bdq4X%2BNyuVS//v/9hhw7dkyNGjW64LWEh4efcTkwL69IFRVVF3VMAABcKWrbe2SNPAWye/duzZs3z2MsKytLdevWVWJiosdjFyQpPT1dHTp0kCTFxMQoIyPDXausrNTu3bvVoUMHNWvWTKGhoR71b7/9VidPnlRMTEw1HhEAAKhNamTAatSokdLS0rRs2TKdPHlSBw4c0HPPPafhw4fr9ttvV3Z2tlavXq0TJ07oo48%2B0kcffaRhw4ZJkpKSkvTmm2/q66%2B/VmlpqZYuXaq6deuqR48eCggI0LBhw/TCCy8oJydHBQUF%2Bvvf/66bb75ZjRs39vJRAwCAmsLPXOoNR17y%2Beefa8GCBdq3b5/q1q2rO%2B64QykpKQoKCtLnn3%2Buv/71r8rKylLTpk01ZcoU9enTx73t66%2B/rmXLlumnn35SbGysZs%2BerbZt20qSTp48qblz5%2Bqdd95RRUWFevbsqdmzZ6tBgwaXtN68vKJL2v5sAgP9dXPqduvzAgBwuW2a3K1a5r366kt7//6tamzAqmkIWAAAnFttC1g18hIhAACALyNgAQAAWEbAAgAAsIyABQAAYBkBCwAAwDICFgAAgGUELAAAAMsIWAAAAJYRsAAAACwjYAEAAFhGwAIAALCMgAUAAGAZAQsAAMAyAhYAAIBlBCwAAADLCFgAAACWEbAAAAAsI2ABAABYRsACAACwjIAFAABgGQELAADAMgIWAACAZQQsAAAAywhYAAAAlhGwAAAALCNgAQAAWEbAAgAAsIyABQAAYBkBCwAAwDICFgAAgGUELAAAAMsIWAAAAJYRsAAAACwjYAEAAFhGwAIAALCMgAUAAGAZAQsAAMAyAhYAAIBlBCwAAADLCFgAAACWEbAAAAAsI2ABAABYRsACAACwjIAFAABgGQELAADAMgIWAACAZQQsAAAAywhYAAAAlhGwAAAALCNgAQAAWEbAAgAAsIyAdRbZ2dl68MEHFR8fr549e2r%2B/Pmqqqry9rIAAEANEejtBfiiiRMnKjo6Wh988IF%2B%2BuknjRkzRo0bN9b999/v7aUBAIAagDNYv%2BB0OrV3715NnTpVDRo0UIsWLTRixAilpaV5e2kAAKCG4AzWL2RkZKhp06YKDQ11j0VHR%2BvAgQMqLi5WcHDweec4cuSI8vLyPMYCA%2BspPDzc6loDAsjHAIDaITCwdr2nEbB%2BweVyKSQkxGPsdNgqKCi4oICVlpamxYsXe4xNmDBBEydOtLdQnQpyf27ynYYPH249vOHcjhw5orS0NPp%2BmdF376H33kHfa7baFRctMcZc0vbDhw/XunXrPL6GDx9uaXX/Jy8vT4sXLz7jbBmqF333DvruPfTeO%2Bh7zcYZrF9wOBxyuVweYy6XS35%2BfnI4HBc0R3h4OP/aAADgCsYZrF%2BIiYlRTk6O8vPz3WNOp1OtW7dW/fr1vbgyAABQUxCwfiEqKkqxsbFasGCBiouLlZWVpVdeeUVJSUneXhoAAKghAmbPnj3b24vwNTfccIM2bNigOXPm6J133tGQIUM0cuRI%2Bfn5eXtpZ6hfv766du3K2bXLjL57B333HnrvHfS95vIzl3pHNwAAADxwiRAAAMAyAhYAAIBlBCwAAADLCFgAAACWEbAAAAAsI2ABAABYRsACAACwjIAFAABgGQELAADAMgJWDZSdna0HH3xQ8fHx6tmzp%2BbPn6%2BqqipvL6tGyM7OVnJysuLj45WQkKDp06ersLBQkrRnzx7de%2B%2B96tKli/r06aPly5d7bLtx40YNGDBAnTp10uDBg/XJJ5%2B4a1VVVVq4cKF69%2B6tuLg4jRw5UocPH3bXXS6XJk%2BerISEBHXv3l0zZsxQWVnZ5TloH/P0008rMjLS/esdO3ZoyJAh6ty5s/r166e3337b4/UrVqxQ37591blzZyUlJSk9Pd1dO3HihP7yl7/oxhtvVHx8vCZNmqSCggJ3ne%2BVU5YuXaru3burY8eOGjFihL7//ntJ9L467d69W/fdd5%2Buu%2B46devWTVOnTlV%2Bfr4k%2Bn7FMKhx7rjjDvPEE0%2BYwsJCc%2BDAAdOnTx%2BzfPlyby%2BrRujfv7%2BZPn26KS4uNjk5OWbw4MHm8ccfN6WlpeaGG24wixYtMiUlJSY9Pd107drVvPfee8YYY3bv3m1iYmLMtm3bTFlZmXnrrbdMhw4dTE5OjjHGmBUrVpiePXuazMxMU1RUZJ566ikzYMAAU1VVZYwxZsKECebBBx80P/30k8nNzTXDhw83c%2BbM8VofvGX37t2ma9eupm3btsYYY3788UfTsWNHs3r1alNWVmb%2B9a9/mfbt25tvvvnGGGPMhx9%2BaK677jrz9ddfm9LSUvPiiy%2Babt26mZKSEmOMMXPnzjWDBw82P/zwgykoKDATJkwwY8aMce%2BP7xVjVq5caW655RaTlZVlioqKzJw5c8ycOXPofTUqLy833bp1MwsWLDAnTpww%2Bfn55v777zcTJ06k71cQAlYN880335h27doZl8vlHnv99ddN3759vbiqmuHYsWNm%2BvTpJi8vzz326quvmj59%2BphNmzaZ66%2B/3lRUVLhr8%2BfPNw888IAxxpgnn3zSJCcne8w3dOhQ8%2BKLLxpjjOnXr5/55z//6a4VFRWZqKgos3PnTpOXl2f%2B%2BMc/mj179rjrH330kenYsaM5efJktRyrL6qsrDRDhw41//3f/%2B0OWC%2B//LIZNGiQx%2BsmT55sZs6caYwx5sEHHzRPP/20xxzdunUzGzZsMOXl5aZLly7mgw8%2BcNczMzNNZGSkyc3N5Xvl/9erVy/3PxR%2Bjt5Xnx9%2B%2BMG0bdvWZGZmusdef/11c9NNN9H3KwiXCGuYjIwMNW3aVKGhoe6x6OhoHThwQMXFxV5cme8LCQnR3Llz1bhxY/dYTk6OwsPDlZGRocjISAUEBLhrUVFR7lPzGRkZioqK8pgvKipKTqdTZWVlyszM9KgHBwerefPmcjqd2rNnjwICAjwui0VHR%2Bv48ePav39/dR2uz1m1apWCgoI0YMAA99i5%2Bnquvvv7%2B6tdu3ZyOp06dOiQioqKFB0d7a63atVKV111lTIyMvhekfTjjz/q%2B%2B%2B/17Fjx3Tbbbe5Lynl5%2BfT%2B2oUERGhdu3aKS0tTSUlJfrpp5%2B0efNm9ejRg75fQQhYNYzL5VJISIjH2Olvpp9fh8f5OZ1OrVy5UuPGjTtrX8PCwuRyuVRVVSWXy%2BXxl5Z0qu8FBQU6duyYjDHnrLtcLgUHB8vPz8%2BjJl05v2dHjx7VokWLNGvWLI/xc/X9dF9%2Bre8ul0uSztg%2BJCTEXb/Sv1dyc3MlSe%2B%2B%2B65eeeUVvfXWW8rNzdUTTzxB76uRv7%2B/Fi1apA8//FCdO3dWQkKCKioqNGXKFPp%2BBSFg1UDGGG8vocb78ssvNXLkSE2ZMkUJCQnnfN3PQ9H5%2Bv5r9Sv992zu3LkaPHiwWrdufdHb0vff7vTxjxo1ShEREWrSpIkmTpyoLVu2XNT2v6V%2BJff%2B5MmTGjt2rG655RZ98cUX%2Bvjjj9WgQQNNnTr1gran77UDAauGcTgc7n/FnOZyueTn5yeHw%2BGlVdUsW7Zs0YMPPqjHH39c9913n6RTff3lv/BcLpfCwsLk7%2B%2Bvhg0bnrXvDofD/Zqz1Rs1aiSHw6Hi4mJVVlZ61CSpUaNG1XGIPmXHjh3auXOnkpOTz6idra8FBQXuP8u/1vfTr/ll/dixY%2B6%2BX%2BnfK6cvh//8rEbTpk1ljFF5eTm9ryY7duzQ999/r4cfflgNGjRQRESEJk2apPfff/%2Bsf1fQ99qJgFXDxMTEKCcnx/1xX%2BnUpa7WrVurfv36XlxZzfDVV19p2rRpeu655zRo0CD3eExMjPbt26eKigr3mNPpVIcOHdz1n39U%2Buf1oKAgtWnTRhkZGe5aYWGhDh06pPbt26tdu3Yyxmjv3r0e24aEhKhly5bVdag%2B4%2B2339ZPP/2knj17Kj4%2BXoMHD5YkxcfHq23btmf0NT093aPvP%2B9rZWWldu/erQ4dOqhZs2YKDQ31qH/77bc6efKkYmJi%2BF6R1KRJEwUHB2vPnj3usezsbNWpU0eJiYn0vppUVlaqqqrK42zSyZMnJUkJCQn0/Upxue%2Bqx6UbOnSoefzxx01RUZHJzMw0vXr1MitXrvT2snxeeXm5ufXWW82qVavOqJ04ccL07NnTPP/88%2Bb48ePm66%2B/Ntddd53ZunWrMcaYffv2mdjYWLN161ZTVlZmVq9ebTp16mSOHDlijDn1SZ0ePXq4H9Mwc%2BZMc%2Bedd7rnnzx5shk1apT56aefTE5OjrnzzjvNvHnzLstxe5vL5TI5OTnur507d5q2bduanJwck52dbTp16mT%2B93//15SVlZlt27aZ9u3buz9x%2BdFHH5kuXbqYnTt3muPHj5tFixaZxMREU1paaow59UnPO%2B64w/zwww8mPz/fjBkzxkycONG9b75XjHn66adN7969zcGDB83Ro0fN8OHDzfTp083Ro0fpfTXJz883Xbt2NX//%2B9/N8ePHTX5%2Bvhk7dqy555576PsVhIBVA%2BXk5JhRo0aZ9u3bm4SEBPP888%2B7n7eEc/v8889N27ZtTUxMzBlf33//vdm3b5%2B56667TExMjOnRo4d57bXXPLZ/7733TJ8%2BfUx0dLS5/fbbzX/%2B8x93raqqyjz33HPmT3/6k2nfvr0ZPXq0%2BxlZxhhTWFhoUlJSTMeOHU1cXJx58sknzYkTJy7bsfuSw4cPux/TYIwx//nPf8zAgQNNdHS06dOnzxmPFHjttddMYmKiiYmJMUlJSWbfvn3u2okTJ8zs2bNNXFyc6dSpk3n44YdNYWGhu873imePOnbsaKZNm2aKi4uNMfS%2BOjmdTnPvvfea6667ziQkJJjJkyeb3NxcYwx9v1L4GcMdcQAAADZxDxYAAIBlBCwAAADLCFgAAACWEbAAAAAsI2ABAABYRsACAACwjIAFAABgGQELAADAMgIWAACAZQQsAAAAywhYAAAAlhGwAAAALCNgAQAAWPb/AYjh1iCPfPJiAAAAAElFTkSuQmCC\"/>\n",
              "        </div>\n",
              "        <div role=\"tabpanel\" class=\"tab-pane col-md-12\" id=\"common-8456800151438372511\">\n",
              "            \n",
              "<table class=\"freq table table-hover\">\n",
              "    <thead>\n",
              "    <tr>\n",
              "        <td class=\"fillremaining\">Value</td>\n",
              "        <td class=\"number\">Count</td>\n",
              "        <td class=\"number\">Frequency (%)</td>\n",
              "        <td style=\"min-width:200px\">&nbsp;</td>\n",
              "    </tr>\n",
              "    </thead>\n",
              "    <tr class=\"\">\n",
              "        <td class=\"fillremaining\">71457</td>\n",
              "        <td class=\"number\">73</td>\n",
              "        <td class=\"number\">0.0%</td>\n",
              "        <td>\n",
              "            <div class=\"bar\" style=\"width:1%\">&nbsp;</div>\n",
              "        </td>\n",
              "</tr><tr class=\"\">\n",
              "        <td class=\"fillremaining\">29947</td>\n",
              "        <td class=\"number\">70</td>\n",
              "        <td class=\"number\">0.0%</td>\n",
              "        <td>\n",
              "            <div class=\"bar\" style=\"width:1%\">&nbsp;</div>\n",
              "        </td>\n",
              "</tr><tr class=\"\">\n",
              "        <td class=\"fillremaining\">59007</td>\n",
              "        <td class=\"number\">70</td>\n",
              "        <td class=\"number\">0.0%</td>\n",
              "        <td>\n",
              "            <div class=\"bar\" style=\"width:1%\">&nbsp;</div>\n",
              "        </td>\n",
              "</tr><tr class=\"\">\n",
              "        <td class=\"fillremaining\">52082</td>\n",
              "        <td class=\"number\">67</td>\n",
              "        <td class=\"number\">0.0%</td>\n",
              "        <td>\n",
              "            <div class=\"bar\" style=\"width:1%\">&nbsp;</div>\n",
              "        </td>\n",
              "</tr><tr class=\"\">\n",
              "        <td class=\"fillremaining\">68540</td>\n",
              "        <td class=\"number\">64</td>\n",
              "        <td class=\"number\">0.0%</td>\n",
              "        <td>\n",
              "            <div class=\"bar\" style=\"width:1%\">&nbsp;</div>\n",
              "        </td>\n",
              "</tr><tr class=\"\">\n",
              "        <td class=\"fillremaining\">85051</td>\n",
              "        <td class=\"number\">63</td>\n",
              "        <td class=\"number\">0.0%</td>\n",
              "        <td>\n",
              "            <div class=\"bar\" style=\"width:1%\">&nbsp;</div>\n",
              "        </td>\n",
              "</tr><tr class=\"\">\n",
              "        <td class=\"fillremaining\">65724</td>\n",
              "        <td class=\"number\">62</td>\n",
              "        <td class=\"number\">0.0%</td>\n",
              "        <td>\n",
              "            <div class=\"bar\" style=\"width:1%\">&nbsp;</div>\n",
              "        </td>\n",
              "</tr><tr class=\"\">\n",
              "        <td class=\"fillremaining\">20823</td>\n",
              "        <td class=\"number\">60</td>\n",
              "        <td class=\"number\">0.0%</td>\n",
              "        <td>\n",
              "            <div class=\"bar\" style=\"width:1%\">&nbsp;</div>\n",
              "        </td>\n",
              "</tr><tr class=\"\">\n",
              "        <td class=\"fillremaining\">3742</td>\n",
              "        <td class=\"number\">59</td>\n",
              "        <td class=\"number\">0.0%</td>\n",
              "        <td>\n",
              "            <div class=\"bar\" style=\"width:1%\">&nbsp;</div>\n",
              "        </td>\n",
              "</tr><tr class=\"\">\n",
              "        <td class=\"fillremaining\">72494</td>\n",
              "        <td class=\"number\">59</td>\n",
              "        <td class=\"number\">0.0%</td>\n",
              "        <td>\n",
              "            <div class=\"bar\" style=\"width:1%\">&nbsp;</div>\n",
              "        </td>\n",
              "</tr><tr class=\"other\">\n",
              "        <td class=\"fillremaining\">Other values (74713)</td>\n",
              "        <td class=\"number\">236962</td>\n",
              "        <td class=\"number\">99.7%</td>\n",
              "        <td>\n",
              "            <div class=\"bar\" style=\"width:100%\">&nbsp;</div>\n",
              "        </td>\n",
              "</tr>\n",
              "</table>\n",
              "        </div>\n",
              "        <div role=\"tabpanel\" class=\"tab-pane col-md-12\"  id=\"extreme-8456800151438372511\">\n",
              "            <p class=\"h4\">Minimum 5 values</p>\n",
              "            \n",
              "<table class=\"freq table table-hover\">\n",
              "    <thead>\n",
              "    <tr>\n",
              "        <td class=\"fillremaining\">Value</td>\n",
              "        <td class=\"number\">Count</td>\n",
              "        <td class=\"number\">Frequency (%)</td>\n",
              "        <td style=\"min-width:200px\">&nbsp;</td>\n",
              "    </tr>\n",
              "    </thead>\n",
              "    <tr class=\"\">\n",
              "        <td class=\"fillremaining\">0</td>\n",
              "        <td class=\"number\">1</td>\n",
              "        <td class=\"number\">0.0%</td>\n",
              "        <td>\n",
              "            <div class=\"bar\" style=\"width:25%\">&nbsp;</div>\n",
              "        </td>\n",
              "</tr><tr class=\"\">\n",
              "        <td class=\"fillremaining\">2</td>\n",
              "        <td class=\"number\">4</td>\n",
              "        <td class=\"number\">0.0%</td>\n",
              "        <td>\n",
              "            <div class=\"bar\" style=\"width:100%\">&nbsp;</div>\n",
              "        </td>\n",
              "</tr><tr class=\"\">\n",
              "        <td class=\"fillremaining\">3</td>\n",
              "        <td class=\"number\">1</td>\n",
              "        <td class=\"number\">0.0%</td>\n",
              "        <td>\n",
              "            <div class=\"bar\" style=\"width:25%\">&nbsp;</div>\n",
              "        </td>\n",
              "</tr><tr class=\"\">\n",
              "        <td class=\"fillremaining\">5</td>\n",
              "        <td class=\"number\">2</td>\n",
              "        <td class=\"number\">0.0%</td>\n",
              "        <td>\n",
              "            <div class=\"bar\" style=\"width:50%\">&nbsp;</div>\n",
              "        </td>\n",
              "</tr><tr class=\"\">\n",
              "        <td class=\"fillremaining\">6</td>\n",
              "        <td class=\"number\">1</td>\n",
              "        <td class=\"number\">0.0%</td>\n",
              "        <td>\n",
              "            <div class=\"bar\" style=\"width:25%\">&nbsp;</div>\n",
              "        </td>\n",
              "</tr>\n",
              "</table>\n",
              "            <p class=\"h4\">Maximum 5 values</p>\n",
              "            \n",
              "<table class=\"freq table table-hover\">\n",
              "    <thead>\n",
              "    <tr>\n",
              "        <td class=\"fillremaining\">Value</td>\n",
              "        <td class=\"number\">Count</td>\n",
              "        <td class=\"number\">Frequency (%)</td>\n",
              "        <td style=\"min-width:200px\">&nbsp;</td>\n",
              "    </tr>\n",
              "    </thead>\n",
              "    <tr class=\"\">\n",
              "        <td class=\"fillremaining\">92581</td>\n",
              "        <td class=\"number\">1</td>\n",
              "        <td class=\"number\">0.0%</td>\n",
              "        <td>\n",
              "            <div class=\"bar\" style=\"width:34%\">&nbsp;</div>\n",
              "        </td>\n",
              "</tr><tr class=\"\">\n",
              "        <td class=\"fillremaining\">92582</td>\n",
              "        <td class=\"number\">1</td>\n",
              "        <td class=\"number\">0.0%</td>\n",
              "        <td>\n",
              "            <div class=\"bar\" style=\"width:34%\">&nbsp;</div>\n",
              "        </td>\n",
              "</tr><tr class=\"\">\n",
              "        <td class=\"fillremaining\">92583</td>\n",
              "        <td class=\"number\">2</td>\n",
              "        <td class=\"number\">0.0%</td>\n",
              "        <td>\n",
              "            <div class=\"bar\" style=\"width:67%\">&nbsp;</div>\n",
              "        </td>\n",
              "</tr><tr class=\"\">\n",
              "        <td class=\"fillremaining\">92585</td>\n",
              "        <td class=\"number\">1</td>\n",
              "        <td class=\"number\">0.0%</td>\n",
              "        <td>\n",
              "            <div class=\"bar\" style=\"width:34%\">&nbsp;</div>\n",
              "        </td>\n",
              "</tr><tr class=\"\">\n",
              "        <td class=\"fillremaining\">92586</td>\n",
              "        <td class=\"number\">3</td>\n",
              "        <td class=\"number\">0.0%</td>\n",
              "        <td>\n",
              "            <div class=\"bar\" style=\"width:100%\">&nbsp;</div>\n",
              "        </td>\n",
              "</tr>\n",
              "</table>\n",
              "        </div>\n",
              "    </div>\n",
              "</div>\n",
              "</div>\n",
              "    <div class=\"row headerrow highlight\">\n",
              "        <h1>Correlations</h1>\n",
              "    </div>\n",
              "    <div class=\"row variablerow\">\n",
              "    <img src=\"data:image/png;base64,iVBORw0KGgoAAAANSUhEUgAAAm0AAAIiCAYAAACaBf8HAAAABHNCSVQICAgIfAhkiAAAAAlwSFlzAAAPYQAAD2EBqD%2BnaQAAADl0RVh0U29mdHdhcmUAbWF0cGxvdGxpYiB2ZXJzaW9uIDMuMC4zLCBodHRwOi8vbWF0cGxvdGxpYi5vcmcvnQurowAAIABJREFUeJzs3X98zfX///H72TAy28x%2BFOZHEzabvlOa8BZGJO9WIj8qRG/5NexNpQ8i6e1dEW/xFvUhyrv3%2BkQlFKbf0g8Rx7JklPm1TXYwmv063z%2B8nbfThs1rL9vruF0vl13Y8/V6Pc/zPA/nPHZ/vl6v2ZxOp1MAAACo1LwqegAAAAC4PIo2AAAAC6BoAwAAsACKNgAAAAugaAMAALAAijYAAAALoGgDAACwAIo2AAAAC6BoAwAAsACKNgAAAAuoUtEDAHB1NWvW7KLbqlatqoCAAEVFRenee%2B9Vt27dZLPZruLoAAAXY%2BN3jwLXlvNFW8uWLRUcHOy27ezZs9q3b58OHz4sSerUqZPmzZunatWqXfVxAgDcUbQB15jzRduCBQvUpUuXEvdJTk7W448/rjNnzmjIkCF68sknr%2BYQAQAl4Jw2AMV06dJF48ePlyS99dZbOnv2bAWPCADAOW0ASnTnnXfq2Wef1e%2B//64ff/xRMTExbtu3bNmiFStW6IcffpDD4ZCvr6%2BaN2%2Bu%2B%2B%2B/X3/%2B859L7NPhcGjp0qX67LPP9OuvvyovL0/%2B/v5q2bKlHnnkEcXGxhY7pnPnzjp06JBeffVVnT17VnPmzFF6erpef/113XLLLZKkPXv2aMmSJdq6dasyMjJUpUoVhYSE6LbbbtNDDz1U4nl8p06d0rJly7Rp0yb9%2Buuvys/PV1BQkFq1aqXBgwcrOjrabf%2BDBw8qLi5OkrRz506lpaVp4cKF2r59uxwOh0JCQhQXF6fExERdd911VzTnAHApJG0AShQQEOD6%2B8mTJ922zZkzR4MHD9bGjRvl6%2Bur2NhYBQYGasuWLZowYYLGjRunwsJCt2OysrLUq1cvvfLKK9q3b58iIyPVpk0bVatWTZ988okGDRqklStXXnQ8%2B/btU2JioqpWrao2bdqoevXqkqRvv/1W999/v959912dPXtWt9xyi2JiYpSTk6O3335bDzzwgLZs2eLW16FDh3Tffffp5Zdf1t69e9W8eXO1adNGTqdTa9as0QMPPKB33nnnomPZtm2bBgwYoJSUFDVv3lyNGzfWoUOHtHz5ciUkJJR6jgGgTJwArilNmzZ1Nm3a1Llx48ZL7peWlubad%2BfOna72DRs2OJs2beps3bq185tvvnE75ttvv3W2bdvW2bRpU%2BfSpUvdts2YMcPZtGlTZ7du3ZzHjh1ztRcUFDife%2B45Z9OmTZ233HKLMycnx%2B24Tp06OZs2bers3Lmzc%2BHChcXG2adPH2fTpk2df//7352FhYVu/c6ZM8fZtGlTZ8%2BePd2OGTBggLNp06bOXr16OTMyMlzthYWFzpdfftnZtGlTZ1RUlHPfvn2ubenp6a756Nixo3Px4sXOoqIi1/Z3333XtX337t2XmloAuCIkbQBKtGHDBkmSv7%2B/IiIiXO0LFy6UJD355JO67bbb3I5p3bq1nnjiCUnSsmXL3LaFhITo7rvv1ujRo1WnTh1Xu7e3txITE%2BXl5aVTp07phx9%2BKHE8RUVFGjZsWLH23bt3S5J69eolL6//vqV5e3trzJgxGjNmjB5%2B%2BGHl5eVJknbs2KGtW7dKkl544QWFhIS4jvHy8tLo0aPVokUL5eXl6d///neJY7npppv0l7/8xe12KPHx8QoMDHQ9BgCUN85pA1DMZ599pkWLFkmSHn30UVWpcu6tIiMjQykpKZKkrl27lnhsly5dZLPZdPjwYe3fv1%2BNGzeWJP3lL3%2B56OPVqFFDderUUVZWlrKyskrcp02bNm5F2Xl%2Bfn46duyY1q1bp7Fjx7pt8/Ly0qhRo9zavvjiC0nnrqINDw%2B/6HNISUkptqx6Xknn7NlsNoWFhen48ePKzs4u8TgAMIKiDbhGLVq0SKtWrXJry8vL0y%2B//KL09HRJ59KrRx991LV9z549rr9PnDjxon1XqVJF%2Bfn5%2BuWXX1xF2/n%2BP/vsM%2B3atUuZmZk6efKknP%2B569CpU6cknUvUShIaGlpi%2B6BBgzR79mz985//1BdffKGePXvq9ttvv%2BhNhPfu3SvpXFp2MTfeeKOkc%2BfRlaRBgwYltvv4%2BEiS8vPzL9o3AFwpijbgGrVz585ibd7e3qpdu7bi4uLUt29f3XHHHW7bT5w44fr7pk2bLvsY5wsxSUpNTdWoUaN08ODBKxqvv79/ie3nl0wXLVoku90uu90uSQoODlb37t01aNAghYWFFRuTn5/fRR%2BrVq1aks4VX7m5ua6LHs7jZsMAKgJFG3CNutTNdS/m/DlcVatWld1uL/WvuMrNzdWIESN0%2BPBhNWrUSCNHjtTtt9%2Bu2rVrq2rVqpL%2Be2uPyz12SYYNG6Z%2B/fopOTlZn332mb766itlZWXpjTfeUFJSkl544QXdddddpX6ezgvuOV7SkiwAVASKNgCldv42IPn5%2BcrOznadeH85n3/%2BuQ4fPiybzabFixerYcOGxfbJzc01NDY/Pz/16tVLvXr1UmFhob766istWLBA27dv16RJk9SmTRvVrl3bldj98TYmFzq/rXr16qRqACoNfoQEUGpNmzZ1/f3nn38u9XG//PKLpHPngpVUsB04cEC//fab4fGd5%2B3trT/96U9avny5QkNDdfr0addy8Plz2S48P%2B%2BPzm%2B71HlvAHC1UbQBKLXg4GC1aNFCkvT222%2BXuM/%2B/fsVHx/vujWI9N9zxC7267AWLFjg%2Bvsfb8p7KTt27ND//M//aMmSJSVur1atmoKCgiT9N8k7f57enj17SizcioqKXLc7%2BdOf/lTqsQCA2SjaAJTJ8OHDJUlr1qzR66%2B/7nb%2B16%2B//qoxY8YoNTVVR44ccbU3b95cknT06FElJye72n///XfNmDFDdrvd9WuyLnbFZkm8vb21cuVKzZs3T59%2B%2Bmmx7Rs3btTu3btVtWpVtWrVSpIUGRmp9u3bS5L%2B53/%2BR8ePH3ftX1BQoBdffFFpaWmqVauW%2BvXrV%2BqxAIDZOKcNQJnceeedGjZsmBYvXqyZM2dq%2BfLluvHGG5Wdna3du3ersLBQkZGRmjBhguuYmJgYtW/fXl9%2B%2BaUSEhJ08803y8fHR7t27VKVKlW0dOlSrV27Vtu3b9fy5cv1008/acSIEWrduvUlxxIVFaUhQ4ZoyZIleuyxx1SvXj01bNhQXl5eOnjwoGtZdtKkSQoODnYd97e//U2DBg2S3W5X586d1bRpU/n4%2BOjnn39Wdna2qlevrtmzZ1/0NiMAUBEo2gCU2fjx49W2bVu9%2Beab%2BuGHH7Rlyxb5%2BPgoKipKPXr00IABA4qdwD937lzNmjVLmzZt0q5duxQSEqJu3bpp%2BPDhatCgga6//nr9%2BOOP2rZtm37%2B%2BedSX5n65JNPqnXr1nrvvfe0a9cubd%2B%2BXQUFBQoODlbPnj310EMPFftl96GhoXrnnXf0%2Buuva%2BPGjfr5559VUFCg0NBQ3XnnnRo6dGiJ594BQEWyOS9c2wAAAEClxDltAAAAFkDRBgAAYAEUbQAAABZA0QYAAK5ZX3zxhdq2bavExMRL7ldUVKQ5c%2BYoLi5OrVu31tChQ5Wenu7a7nA4NG7cOLVt21bt27fXpEmTDP%2Bmlz%2BiaAMAANekV199VTNmzCjV1eIrVqzQBx98oMWLF%2BuTTz5Ro0aNNGrUKNe9KqdMmaLff/9da9as0cqVK5WWlqZZs2aV63gp2gAAwDXJx8dH77zzTqmKtqSkJA0ePFjh4eHy9fVVYmKi0tLStGPHDh07dkzJyclKTExUYGCgQkNDNXLkSK1cuVL5%2BfnlNl7u0wYAACwrMzNTWVlZbm3BwcEKCQm57LEDBw4s1WPk5uZq7969ioyMdLX5%2BvqqYcOGstvtOnXqlLy9vdWsWTPX9hYtWujMmTPat2%2BfW7sRFG1mKeWNQS2jcWPp55%2Blm26S9u%2Bv6NGUn6Kiih4B4DGc8rD3PQ9VYR9PJj1w0rx5mj9/vlvb6NGjlZCQUG6PceLECTmdTvn7%2B7u1%2B/v7Kzs7WwEBAfL19XW7Kfj5fbOzs8ttHBRtKJ2AAMnb%2B9yfqNxsNol7Zld%2BvE6VHi%2BRNfTt21edO3d2a7vw19aVp0v9PoKr8bsKKNoAAID5vMw5jT4kJKRUS6FGBAQEyMvLSw6Hw63d4XCoTp06CgwMVE5OjgoLC%2BXt7e3aJkl16tQpt3FwIQIAADCfl5c5X1eBj4%2BPbrrpJqWkpLjaTp48qQMHDqhly5aKiIiQ0%2BlUamqqa7vdbpefn58aN25cbuOgaAMAAPiDjIwMde/e3XUvtv79%2B2v58uVKS0tTTk6OZs2apYiICEVHRyswMFDdunXT3Llzdfz4cR09elQLFixQ7969VaVK%2BS1qsjwKAADMd5VSsbKIjo6WJBUUFEiSkpOTJZ1LyfLz87V//37l5eVJkvr166esrCw9/PDDOn36tGJjY90ugJg%2BfbqmTp2quLg4Va1aVT179rzsDXvLyua8GmfOXYs87erRmBhp2zapVStp%2B/aKHk358cSrRzl72ho88HXytKtHPfAlklSBH08%2BPub0e/asOf1WQiRtAADAfJUwabMaijYAAGA%2BijbDmEEAAAALIGkDAADmI2kzjBkEAACwAJI2AABgPpI2wyjaAACA%2BSjaDGMGAQAALICkDQAAmI%2BkzTBmEAAAwAJI2gAAgPlI2gyjaAMAAOajaDOMGQQAALAAkjYAAGA%2BkjbDmEEAAAALIGkDAADmI2kzjKINAACYj6LNMGYQAADAAkjaAACA%2BUjaDGMGAQAALICkDQAAmI%2BkzTCKNgAAYD6KNsOYQQAAAAsgaQMAAOYjaTOMGQQAALAAkjYAAGA%2BkjbDKNoAAID5KNoMYwYBAAAsgKQNAACYj6TNMGYQAADAAkjaAACA%2BUjaDKNoAwAA5qNoM4wZBAAAsACSNgAAYD6SNsOYQQAAAAsgaQMAAOYjaTOMog0AAJiPos0wZhAAAMACSNoAAID5SNoMo2gDAADmo2gzjBkEAACwAJI2AABgPpI2w665Gfzuu%2B8UHR2tvLy8Ere/9dZb6ty581UeFQAAqAiHDh3SsGHDFBsbq06dOunFF19UUVFRsf2GDBmi6Ohot6%2BIiAjNnz9fkvTwww%2BrRYsWbtvvueeech3rNZe0tW7dWna7vaKHAQDAtaWSJm0JCQlq0aKFkpOT9dtvv%2Bmxxx5TUFCQHnnkEbf9lixZ4vb9yZMn1aNHD3Xt2tXV9uyzz6pXr16mjbVyziAAAPAsXl7mfBlgt9uVmpqqCRMmqFatWmrUqJEGDx6spKSkyx47d%2B5cde3aVc2aNTM0hrK4aknbwYMHFRcXp3Xr1ik8PFySNGvWLO3YsUOLFy/WtGnT9Pnnnys3N1fNmjXT5MmTFRUVJUlat26dFi1apF9//VV16tTRsGHD1LdvX0nSxIkT5e3trQMHDig7O1tr1qy55Di%2B%2BeYbDRw4UDt37pSPj4927NihKVOm6MCBA4qJidEtt9xS5ueWmZmprKwst7bgxo0VEhBQ5r4qrebN3f8EAKASKPEzODhYISEhlz02JSVF9erVk7%2B/v6utRYsW2r9/v3JycuTr61vicb/%2B%2Bqvee%2B89JScnu7WvW7dOr732mo4cOaKbb75Z06dPV4MGDa7gWZWsUiyPLlu2TMeOHdPGjRtVrVo1vfrqq5oyZYreffdd2e12TZo0SS%2B//LJuv/12bd%2B%2BXX/5y1900003qVWrVpKkTZs2aebMmerYsWOZHrewsFBjxozR3XffrbFjxyo1NVUJCQmqUqVs05KUlORa0z5v9NixShg7tkz9WMK//lXRI0Bp2GwVPQKUhoe9Tp71bM7xsJdITmcFPrhJy6MlfgaPHq2EhITLHutwOOTn5%2BfWdr6Ay87OvmjRtnjxYt1///0KDAx0tYWHh6tGjRqaNWuWioqKNGPGDD366KNas2aNqlWrVtanVaJKUbSdPHlSVatWVfXq1VWlShWNHDlSI0eOlCStWrVKHTt2VPv27SVJt956q%2B666y69//77rqKtXr166tSpU5kfd9euXcrMzNSIESPk4%2BOjm2%2B%2BWV27dtUnn3xSpn769u1b7OKF4D//WVq2rMxjqrSaNz9XsA0YIKWmVvRoys/331f0CMqfzVbB78woFQ98nZweVrZ54EvkkUr8DA4OLvXxzjK%2ByA6HQ%2B%2B//74%2B/PBDt/Zp06a5fT99%2BnTFxsbq%2B%2B%2B/1%2B23316mx7iYSlG0DRgwQEOHDtUdd9yhP/3pT%2BrSpYvi4uIkSQcOHNCWLVsUHR3t2t/pdLqKOOlc0XYljh49Kj8/P9WqVcvV1qhRozL3ExISUjyG3b//isZU6aWmStu3V/QoAABWY1LSVuJncCkFBgbK4XC4tTkcDtlsNrcU7UKbNm1S48aNFRYWdsm%2BfX195e/vr4yMjCsaW0kqtGgrLCyUJNWvX1/r1q3TN998o48//lhPP/20Vq9erXnz5ql69erq37%2B/pkyZctF%2BvL29r%2Bjx8/LyXGM4r6TLfAEAgEGV8OrRqKgoHTlyRMePH3cVaXa7XU2aNFHNmjVLPGbTpk1q166dW1tOTo5mzZqlESNGKDQ0VJJ0/PhxHT9%2B/LLFXVlctRn08fGRJOXm5rra0tPTJUmnT59WYWGh2rZtq8mTJ%2Bv//u//tH79emVnZ6tBgwb66aef3Po6evRosWLrSoSEhCgnJ0enTp1ytaWlpRnuFwAAVH6RkZGKjo7W7NmzlZOTo7S0NC1dulT9%2B/eXJHXv3l1bt251O2b37t2qX7%2B%2BW5uvr6927NihGTNmyOFw6MSJE3rmmWfUrFkzxcTElNt4r1rRFhgYqFq1amnDhg0qLCzUl19%2BqR9%2B%2BEGSNGbMGD3//PPKyclRUVGRtm/froCAAPn7%2B6t3797atm2bVq5cqby8PO3evVt9%2BvTR%2BvXrDY/p5ptvlr%2B/v1577TXl5eVp69atZT6fDQAAlEIlvOWHJM2bN0%2BZmZlq166dBg4cqHvvvVcDBgyQJO3fv19nzpxx2z8rK0tBQUHF%2BlmwYIGcTqe6deumjh07Kj8/X4sXL5ZXOSaMNmdZz8Az4IMPPtCLL76oU6dOKS4uTuHh4frqq6/0/PPP6%2Bmnn9a2bdtks9l00003acKECbr11lslSR9%2B%2BKHmzZunQ4cOKSQkRA899JAGDx4s6dwtP86ePas5c%2BaUagx/vOXH1q1bNW3aNKWnpysmJkZ33HGH3njjDX388cfGnqynXXIUEyNt2ya1auVZ57R54nI4Z09bgwe%2BTlyIYA0V9vHUrZs5/ZZDiGMVV7Vou6ZQtFkDRRsqige%2BThRt1lBhH0933WVOv3%2B4itOTVYqrRwEAgIerhBciWI1HFW3Hjh277P3a%2BL2jAADAijyqaAsKCqIoAwCgMiJpM4wZBAAAsACPStoAAEAlRdJmGEUbAAAwH0WbYcwgAACABZC0AQAA85G0GcYMAgAAWABJGwAAMB9Jm2EUbQAAwHwUbYYxgwAAABZA0gYAAMxH0mYYMwgAAGABJG0AAMB8JG2GUbQBAADzUbQZxgwCAABYAEkbAAAwH0mbYcwgAACABZC0AQAA85G0GUbRBgAAzEfRZhgzCAAAYAEkbQAAwHwkbYYxgwAAABZA0gYAAMxH0mYYRRsAADAfRZthzCAAAIAFkLQBAADzkbQZRtEGAADMR9FmGDMIAABgASRtAADAfCRthjGDAAAAFkDSBgAAzEfSZhhFGwAAMB9Fm2HMIAAAgAWQtAEAAPORtBnGDAIAAFgASRsAADAfSZthFG0AAMB8FG2GMYMAAAAWQNIGAADMR9JmGDMIAACuWYcOHdKwYcMUGxurTp066cUXX1RRUVGx/V5%2B%2BWVFREQoOjra7evYsWOSpLNnz%2Brpp59Whw4dFBsbqzFjxig7O7tcx0rRBgAAzOflZc6XQQkJCQoNDVVycrKWLl2q5ORkLVu2rMR94%2BPjZbfb3b6CgoIkSXPmzFFKSoqSkpK0fv16OZ1OPfXUU4bHdyGKNgAAYL5KWLTZ7XalpqZqwoQJqlWrlho1aqTBgwcrKSmpTP0UFBTonXfe0ciRI3XDDTcoICBA48aN06effqqMjAxDY7wQ57SZpYRo1SN8/31Fj6B8edo5FjEx0rZt0i23SNu3V/Royk1WprOih1CuqlSRateWsh02FRRU9GjKz38CB%2BCqyszMVFZWlltbcHCwQkJCLntsSkqK6tWrJ39/f1dbixYttH//fuXk5MjX19dt/59%2B%2Bkn9%2BvXTnj17dMMNN%2Bipp55S%2B/btdeDAAZ06dUotWrRw7RseHq7q1asrJSVFoaGhBp/lORRtAADAfCb9kJyUlKT58%2Be7tY0ePVoJCQmXPdbhcMjPz8%2Bt7XwBl52d7Va0XX/99QoLC9P48eMVEhKipKQkDR8%2BXKtXr5bD4ZCkYn35%2BfmV63ltFG0AAMCy%2Bvbtq86dO7u1BQcHl/p4p7N0SX6fPn3Up08f1/eDBw/W2rVrtXr1anXo0KFMfV0pijYAAGA%2Bk5K2kJCQUi2FliQwMNCVkp3ncDhks9kUGBh42ePr1aunzMxM174Oh0M1a9Z0bT9x4oTq1KlzRWMriYed0AMAACqlSnghQlRUlI4cOaLjx4%2B72ux2u5o0aeJWfEnSP//5T23ZssWtLS0tTWFhYQoLC5O/v79SUlJc2/bs2aO8vDxFRUUZGuOFKNoAAMA1KTIyUtHR0Zo9e7ZycnKUlpampUuXqn///pKk7t27a%2BvWrZLOpWjPPPOM9u3bp7Nnz2rJkiU6cOCA7rvvPnl7e%2BuBBx7QK6%2B8oiNHjig7O1svvfSSunbt6rolSHlgeRQAAJivkl6tP2/ePE2ZMkXt2rWTr6%2Bv%2BvXrpwEDBkiS9u/frzNnzkiSxo8fL%2BncuWwOh0NNmjTR66%2B/ruuvv16SNGbMGJ0%2BfVrx8fEqKChQp06dNG3atHIdq81p9llz1ypPnFabzfOeVyV9E7li52/50aoVt/yoxFy3/MgWt/yoxDzxLU8697wqxMyZ5vRbzjewrcxI2gAAgPk87YfkCkDRBgAAzEfRZhgzCAAAYAEkbQAAwHwkbYYxgwAAABZA0gYAAMxH0mYYRRsAADAfRZthzCAAAIAFkLQBAADzkbQZxgwCAABYAEkbAAAwH0mbYRRtAADAfBRthjGDAAAAFkDSBgAAzEfSZhgzCAAAYAEkbQAAwHwkbYZRtAEAAPNRtBnGDAIAAFgASRsAADAfSZthzCAAAIAFkLQBAADzkbQZRtEGAADMR9FmGDMIAABgASRtAADAfCRthlG0AQAA81G0GcYMAgAAWABJGwAAMB9Jm2HMIAAAgAWQtAEAAPORtBlG0QYAAMxH0WYYMwgAAGABJG0AAMB8JG2GMYMAAAAWQNIGAADMR9JmGEUbAAAwH0WbYcwgAACABZC0AQAA85G0GcYMAgAAWABJGwAAMB9Jm2EUbQAAwHwUbYYxgwAAABZwTSZtiYmJ8vHx0d///veKHgoAANcGkjbDmEEAAHDNOnTokIYNG6bY2Fh16tRJL774ooqKikrc96233lK3bt0UExOj%2BPh4JScnu7ZNnDhRkZGRio6Odn3deuut5TrWazJpAwAAV1klTdoSEhLUokULJScn67ffftNjjz2moKAgPfLII277rV%2B/XrNnz9aiRYvUsmVLvffeexo3bpw%2B/PBDhYWFSZJGjBihhIQE08Za5qLNbrdr5syZ2rNnj6pVq6auXbtq8uTJ%2BuCDD7Rw4UINGzZM8%2BbN06lTp3TPPffo6aefVpUqVTRx4kTZbDbVqFFD7733nqpVq6YxY8ZowIABpXrc9PR0TZ06Vdu3b1dAQIAeeeQRDRw4UJJ09OhRPfPMM9q2bZsKCgrUoUMHTZ06VQEBAZKkt99%2BW6%2B88opOnDihe%2B65p1gF/eabb2rFihU6fPiw6tevr8TERHXp0qXUc5KZmamsrCy3tuCgIIWEhJS6D1SQmJiKHkH5at7c/U8PUcXDfrz09nb/E7gmmFS0lfgZHBxcqs9gu92u1NRULV26VLVq1VKtWrU0ePBgLVu2rFjRlpubq7/%2B9a%2B65ZZbJEl9%2BvTRrFmz9MMPP7iKNrOV%2Ba0wMTFR99xzj9544w1lZGSoX79%2BatKkiWrWrKmMjAzZ7XZt2LBBhw8f1qBBgxQeHq5BgwZJkj766CM99dRT%2Bvrrr/X5559r9OjRatWqlZqX4gNm9OjRuu2227RgwQL98ssvevDBBxUeHq527dpp5MiRatKkiTZt2qTc3FyNHTtWU6dO1T/%2B8Q/t27dPTz/9tObPn68OHTpo9erVmjFjhrp37y5J2rBhg%2BbPn6/XXntNzZs318cff6xx48Zpw4YNqlu3bqnmJCkpSfPnz3cf76hRShgzpoyzawE2W0WPoHxt21bRIzDHv/5V0SMoV7UregAm8fOr6BHgcjztLc/prOgRlL8SP4NHjy5V4pWSkqJ69erJ39/f1daiRQvt379fOTk58vX1dbXHx8e7HXvy5EmdPn1aoaGhrravv/5amzZt0q%2B//qrw8HBNmzZNUVFRV/rUiilz0XY%2BJfP29lbdunXVunVr7dq1S7GxsTp79qzGjRunGjVqKDw8XHfffbc%2B/fRTV9FWt25dPfDAA5KkLl26KCIiQp988slli7Yff/xRP/30k5YtW6YaNWooIiJC8%2BfPV2hoqHbv3q2UlBQtWrRIvr6%2B8vX11bBhwzRq1Cjl5eUpOTlZkZGRruSsd%2B/eWrZsmavvd955R71793ZN6p133qlbbrlFa9as0bBhw0o1J3379lXnzp3d2oKDgjzvf4fN5nnP6T8/MXmM5s3PFWwDBkipqRU9mnKTvcmzimtv73MF28mTUmFhRY%2Bm/PxnccNjeOJbXoUyKWkr8TM4OLhUxzocDvn94aen8wVcdna2W9F2IafTqcmTJ%2Bvmm2/WbbfdJkkKCwuTl5eXxo4dq5o1a2r%2B/PkaMmSI1q9fr9q1y%2BdHzzIXbV9//bUr7SooKFBBQYErtfL391dgYKBr37p16%2BrLL78u3cGvAAAgAElEQVR0fd%2B4cWO3vurWravMzMzLPuaBAwfk6%2BvrWu6UpLZt20qSNm7cKH9/f7cXqEGDBsrPz1dGRoYyMjJUv359t/4aNWrk1vfmzZvdCjmn06kmTZpcdlznhYSEFI9h%2BZ9uDdu3V/QIzJGa6lHPraCgokdgjsJCz31uwNVS4mdwGTjL%2BHmdn5%2BviRMnau/evVq%2BfLmrfdSoUW77Pf7441qzZo2Sk5PVp0%2BfKx7fhcpUtKWlpWns2LF68skn9cADD6h69ep6/PHHVfCfd53CP/zI6HQ6ZbsgW77c9ovx8vK66JUceXl5Fz3OZrMpLy/PNb7zLuyrevXqGj9%2BvIYMGXLZcQAAgCtUCS9ECAwMlMPhcGtzOByy2WxuIdR5ubm5GjlypH7//XetWLHikgmat7e3brjhhlKFU6VVphncvXu3qlWrpoEDB6p69epyOp3avXu3a3tOTo6OHz/u%2Bv7w4cNua73p6elu/R0%2BfFjXX3/9ZR83LCxMp0%2BfdnviycnJ%2BvbbbxUWFqYTJ07o2LFjrm379u2Tj4%2BPQkNDFRISoqNHj7r1l5aW5vp7gwYN9NNPPxUbV1krbwAAcAleXuZ8GRAVFaUjR4641S52u911rv6FnE6nEhMTVaVKFb3%2B%2ButuBZvT6dTMmTOVesFpKXl5eTpw4EC5XqRQpmdbr1495ebmavfu3Tpx4oRefPFFVatWTZmZmXI6napWrZoWLFig3Nxc7d27V2vXrnVbZz506JDee%2B895efna%2BPGjUpNTVXHjh0v%2B7gRERGKjIzU3Llzdfr0ae3Zs0eTJk1Sbm6uoqOjFR4ertmzZ%2BvMmTPKyMjQwoULdffdd6tq1arq0KGDfvzxR3366afKy8vTihUrlJGR4eq7b9%2B%2BWrdunT799FMVFBTo66%2B/Vs%2BePbVjx46yTA0AALCY8/dVmz17tnJycpSWlqalS5eqf//%2BkqTu3btr69atkqQPPvhAe/fu1T/%2B8Q/5%2BPi49WOz2XTw4EE988wzysjI0OnTpzVr1ixVrVq1THejuBybs4yR0owZM/Tuu%2B%2BqRo0aGjFihJo1a6YRI0aoatWqstlsGjNmjObPn%2B%2B65cfUqVPl7e2tiRMn6vfff1dAQIDWrFmjqlWraty4cerXr1%2BpHjcjI0NPPPGEfvjhB9WpU0eDBg1yXeDwyy%2B/6Nlnn5XdbleNGjXUpUsXTZgwQTVq1JB07pYer732mk6ePKk///nPysvLk9PpdP1GhDfffFNLlizRsWPHVL9%2BfQ0fPlz33HNPWaalOE9M6jzxrNxKGNcbEhNz7orYVq086py2rEzP%2BndXpYpUu7aUne1Z57QFBVX0CMqXJ77lSRV4ReyWLeb0e/vthg4/evSopkyZom%2B//Va%2Bvr7q16%2BfRo8eLZvNpmbNmunVV19Vhw4dNGjQIH333Xfy/sO9euLj4zVjxgw5HA49//zz%2Bvzzz5WTk6OWLVtq2rRpCg8PNzS%2BC5W5aLuYVatWafbs2dq8eXOJ2ydOnKizZ89qzpw55fFwlZ%2Bn/k/3tOdF0WYJFG3WQNFmDRRt1uVht6wEAACVkqf9kFwBKkXRduutt%2Brs2bMX3f7RRx%2BpXr16V3FEAACgXFG0GVZuy6P4A0%2BcVk9cK/C0NxGWRy2B5VFr8MS3PKkCl0e/%2B86cflu3NqffSqhSJG0AAMDDedoPyRWAGQQAALAAkjYAAGA%2BkjbDKNoAAID5KNoMYwYBAAAsgKQNAACYj6TNMGYQAADAAkjaAACA%2BUjaDKNoAwAA5qNoM4wZBAAAsACSNgAAYD6SNsMo2gAAgPko2gxjBgEAACyApA0AAJiPpM0wZhAAAMACSNoAAID5SNoMo2gDAADmo2gzjBkEAACwAJI2AABgPpI2w5hBAAAACyBpAwAA5iNpM4yiDQAAmI%2BizTBmEAAAwAJI2gAAgPlI2gxjBgEAACyApA0AAJiPpM0wijYAAGA%2BijbDmEEAAAALIGkDAADmI2kzjBkEAACwAJI2AABgPpI2wyjaAACA%2BSjaDGMGAQAALICkDQAAmI%2BkzTBmEAAAwAJI2gAAgPlI2gyjaAMAAOajaDOMGQQAALAAkjYAAGA%2BkjbDmEEAAHDNOnTokIYNG6bY2Fh16tRJL774ooqKikrcd/ny5erWrZtatWql/v37a9euXa5tZ8%2Be1dNPP60OHTooNjZWY8aMUXZ2drmOlaINAACYz8vLnC%2BDEhISFBoaquTkZC1dulTJyclatmxZsf0%2B/vhjvfzyy3rhhRf01VdfqVOnTho%2BfLjOnDkjSZozZ45SUlKUlJSk9evXy%2Bl06qmnnjI8vgtRtAEAAPOZVLRlZmYqJSXF7SszM7NUQ7Lb7UpNTdWECRNUq1YtNWrUSIMHD1ZSUlKxfZOSktSrVy/dfPPNql69uh599FFJ0ieffKKCggK98847GjlypG644QYFBARo3Lhx%2BvTTT5WRkVFuU8g5bbimZWU6K3oI5apKFam2pOxN21RQUNGjKT/BIbaKHkL5iomRtm1T7bhW0vbtFT2acuMs8qz/T7CGpKQkzZ8/361t9OjRSkhIuOyxKSkpqlevnvz9/V1tLVq00P79%2B5WTkyNfX1%2B3fXv06OH63svLSxEREbLb7YqIiNCpU6fUokUL1/bw8HBVr15dKSkpCg0NNfIUXSjaAACA6Zwy54evvn37qnPnzm5twcHBpTrW4XDIz8/Pre18AZedne1WtDkcDrfi7vy%2B2dnZcjgcklSsLz8/v3I9r42iDQAAWFZISIhCQkKu%2BHins/QJ8eX2LUtfV4Jz2gAAgOmKisz5MiIwMNCVkp3ncDhks9kUGBjo1l67du0S9w0MDHTt%2B8ftJ06cUJ06dYwN8gIUbQAAwHSVsWiLiorSkSNHdPz4cVeb3W5XkyZNVLNmzWL7pqSkuL4vLCzUjz/%2BqJtvvllhYWHy9/d3275nzx7l5eUpKirK2CAvQNEGAACuSZGRkYqOjtbs2bOVk5OjtLQ0LV26VP3795ckde/eXVu3bpUk9e/fX%2B%2B9955%2B%2BOEH/f7771q4cKGqVaumjh07ytvbWw888IBeeeUVHTlyRNnZ2XrppZfUtWtXBQUFldt4OacNAACYzmgqZpZ58%2BZpypQpateunXx9fdWvXz8NGDBAkrR//37Xfdg6dOigv/71rxo3bpx%2B%2B%2B03RUdHa/HixapevbokacyYMTp9%2BrTi4%2BNVUFCgTp06adq0aeU6VpvT7LPmrlWeOK02m8c9r6xjnnUriSpVpNq1pexsccuPyuw/t/xQK275UZl54FuepHPPqyKcPWtOvz4%2B5vRbGZG0AQAA01XWpM1KKNoAAIDpKNqM40IEAAAACyBpAwAApiNpM46iDQAAmI6izTiWRwEAACyApA0AAJiOpM04kjYAAAALIGkDAACmI2kzjqINAACYjqLNOJZHAQAALICkDQAAmI6kzTiSNgAAAAsgaQMAAKYjaTOOog0AAJiOos04lkcBAAAsgKQNAACYjqTNOJI2AAAACyBpAwAApiNpM46iDQAAmI6izTiWRwEAACyApA0AAJiOpM04kjYAAAALIGkDAACmI2kzjqINAACYjqLNOJZHAQAALICkDQAAmI6kzTiSNgAAAAsgaQMAAKYjaTOOog0AAJiOos04lkcBAAAsgKQNAACYjqTNOJI2AAAACyBpAwAApiNpM46iDQAAmI6izTiWRwEAACyApA0AAJiOpM04kjYAAAALIGkDAACmI2kzjqINAACYjqLNOJZHAQAALICkDQAAmI6kzbhKl7QdOnRI0dHR2r9/f0UPBQAAXMMcDofGjRuntm3bqn379po0aZJyc3Mvuv%2BGDRt0zz33KCYmRt26ddPbb7/t2vbyyy8rIiJC0dHRbl/Hjh0r9XgqXdJWr1492e32cuuvqKhIvXv3Vs2aNfXGG2%2B42p1Op/79739r5cqV2rdvn%2Bux//znP2vIkCGqUqXSTQ0AAJZlxaRtypQpysvL05o1a5Sfn6%2BxY8dq1qxZmjx5crF9d%2B7cqQkTJuill15Sx44dtXnzZo0aNUo33nijbr31VklSfHy8/v73v1/xeDy%2BMlmxYoUOHDigiIgIt/Ynn3xSO3bs0LRp09S6dWsVFBTom2%2B%2B0dSpU2W32/Xyyy%2BX%2BjEyMzOVlZXl1hYcFKSQkJByeQ4wj6fV5t7e7n96jJiYih5B%2BWre3P1P4BpgVtFW4mdwcLDhz%2BBjx44pOTlZ7777rgIDAyVJI0eO1NixY/Xkk0%2BqatWqbvs7HA499thj6tKliyTpjjvuUNOmTbV161ZX0WZUpfvIOnjwoOLi4rRu3Trt2LFDixYtUkZGhmrXrq2HH35YQ4YMKXVfmZmZWrhwoR566CF9//33rvavvvpKH3zwgdasWaPw8HBJUpUqVXTHHXdo4cKF%2Bv7775Wfn1/sBbmYpKQkzZ8/361t9KhRShgzptRjtQybraJHUK5q167oEZjDz6%2BiR1DOtm2r6BGY41//qugRlCvPenc4x8Pe8uR0VvQIyl%2BJn8GjRyshIcFQv7t375a3t7eaNWvmamvRooXOnDmjffv2ubVLUocOHdShQwfX9wUFBcrKylJoaKir7aefflK/fv20Z88e3XDDDXrqqafUvn37Uo%2Bp0hVt52VnZ2v69OlKSkpSs2bNtGvXLg0dOlRt2rRRZGRkqfr429/%2Bpn79%2Bql%2B/fpuRduGDRvUpk0bV8F2oYiIiGKp3OX07dtXnTt3dmsLDgryvP8dNpvHPadsh2e9I3t7nyvYTp6UCgsrejTlp3Zcq4oeQvlq3vxcwTZggJSaWtGjKTfO7z2ruPbAt7wKZVbSVuJncHCw4X4dDod8fX1lu6By9/f3l3SuRrmcWbNm6brrrlOPHj0kSddff73CwsI0fvx4hYSEKCkpScOHD9fq1at14403lmpMlbZoCwgIUFFRka677jpJUlRUlLZs2SIvr9JdO/HFF18oJSVFzz//vNauXeu2LT09XQ0bNiy3sYaEhBSPYfmfbgkFBRU9AnMUFnrYc9u%2BvaJHYI7UVM99bsBVUuJncCm9//77euKJJ0rclpiYKOcVfJY7nU7NmjVLa9as0fLly%2BXj4yNJ6tOnj/r06ePab/DgwVq7dq1Wr16tcePGlarvSlu02Ww2xcfH66677tJtt92m9u3b67777lPtUqxnnT17VtOnT9fkyZNdk/XHvgv/EEMMGTJE3333naRzFy8899xzuvfee8vnyQAAcI2rjBcixMfHKz4%2BvsRtmzdvVk5OjgoLC%2BX9nxOFHQ6HJKlOnTolHlNUVKSnnnpKO3fu1FtvvaWwsLBLPn69evWUmZlZ6vFWult%2BXOjZZ5/V2rVr1a5dO3300Ufq0aOH0tPTL3vcwoULFRERoTvuuKPE7Y0bN1ZaWppb25IlS2S322W32xUaGqqiyvivCwAAiyoqMufLLBEREXI6nUq94BQGu90uPz8/NW7cuMRj/va3v%2Bnnn38usWD75z//qS1btri1paWlXbawu1ClLdqcTqdOnjyphg0baujQoXr77bfVpEkTbdy48bLHrl69Wps3b1ZsbKxiY2P17LPPatu2bYqNjdWRI0fUo0cPff/999qxY0eJx1OwAQBwbQsMDFS3bt00d%2B5cHT9%2BXEePHtWCBQvUu3dv123BBg0apHXr1kmSvv/%2Be61evVqLFy9WQEBAsf4cDoeeeeYZ7du3T2fPntWSJUt04MAB3XfffaUeU6VdHt20aZNWrVqlhQsX6sYbb9ShQ4eUkZGhBg0aXPbYpKQkt%2BXPjz76SB9%2B%2BKH%2B8Y9/KDg4WDfccIMeeughDRs2TNOmTVNcXJy8vb2VmpqqxYsX68SJE2rSpImZTw8AgGuKFfOQ6dOna%2BrUqYqLi1PVqlXVs2dPJSYmuranp6frxIkTkqSVK1fq1KlT6tSpk1sfrVu31pIlSzR%2B/HhJ585lczgcatKkiV5//XVdf/31pR6PzXklZ9mZ6MJbfqxevVqrVq3SyZMnFRQUpD59%2Bmj48OFl7nPVqlV699133W6uK0nvvPOOkpKStHfvXklSaGioOnTooMGDB6tu3brGnkjlmtby4YGXUmUd86yrR6tUOXcbk%2Bxsz7oQITjEs14nxcScu41Jq1YedSGCs8iz3h888C1PUsXdxuTDD83p9667zOm3Mqp0RZvH8MRp9cB3MIo2a6BoswaKNmugaLOuSrs8CgAAPIcVl0crG8sVbTt37tSDDz540e1169bV%2BvXrr%2BKIAAAAzGe5oq1ly5bl%2BgvlAQCA%2BUjajLNc0QYAAKyHos24SnufNgAAAPwXSRsAADAdSZtxJG0AAAAWQNIGAABMR9JmHEUbAAAwHUWbcSyPAgAAWABJGwAAMB1Jm3EkbQAAABZA0gYAAExH0mYcRRsAADAdRZtxLI8CAABYAEkbAAAwHUmbcSRtAAAAFkDSBgAATEfSZhxFGwAAMB1Fm3EsjwIAAFgASRsAADAdSZtxJG0AAAAWQNIGAABMR9JmHEUbAAAwHUWbcSyPAgAAWABJGwAAMB1Jm3EkbQAAABZA0gYAAExH0mYcRRsAADAdRZtxLI8CAABYAEkbAAAwHUmbcSRtAAAAFkDSBgAATEfSZhxFGwAAMB1Fm3EsjwIAAFgASRsAADAdSZtxJG0AAAAWQNIGAABMR9JmHEUbAAAwHUWbcSyPAgAAWABFGwAAMF1RkTlfZnI4HBo3bpzatm2r9u3ba9KkScrNzS1x31WrVql58%2BaKjo52%2B9q5c%2Bd/nn%2BR5syZo7i4OLVu3VpDhw5Venp6mcZD0QYAAExnxaJtypQp%2Bv3337VmzRqtXLlSaWlpmjVr1kX3b926tex2u9tXy5YtJUkrVqzQBx98oMWLF%2BuTTz5Ro0aNNGrUKDmdzlKPh6INAADgD44dO6bk5GQlJiYqMDBQoaGhGjlypFauXKn8/Pwy95eUlKTBgwcrPDxcvr6%2BSkxMVFpamnbs2FHqPrgQAQAAmM6sVCwzM1NZWVlubcHBwQoJCTHU7%2B7du%2BXt7a1mzZq52lq0aKEzZ85o3759bu3nHTlyRI888oh27dolPz8/jRkzRvHx8crNzdXevXsVGRnp2tfX11cNGzaU3W7X//t//69UY6JoM4lTtooeQrmzyfOeV1BQRY/AHAEBFT2C8uUsKv3ygVXYJDm/31bRwyhXNi8Pen%2BIiZG2bZPtllbS9u0VPZryVYblOCtISkrS/Pnz3dpGjx6thIQEQ/06HA75%2BvrKZvvvv2t/f39JUnZ2drH9AwMD1ahRI/31r39VkyZNtHHjRj3xxBMKCQnRjTfeKKfT6Tr%2Bwv5K6utiKNoAAIDpzEra%2Bvbtq86dO7u1BQcHl%2BrY999/X0888USJ2xITE8t0vlnHjh3VsWNH1/d33323Nm7cqFWrVmnChAmSVKb%2BSkLRBgAATGdW0RYSEnLFS6Hx8fGKj48vcdvmzZuVk5OjwsJCeXt7SzqXvklSnTp1StV/vXr1tGvXLgUEBMjLy8t1/HkOh6PUfUlciAAAAFBMRESEnE6nUlNTXW12u11%2Bfn5q3Lhxsf3feustrVu3zq0tLS1NYWFh8vHx0U033aSUlBTXtpMnT%2BrAgQOuq0tLg6INAACYzmq3/AgMDFS3bt00d%2B5cHT9%2BXEePHtWCBQvUu3dvValybqFy0KBBrkItLy9Pzz77rOx2u/Lz87VmzRp9/vnn6tevnySpf//%2BWr58udLS0pSTk6NZs2YpIiJC0dHRpR4Ty6MAAAAlmD59uqZOnaq4uDhVrVpVPXv2VGJiomt7enq6Tpw4IUkaOHCgTp8%2BrbFjxyorK0v169fXggULFBUVJUnq16%2BfsrKy9PDDD%2Bv06dOKjY0tdgHF5dicRs%2BKQ4k8cVZtNs98Xp6G18kaPPF18sSrR9WKq0fLy1NPmdPvzJnm9FsZkbQBAADT8QvjjeOcNgAAAAsgaQMAAKYjaTOOpA0AAMACSNoAAIDpSNqMo2gDAACmo2gzjuVRAAAACyBpAwAApiNpM46kDQAAwAJI2gAAgOlI2oyjaAMAAKajaDOO5VEAAAALIGkDAACmI2kzjqQNAADAAkjaAACA6UjajKNoAwAApqNoM47lUQAAAAsgaQMAAKYjaTOOpA0AAMACSNoAAIDpSNqMo2gDAACmo2gzjuVRAAAACyBpAwAApiNpM46kDQAAwAJI2gAAgOlI2oyjaAMAAKajaDOO5VEAAAALIGkDAACmI2kzjqQNAADAAkjaAACA6UjajKNoAwAApqNoM47lUQAAAAsgaQMAAKYjaTOOog0AAJiOos04lkcBAAAsgKQNAACYjqTNOJI2AAAACyBpAwAApiNpM46iDQAAmI6izTiWRwEAACyApA0AAJiOpM04kjYAAAALuKpF26FDhxQdHa39%2B/eb0v%2BqVavUrl07SdJ3332n6Oho5eXlXfKYgwcPqlmzZkpLSzNlTAAA4FzSZsaXmRwOh8aNG6e2bduqffv2mjRpknJzc0vcd/LkyYqOjnb7ioyM1FNPPSVJmjhxoiIjI92233rrrWUaz1VdHq1Xr57sdvtVeazWrVtftccCAACXZsXl0SlTpigvL09r1qxRfn6%2Bxo4dq1mzZmny5MnF9p0xY4ZmzJjh%2Br6goED33nuvunfv7mobMWKEEhISrng8LI8CAAD8wbFjx5ScnKzExEQFBgYqNDRUI0eO1MqVK5Wfn3/Z45ctW6a6devqjjvuKLcxXdWk7eDBg4qLi9O6deu0Y8cOLVq0SBkZGapdu7YefvhhDRkypFT9fPnll3rhhRd04MABNWzYUBMnTtTtt9/uts8333yjgQMHaufOnfLx8VF6erqmTp2q7du3KyAgQI888ogGDhxYrO9Dhw6pT58%2BGj9%2BvO6///5SjSczM1NZWVlubUFBwQoJCSnV8QDgEWJiKnoE5ad5c/c/PcX27RX20GYlbSV9BgcHG/8M3r17t7y9vdWsWTNXW4sWLXTmzBnt27fPrf2PTp48qVdeeUX/%2Bte/3Nq//vprbdq0Sb/%2B%2BqvCw8M1bdo0RUVFlXpMFXL1aHZ2tqZPn66kpCQ1a9ZMu3bt0tChQ9WmTRtFRkZe8tiMjAwlJCToueeeU9euXfXBBx9o1KhR%2Bvjjjy953OjRo3XbbbdpwYIF%2BuWXX/Tggw8qPDxcDRs2dO1z%2BvRpDR8%2BXH379i11wSZJSUlJmj9/vlvbqFGjNWbMlUeglZXNVtEjQGnwOlmDx71O27ZV9AjK3x8%2BdC3P4/7RlfwZPHr0aEPLkNK589l8fX1lu2DO/P39JZ2rYy7lzTffVOvWrXXTTTe52sLCwuTl5aWxY8eqZs2amj9/voYMGaL169erdu3apRpThRRtAQEBKioq0nXXXSdJioqK0pYtW%2BTldfnV2g8//FBhYWHq0aOHJKlXr17y8fFR0SVK%2BB9//FE//fSTli1bpho1aigiIkLz589XaGioax%2Bn06kJEyaoefPmGjt2bJmeT9%2B%2BfdW5c2e3tqCgYDmdZeqm0rPZ5HHPyRPxOlmDJ75OtltaVfQQyk/z5ucKtgEDpNTUih6NRzAraSvpMzg4OLhUx77//vt64oknStyWmJgo5xX8Jy0sLNSKFSs0e/Zst/ZRo0a5ff/4449rzZo1Sk5OVp8%2BfUrVd4UUbTabTfHx8brrrrt02223qX379rrvvvtKVWkeOHBA9evXd2u7%2B%2B67L3uMr6%2BvAgICXG1t27aVdG7JVpLmzp2rr776Sps3by7r01FISEixGNbT3owB4LIqcOnNNKmpnvm8KoBZRVtJn8GlFR8fr/j4%2BBK3bd68WTk5OSosLJS3t7ekc%2BmbJNWpU%2BeifX733XfKy8u77JWh3t7euuGGG5SZmVnq8VbYhQjPPvus1q5dq3bt2umjjz5Sjx49lJ6eftnjvLy8LpmqXekxR48eVYMGDYpFrAAA4NoTEREhp9Op1AuSVrvdLj8/PzVu3Piix23atElt2rRRlSr/zcWcTqdmzpzp1ldeXp4OHDigsLCwUo%2BpQoo2p9OpkydPqmHDhho6dKjefvttNWnSRBs3brzssfXr1y92n7c333zzkgVfWFiYTp8%2B7VbNJicn69tvv3V9P3PmTL3wwgtasWKFvvvuuyt4VgAA4GKsdp%2B2wMBAdevWTXPnztXx48d19OhRLViwQL1793YVZIMGDdK6devcjtu9e3exFUGbzaaDBw/qmWeeUUZGhk6fPq1Zs2apatWq6tKlS6nHVCFF26ZNm9SnTx/t27dP0rkrNjMyMtSgQYPLHtuzZ08dOXJEb7/9tvLy8rR27Vq99NJLqlmz5kWPiYiIUGRkpObOnavTp09rz549xW6Q5%2BXlpYiICA0fPlxPPvmkcnJyjD9RAABgWdOnT1etWrUUFxene%2B65Ry1btlRiYqJre3p6uk6cOOF2TFZWloKCgor19dxzz6lRo0bq1auX2rZtq927d2vZsmWu8/tLo0LOaevSpYvOnDmjQYMG6eTJkwoKClKfPn1KVW0GBQXpf//3fzV16lTXBCxYsECBgYGXPO6VV17RE088obZt26pOnToaOXKkOnTo4Dqn7bzHHntMn3zyiWbOnKnnnnvO0PMEAADnWPHmurVq1dJLL7100e0l3bli/fr1Je4bEBCgmTNnGhqPzXkll0bgsjxxVj3xajdPxOtkDZ74Otm8POh2EjEx525h0qqV512IUEH/8GJjzen3m2/M6bcy4jciAAAAWECFLI9ezM6dO/Xggw9edHvdunUvGjsCAIDKy4rLo5VNpSraWrZsyS95BwAAKEGlKtoAAIBnImkzjqINAACYjqLNOC5EAAAAsACSNgAAYDqSNuNI2gAAACyApA0AAJiOpM04ijYAAGA6ijbjWB4FAACwAJI2AABgOpI240jaAAAALICkDQAAmI6kzTiKNgAAYDqKNuNYHgUAALAAkjYAAGA6kjbjSNoAAAAsgKQNAACYjqTNOIo2AABgOoo241geBQAAsACSNgAAYOyqi0MAABSBSURBVDqSNuNI2gAAACyApA0AAJiOpM04ijYAAGA6ijbjWB4FAACwAJI2AABgOpI24yjaAACA6SjajGN5FAAAwAJI2gAAgOlI2owjaQMAALAAkjYAAGA6kjbjKNoAAIDpKNqMY3kUAADAAkjaAACA6UjajCNpAwAAsACSNgAAYDqSNuMo2gAAgOko2oxjeRQAAMACSNoAAIDpSNqMI2kDAACwAIo2AABguqIic77MZrfb1bVrVz3wwAOX3Xf58uXq1q2bWrVqpf79%2B2vXrl2ubWfPntXTTz%2BtDh06KDY2VmPGjFF2dnaZxkLRBgAATGfFom316tVKSEjQ/2/v3oOirP4wgD%2BvKNjExUsuCKykWOMqQqkkmF3cwQsEo6FmpjaOlgqCmLdSM4VQMy/UgEhWVpoVWgMUljfwmlKhGIgkQzKJCIs3vFEs7O7vD/P97QquaMDh1ecz08zu2df2mXkDv51z3u/x8PC447WZmZmIj4/H%2B%2B%2B/j0OHDmHQoEGYNm0aqqqqAABxcXHIz89HcnIyduzYAZPJhPnz599VHhZtRERERPWorq5GcnIyfHx87nhtcnIyQkND4ePjg7Zt2%2BK1114DAOzZswe1tbX49ttvER4ejs6dO6Ndu3aYOXMm9u7dC51O1%2BA8fBCBiIiImlxTzYpVVFTg3LlzFmOdOnWCSqX6z//u0aNHN/ja/Px8BAUFye9btWoFjUaDvLw8aDQaXL16Fb169ZI/9/T0RNu2bZGfnw9nZ%2BcGfQeLtiYiSaITNK6KigokJydjzJgxjfKDQE2D90kZ7tv7ZDKJTtBoKioqkBwfjzHbt99f90igpvrPIz4%2BGQkJCRZjERERiIyMbJovvI3Kyko4OTlZjDk5OeHSpUuorKwEADg6Olp87ujoeFf72li0UYOcO3cOCQkJ0Gq1/AXWgvE%2BKQPvU8vHe6QcY8aMgVartRjr1KlTg/5sWloa5s2bV%2B9ny5cvR2ho6F1lMd2hMr3T53fCoo2IiIgUS6VS3XNhPXz4cAwfPrxRcrRv316eUbupsrISjz32GDp06CC/f/jhh%2BXPL1%2B%2BjI4dOzb4O/ggAhEREdF/5OXlhfz8fPm9wWDAiRMn4OPjA7VaDScnJ4vPCwsLodfr4eXl1eDvYNFGREREdA%2BGDRuG7OxsAMDYsWORmpqKY8eO4e%2B//8a6detga2uL559/HjY2NnjppZeQlJSEsrIyXLp0CWvWrMHgwYPxyCOPNPj7uDxKDdKpUydEREQ0eJ8AicH7pAy8Ty0f7xEBwNChQ3H27FkYDAYYjUb07t0bALB9%2B3a4ubmhuLhY7sP27LPPYtasWZg5cyYuXLiA3r17Y/369Wjbti0AYMaMGbh%2B/TqGDx%2BO2tpaDBo0CEuWLLmrPJLpv%2B6KIyIiIqImx%2BVRIiIiIgVg0UZERESkACzaiIiIiBSARRsRERGRArBoIyIiIlIAFm1ERERECsCijYiIiEgBWLQRERERKQCLNiIiIiIFYNFGREREpAAs2oiIiP6VkpJS73hVVRUWLVrUzGmILPHAeKpDq9VCkqQGXZuRkdHEaehOysvLkZ6ejvLycrz99tsAgNzcXHh7ewtORuYMBgNsbGwAAGlpabh57LOnp6d8CDWJt2rVKpSWliIiIkIey87OxptvvomOHTsKTEbEA%2BOpHt988438%2BsKFC9iyZQsGDx6MRx99FEajEUVFRdi7dy8mTZqEiRMnigtKyMjIwBtvvIE%2BffrgyJEjyMvLQ1lZGYKDgxETE4MXXnhBdMQHnsFgwBtvvIH%2B/ftj3LhxAAAvLy%2BoVCqYTCZcuXIF27Ztg4uLi%2BCkBAClpaUICwtDz549sWjRIiQkJGDz5s2YNm0apk6dKhfeRCKwaCOrJk%2BejKioqDqzNtnZ2UhMTMSGDRsEJSMACAkJQVRUFAICAuDt7Y3c3FwAQFZWFmJjY5Geni44IX388cf46quvsG7dOvTo0QMALO7VzJkz4eLigrfeektkTDJTVVWF2bNnIysrC126dMGKFSvke0ckEve0kVVHjx6t95eVt7c3cnJyBCQicyUlJdBqtQBgsaTt6%2BuLM2fOiIpFZtLT0xEdHX3bv/Rff/117N%2B/v5lTkbni4mKLf3Q6HebMmYOBAwfCzs4Obdq0kT8jEol72siqLl26ID4%2BHlOnToW9vT0A4Nq1a/jkk0/g7u4uOB25urri5MmT0Gg0FuMHDx7k/psWorS0FH5%2BfhZjvr6%2B8muNRoPy8vLmjkVmAgMDIUkSzBeezN/f3GYgSRIKCgqEZCQCWLTRHcTExCAqKgobNmyAo6MjDAYDrl27BkdHR6xdu1Z0vAfeK6%2B8gsmTJ2PUqFEwGAz4/PPPcfLkSfz444%2BYN2%2Be6HgEwGQyoXVry1%2B1n376qfy6tra2uSPRLfhAFSkFizayysfHB5mZmcjLy4NOp4Ner4dKpYKPjw/s7OxEx3vgjR8/HiqVCt999x3UajXS0tKgVquxbt06DBgwQHQ8AtCtWzdkZ2fjqaeeqvfzzMxMdO/evZlTkTk3NzeL94cPH4azszO6desG4MYe3n/%2B%2BQcDBw4UEY9IxgcRqI6amhq0adMGAKDX661ea2tr2xyRiBTr66%2B/xsaNG5GYmIiuXbtafJabm4upU6di7ty5CA0NFZSQzG3atAkffvgh4uPj4e/vD%2BDGTNyCBQsQGRmJ8ePHC05IDzIWbVSHj48Pfv/9dwBAjx496u3ZZjKZuL9DkPnz5zf42uXLlzdhEmqoefPmYdu2bfDz84OHhwdqa2tx6tQpHDlyBOPGjZP765F4Wq0WiYmJdR4cKSwsRFhYGJdSSSguj1Id5vttNm7cKDAJ1ae6ulp%2BbTQasW/fPri7u6Nr164wGo34888/odPpEBgYKDAlmXv//fcxYsQI7Nq1C6dPn4YkSejZsyfmzJmDJ554QnQ8MnPp0iV5WdScu7s7Ll68KCAR0f9xpo0ahfnsHDWfmJgY9OrVCyNHjrQY37x5M4qKirB48WJByaghdDodVCpVg08goaY3efJkPPbYY5g%2BfTocHBwAAOfPn8cHH3yAM2fO4PPPPxcbkB5oLNqoUZg3C6Xm4%2Bvri8OHD9d5OlGv12PAgAHIzs4WlIwawt/fH2lpaVCpVKKj0L9KSkoQGRmJwsJC2Nvbw2g04vr169BoNEhKSuK9IqG4PEqNgjMFYjg4OGD//v1yg92bDh8%2BLM8SkFivvvrqbT%2B7evUqZsyYAVtbW25FaCHUajVSU1Nx4sQJlJSUoFWrVlCr1TwRgVoEFm1ECjZt2jRMnz4dPXv2hLu7OwwGA8rKylBQUICFCxeKjke40Yy6pKQEEyZMgFqtlsdNJhOOHz%2BOYcOGwcnJSWBCqu%2BJ%2Be7du1u0Yrk5zifmSSQuj1Kj4J42cU6dOoWMjAyLPnrPPvtsnfNiSQyTyYQvv/wSSUlJGDt2LKZMmSL/xe/n54e0tDQ4OzsLTvlg4xPzpBScaSNSuG7dukGtVqOiogKSJMHZ2Rk2NjaiY9G/JEnChAkTMHToUCxfvhwhISFYtGgRG7W2IOZPzH/xxRfc7kEtFos2IgW7fPkylixZgt27d8vHIdnZ2SE4OBiLFi3iqRUtiEqlQlxcHA4cOICYmBj07NkTBoNBdCwC0K9fP/l1//79BSYhso5FGzUKrrKLER0djXPnziEhIQEeHh4AgD///BNJSUlYtWoV97W1QM888wzS09ORmJiIvLy8Ok/%2BUvO7m1nPgwcPNmESIuu4p42sCgkJwQ8//HDH6y5cuICOHTs2QyIy5%2Bvrix07dqBDhw4W4zqdDi%2B//DL27NkjKBndq8DAQPz000%2BiYzxQUlJSGnztiy%2B%2B2IRJiKzj/%2BKRVe3atcO%2Bffvw3HPPWb2OBZsYNjY2eOihh%2BqMOzo6oqqqSkAi%2Bq9KS0tFR3jg3FqIXblyBQaDAe3btwcAnDlzBg8//LD8nkgUFm1klYeHB%2BbPnw83Nze4urrWWcpZvXq1oGQEAH369EFMTAzmzp0rz7ZdvHgRq1atQu/evQWno3vBTfBiZWVlISIiAjExMQgKCgIA7Nu3D3FxcVi7di33vJFQLNrIKoPBcMdZNhJn8eLFCAsLw9NPPw1HR0cAN2YJPD09kZiYKDgdkfKsWLECCxculAs2ABg3bhzatWuH9957766WUokaG/e0Ed0H/vjjD5w5cwZ6vR5qtZqzbArGnodiPfnkk8jOzq7TNqempgZPPfUUcnJyBCUjAlqJDkAt37FjxxAdHY3w8HAAgNFoxPbt2wWnopsOHz4MW1tbBAQEICgoCNXV1fj5559FxyJSpC5dumDXrl11xlNTU%2BHq6iogEdH/sWgjq7Zs2YJJkyZBr9fjwIEDAIBz585h2bJlPCuxBdi0aRMiIyOh0%2BnkscuXL2PWrFn48ssvBSYjUqa5c%2Bdi/vz5GDFiBCIiIhAeHo7AwEAsXboU0dHRouPRA47Lo2TV4MGD8d5776Fv377w9vZGbm4uAKCgoABRUVHYuXOn4IQPNq1Wi8TExDqHWRcWFiIsLAwZGRmCktG9Mv85IzF0Oh1%2B%2BuknlJSUQJIkqNVqBAcH8yl5Eo4PIpBV58%2BfR58%2BfQBYPtXWvXt3VFRUiIpF/7p06RK6detWZ9zd3R0XL14UkIis%2BeOPP%2BQCu7S0FLt27UKXLl2g1WrlazhDKp6zszMmTpxo9Rr20yMRuDxKVnl4eCArK6vOeHp6Ovd3tAB9%2BvTBmjVrcPXqVXns/PnzWLZsGXx8fAQmo1t99tlnciFQWVmJl156CZmZmVixYgXWr18vX%2Bft7S0oId0N9tMjETjTRlZNmTIF4eHh0Gq1qK2tRWxsLE6ePImcnBz2aGsBlixZgsjISGzcuBH29vYwGo24fv06NBoNkpKSRMcjM5s2bZIPJk9JSYG7uzs2btyI0tJSTJw4EVOmTBGckO4G%2B%2BmRCCzayKqgoCCo1WqkpKTA398f5eXl8PLyQnR0dL3LctS81Go1UlNTUVBQgNOnT6NVq1ZQq9V19riVlZWhc%2BfOglIScGMpu1evXgBunF85bNgwAICbmxvOnz8vMhoRKQSLNrqj3r17W/T9unz5MpycnAQmoltpNBpoNJrbfj5s2DD2/hJMpVKhqKgIbdu2xa%2B//oolS5YAAIqLi%2BHg4CA2HBEpAve0kVX5%2BfkIDQ2V30dFRaF///7w9/dnk0kF4UPi4k2dOhWjR49GcHAwXnzxRajValy9ehVhYWEYOXKk6HhEpACcaSOrYmNjERAQAADYvXs3jhw5gszMTBw9ehQrV67EV199JTghNQT334jx119/wcPDA8CNTvuffPIJ2rVrB0mSUFxcDKPRiNDQUPlnjIjIGhZtZFVhYSE2bdoEAMjIyEBQUBBcXV3RuXNnNpokuoOQkBC551pgYKBF8WwymSBJEkwmE%2BLi4lBQUCAqJt0Dzl6TCCzayCo7OzvU1NRAkiQcOHAAK1euBABUVVXBaDQKTkfUspkf98ZGx8rBfnrUUrFoI6ueeeYZzJgxA61bt4a9vT38/PxQU1ODuLg4uekuEdXPvJehm5ubwCTUUJ999hk%2B%2BugjZGVlyf30PD09odPpUFRUJLdmYT89EoEPIpBV0dHR6NevHzw9PbFhwwZIkoSamhoUFxfj3XffFR2PiKhR3a6f3oYNG7B161bB6ehBx5k2ssq84eet5yHOmzePh8YrhK2tregIRIrAfnrUkrFoI6tuPQrJYDCgpKQEx44dw/jx4wWlInMnT57E3r17UVFRAUmS4OzsjEGDBqF79%2B7yNb/99pvAhETKwX561JKxaCOrZs%2BeXe/4wYMH8f333zdzGrrV119/jZiYGGg0Gri6usJkMuHIkSOIi4tDdHQ0Ro8eLToikaLc7KdnMpnYT49aHMnE55bpHhiNRvTr1w9Hjx4VHeWBNmDAAMTExNTp87Vr1y4sXrwYhw4dEpSMSDnM%2B%2BkVFxfj4sWLcj89SZJgNBqRkZGBgIAAHt9HQrFoI6uKi4vrjP3zzz/YuXMnUlJSsHfv3uYPRbK%2Bffvil19%2BQevWlpPmtbW18PPzQ3Z2tqBkRMrh7e0t79nt0aPHbfvpSZLEfnokFJdHyaqbDUFv1vY3Xzs4OMh7PUicESNGIDU1FaNGjbIY//HHHxESEiIoFZGysJ8eKQVn2siq0tLSOmN2dnbo0KEDWrVixxjRFixYgB07dsDV1RVdu3aFwWDA6dOnUVpaiueee87iHq1evVpgUiIi%2Bq8400ZWsSFoy2YymTBkyBCLMS8vL3h5eQlKRERETYUzbUREREQKwJk2IgUzGo3YvHmz3KcNAFxcXKDVavHyyy9bbKgmIiJl40wbkYK98847yMzMRHBwsNyn7ezZs9i2bRsGDx6MxYsXi45IRESNhEUbkYI9%2BeST%2BO677%2Br0jioqKsLo0aORk5MjKBkRETU2Pv5HpGAODg5wd3evM65Wq3nkDhHRfYZFG5GCzZgxA0uXLkVlZaU8VllZiZUrVyIyMlJgMiIiamxcHiVSsCFDhkCn00Gv18PR0RFGoxHXrl1DmzZt4OjoaHHtwYMHBaUkIqLGwKdHiRQsLCys3nGTyYQ1a9Zg9uzZzZyIiIiaCmfaiBSstrYWycnJOH78OPR6vTxeUVGBwsJC/PLLLwLTERFRY%2BKeNiIFi42Nxfr166HX67F9%2B3bY2NigsLAQVVVVWLduneh4RETUiDjTRqRgAwcOxLfffgsXFxd4e3sjNzcXJpMJq1atgru7O8aOHSs6IhERNRLOtBEpWHV1NVxcXAAANjY20Ov1kCQJU6ZM4UwbEdF9hkUbkYI9/vjjSEhIQE1NDbp27YqtW7cCAMrKylBVVSU4HRERNSYujxIpWF5eHmbNmoW0tDQcOnQIM2fOhK2tLaqrqzFu3DgsWLBAdEQiImokLNqI7iOnTp1CQUEB3Nzc8MQTT4iOQ0REjYhFGxEREZECcE8bERERkQKwaCMiIiJSABZtRERERArAoo2IiIhIAVi0ERERESkAizYiIiIiBWDRRkRERKQA/wODyYKKOdWrOAAAAABJRU5ErkJggg%3D%3D\" class=\"center-img\">\n",
              "    <img src=\"data:image/png;base64,iVBORw0KGgoAAAANSUhEUgAAAm0AAAIiCAYAAACaBf8HAAAABHNCSVQICAgIfAhkiAAAAAlwSFlzAAAPYQAAD2EBqD%2BnaQAAADl0RVh0U29mdHdhcmUAbWF0cGxvdGxpYiB2ZXJzaW9uIDMuMC4zLCBodHRwOi8vbWF0cGxvdGxpYi5vcmcvnQurowAAIABJREFUeJzs3XtclGX%2B//H3gIomCiIHT3jCQBRqtQxT1zyuZiXVah42lXTXPKGymtkjz1luhekqZlmrWVpLm1aeSsXq52ZmnlIkyUILj4DJqKDIaX5/uM7XCVTw5hZmfD0fj3kY133f11z3NTHz4X0fxmKz2WwCAABAheZW3gMAAADAjVG0AQAAOAGKNgAAACdA0QYAAOAEKNoAAACcAEUbAACAE6BoAwAAcAIUbQAAAE6Aog0AAMAJULQBAAA4gUrlPQAAZWf//v1avXq19u7dq2PHjunixYvy8PCQv7%2B/wsLC1KtXL3Xp0kUWi6W8hwoAKCUL3z0KOD%2BbzaYXX3xR7733niTJy8tLwcHB8vT0VFZWlg4ePKisrCxJUufOnbVgwQJVqVKlPIcMACglijbABaxcuVKzZs1S1apVNXPmTD3yyCNyd3e3L8/JydG///1vvfzyyyosLNTw4cM1YcKEchwxAKC0OKcNcAEffPCBJGnw4MF69NFHHQo2SapataqioqL0t7/9TZK0YsUK5eTk3PJxAgBuHkUb4AJSU1MlSSEhIdddLyoqSm%2B//bY2b96sqlWrSpImT56skJAQvfzyy8rOztacOXPUpUsXhYeHq23bthozZowOHTp0zT63b9%2BuMWPGqEOHDgoLC1Pbtm0VFRWltWvXXnMbq9WqefPm6dFHH1WrVq3UsmVLtWvXTiNGjNCOHTuK3aZLly4KCQnR1q1btXnzZvXq1Uvh4eHavXu3JGnhwoUKCQnR5MmTlZubq4ULF6pHjx6666679MADD%2BiFF17QhQsXJEk//fSTxo4dq/bt2ys8PFyPPPKI1qxZU%2BzzXrx4UW%2B99ZaeeOIJ3XvvvWrRooUiIiL01FNPafPmzcVuM2jQIIWEhOiDDz5Qdna25s2bZx9LmzZt9Le//U0HDhy45vwAQHEo2gAX4OPjI0n6/vvvb7jeH//4R/n6%2BhZZlp2draioKH3wwQeqVauW2rRpo4KCAm3evFl9%2B/YttsiYN2%2BeoqKitHnzZnl6eioiIkI%2BPj7avn27Jk6cqPHjx6ugoMBhm4yMDD3%2B%2BON64403dPjwYbVo0UJt27ZVlSpV9OWXX2rIkCFatWrVNffh8OHDiomJUeXKldW2bVt78Xm1Z555RkuXLlX9%2BvV15513Kj09XStWrNCzzz6rQ4cOacCAAUpOTlbz5s3l5%2BenQ4cO6ZlnntFXX33l0M/Fixc1cOBAxcbGKikpSUFBQbr//vvl5eWlb775RmPGjNHChQuvOdbc3FxFRUVp%2BfLlqlu3rlq2bKmCggJt3bpVgwYNshfbAFAiNgBO79lnn7UFBwfbQkJCbC%2B//LItLS2t1Nu2bt3a9vDDDztse%2B7cOVufPn1swcHBtj59%2Bjhst2nTJltwcLCtTZs2th07djgs%2B%2B6772zt2rWzBQcH25YtW%2BawbPbs2bbg4GBbjx49bKdPn7a35%2Bfn21588UVbcHCw7Z577rFlZWU5bNe5c2dbcHCwrUuXLrbFixcX2Y8FCxbYgoODbR06dLD17t3blpGRYV%2B2efNm%2B/z07NnTtnDhQlthYaHNZrPZCgoKbKNHj7YFBwfbhg0b5tDnsmXLbMHBwba2bdvajhw5Uuyy0NBQW2pqqsOyJ5980hYcHGzr1KmTbeDAgbbffvvNviw9Pd3Wvn17W3BwsO2ll14qsh8AcC0kbYALGD9%2BvOrWrSubzaZ//etf6tSpk5588knNnz9f33zzjS5evHjDPrKysjRjxgz5%2B/vb22rUqKHJkydLunw7kV9%2B%2BcW%2BbPHixZKkZ599Vvfdd59DX23atNGkSZMkScuXL3dY5u/vr4ceekhjxoxR7dq17e3u7u6KiYmRm5ubzp8/f83U8MqFFNeSnp6umTNnOqSJ3bp1k5%2Bfn2w2mypVqqTRo0fbb3vi5uamfv36SZJ%2B%2BOEHh76qV6%2BuRx55RCNGjFDjxo0dlg0ZMkR%2Bfn4qKCjQ9u3bix1LRkaGXnvtNXsSKkl%2Bfn565JFHJEn79u275n4AwO9xnzbABdSpU0f/%2Bc9/9Oqrr2rdunUqKCjQzp07tXPnTi1evFiVK1dWRESEevfurYceekiVKhX91ff399c999xTpL1Vq1aqXr26srOz9f3336tx48ZKS0tTUlKSJKl79%2B7Fjqlbt26yWCw6ceKEjhw5oiZNmkiS/WKI4lSrVk21a9dWRkaGMjIyil2nbdu2cnO79t%2Bbfn5%2B%2BsMf/lCkvX79%2BsrIyFDnzp2L3Keufv36kqSzZ886tPft21d9%2B/Yt9nksFosaNGhw3bHed999CggIKNLesGFDSVJmZuY19wMAfo%2BiDXARfn5%2BeuWVVzRp0iRt3rxZ27dv165du/Tbb78pLy9PX3/9tb7%2B%2Bmu99dZbev311%2B2FwxXBwcHF9uvm5qb69evr0KFDOnbsmCQ5XJhwJYkrTqVKlZSXl6dffvnFXrRJl8/1%2Bn//7//pwIEDSk9P17lz52T7392Hzp8/L%2Blyolac4oqgqzVo0KDY9iv3pbtSoBW3LD8/v8iywsJCbdu2TXv37lV6erqsVqt9bEeOHLnuWAMDA4tt9/DwkCTl5eVdb1cAwAFFG%2BBifH19NWDAAA0YMEDS5RP3d%2BzYoU8//VR79%2B7VTz/9pOHDh2vt2rWqXLmyfTsvL69r9lmjRg1Jly9WkBwTqS1bttxwTFcKMUlKTk7W6NGj7QVgaV1vnJIc9ulmll/txIkTGj16dJHDpiXFDYwBlCWKNsDFNW3aVE2bNtWAAQO0fPlyvfTSSzpy5Ig2bNigyMhI%2B3rXO%2BR4JUm6ss6Vw4uVK1dWYmJiib8WKycnRyNHjtSJEyfUuHFjjRo1Svfff79q1aplL6a6dOmi48ePX7OPW/kVXGPHjtUPP/wgX19fRUdHq2PHjvL19bUXY4MGDdJ33313y8YD4PZG0QbcRoYMGaIVK1YoNTVVP/30k8OyK19zVZwry64kbt7e3pIuH97LzMx0ONH%2BerZu3aoTJ07IYrFoyZIlatSoUZF1KspNf5OSkpSYmChJio2N1f33319knYoyVgC3B64eBZzc5s2bNW3aNC1ZsqRE6185vHjlvKorfv7552LXLygosCdfV87Ruvr8t98Xf9dz5erThg0bFluwpaam6rfffitxf2b69ddfJcl%2BP7jfy87Ovu5NhwGgrFG0AU4uMTFR8fHxWrJkiU6cOHHdddPS0pScnCxJRa6wPHr0qA4ePFhkm927d9u/SaBVq1aSLl/00LJlS0nShx9%2BWOxzHTlyRJGRkfZbg0j/l9RdunSp2G0WLVpk/%2B/f35T3VvP09JR0%2BdBwcRcM/Otf/7InbcVdwAAAZY2iDXByTz31lPz8/HT%2B/HkNGTKk2K%2BBstls%2Bvbbb/XXv/5VeXl5%2BsMf/qD27ds7rFOjRg1NmTLFIemyWq36xz/%2BIenyrTbq1atnXzZixAhJ0rp16/TOO%2B/Yr/6ULqdUY8eOVXJysk6ePGlvb968uSTp1KlTSkhIsLdfvHhRs2fPVmJior0wPHz48E3PSVkIDg6Wu7u7CgoK9P7779vb8/Pz9eabbyo%2BPl6dO3eW9H9XkQKAmTinDXBytWrV0tKlSxUdHa1ffvlFgwcPlp%2Bfn5o2bao77rhDVqtVx44ds99L7J577lFcXFyRCw%2B6dOmio0ePqmvXrgoPD1flypW1b98%2BZWVlydPTU9OmTXNY/09/%2BpOGDx%2BuJUuWaM6cOXr33XfVtGlTZWZm6uDBgyooKFCLFi00ceJE%2BzatWrVShw4d9PXXXys6Olp33323PDw8dODAAVWqVEnLli3T%2BvXrtXfvXr377rv68ccfNXLkSLVp08b8ifydOnXqqE%2BfPoqPj9ecOXO0Zs0aeXt76%2BDBg8rOzlZcXJyOHTumL7/8Uhs3btSgQYM0cOBAPfjgg7d8rABuDxRtgAsIDg7W2rVrtX79en3xxRdKTk7W/v37lZubq6pVqyogIED333%2B/evXqpU6dOhV7Baabm5uWLl2q119/XZs2bdKJEydUvXp19ejRQzExMQ73WbtiwoQJateunVasWKHvv/9e27dvl4eHh8LCwtSrVy8NHDiwyG0v5s%2Bfr9jYWG3ZskUHDhyQv7%2B/evTooREjRqhhw4aqU6eOfvjhB%2B3Zs0c//fTTLb1a9PemTJkiLy8vrVu3TocOHVLt2rUVERGhp59%2BWqGhocrJydGOHTu0detW/fTTTw5pIwCUNYuNdxngtjZ58mR9/PHHeuyxx%2ByHQgEAFQ/ntAEAADgBijYAAAAnQNEGAADgBCjaAADAbeu///2v2rVrp5iYmOuuV1hYqHnz5qlr165q06aNhg0bpqNHj9qXW61WjR8/Xu3atVOHDh30/PPPl/m3pnAhAgAAuC299dZb%2Buijj%2BTj46M6depo3rx511z3vffe07Jly/TWW28pICBA8%2BbN086dO/Xpp5/KYrEoOjpaubm5mjNnjvLy8jRu3DiFhYVpypQpZTZekjYAAHBb8vDw0EcffVTs1%2Br9Xnx8vKKiohQUFCRPT0/FxMQoJSVF%2B/bt0%2BnTp5WQkKCYmBj5%2BPgoICBAo0aN0qpVq4r9RpWbxX3aAACA00pPT7ffPPwKPz8/%2Bfv733DbwYMHl%2Bg5cnJy9PPPP6tFixb2Nk9PTzVq1EiJiYk6f/683N3dFRISYl/esmVLXbhwQYcPH3ZoN4KizSzleENQUzRpIv30k3TnnZIrfWVPYWF5jwBwGTa52Pueiyq3jyeTnjh%2BwQLFxcU5tI0ZM0bR0dFl9hxnz56VzWaTl5eXQ7uXl5cyMzPl7e0tT09Ph5uBX1k3MzOzzMZB0YaS8faW3N0v/4uKzWKROFW14uN1qvB4iZxDv3791KVLF4c2Pz8/U57repcB3IpLBCjaAACA%2BdzMOY3e39%2B/RIdCjfD29pabm5usVqtDu9VqVe3ateXj46OsrCwVFBTI3d3dvkySateuXWbj4EIEAABgPjc3cx63gIeHh%2B68804lJSXZ286dO6fU1FTdddddCg0Nlc1mU3Jysn15YmKiatasWez3Nt8sijYAAIDfSUtLU8%2BePe33YhswYIDeffddpaSkKCsrS7GxsQoNDVV4eLh8fHzUo0cPzZ8/X2fOnNGpU6e0aNEi9enTR5Uqld1BTQ6PAgAA892iVKw0wsPDJUn5%2BfmSpISEBEmXU7K8vDwdOXJEubm5kqT%2B/fsrIyNDgwYNUnZ2tiIiIhwugJg1a5amT5%2Burl27qnLlynr44YdveMPe0uLmumZxtatHW7WS9uyRWreW9u4t79GUHVe8epSzp52DC75Ornb1qAu%2BRJLK8ePJw8Ocfi9dMqffCoikDQAAmK8CJm3OhqINAACYj6LNMGYQAADACZC0AQAA85G0GcYMAgAAOAGSNgAAYD6SNsMo2gAAgPko2gxjBgEAAJwASRsAADAfSZthzCAAAIATIGkDAADmI2kzjKINAACYj6LNMGYQAADACZC0AQAA85G0GcYMAgAAOAGSNgAAYD6SNsMo2gAAgPko2gxjBgEAAJwASRsAADAfSZthzCAAAIATIGkDAADmI2kzjKINAACYj6LNMGYQAADACZC0AQAA85G0GcYMAgAAOAGSNgAAYD6SNsMo2gAAgPko2gxjBgEAAJwASRsAADAfSZthzCAAAIATIGkDAADmI2kzjKINAACYj6LNMGYQAADACZC0AQAA85G0GcYMAgAAOAGSNgAAYD6SNsMo2gAAgPko2gxjBgEAAJwASRsAADAfSZthFG0AAMB8FG2GMYMAAABOgKQNAACYj6TNsNtuBnfu3Knw8HDl5uYWu/yDDz5Qly5dbvGoAABAeTh%2B/LiGDx%2BuiIgIde7cWa%2B%2B%2BqoKCwuLrDd06FCFh4c7PEJDQxUXFydJGjRokFq2bOmwvHfv3mU61tsuaWvTpo0SExPLexgAANxeKmjSFh0drZYtWyohIUG//fabnn76afn6%2Buqpp55yWG/p0qUOP587d069evVS9%2B7d7W0vvPCCHn/8cdPGWjFnEAAAuBY3N3MeBiQmJio5OVkTJ05UjRo11LhxY0VFRSk%2BPv6G286fP1/du3dXSEiIoTGUxi1L2o4dO6auXbtqw4YNCgoKkiTFxsZq3759WrJkiWbMmKGtW7cqJydHISEhmjJlisLCwiRJGzZs0Jtvvqlff/1VtWvX1vDhw9WvXz9J0uTJk%2BXu7q7U1FRlZmZq3bp11x3Hjh07NHjwYO3fv18eHh7at2%2Bfpk6dqtTUVLVq1Ur33HNPqfctPT1dGRkZDm1%2BTZrI39u71H1VWM2bO/4LAEAFUOxnsJ%2Bf/P39b7htUlKS6tevLy8vL3tby5YtdeTIEWVlZcnT07PY7X799Vd98sknSkhIcGjfsGGD3n77bZ08eVJ33323Zs2apYYNG97EXhWvQhweXb58uU6fPq3NmzerSpUqeuuttzR16lR9/PHHSkxM1PPPP6%2BFCxfq/vvv1969e/W3v/1Nd955p1q3bi1J2rJli%2BbMmaNOnTqV6nkLCgo0duxYPfTQQxo3bpySk5MVHR2tSpVKNy3x8fH2Y9pXjBk3TtHjxpWqH6fw/vvlPQKUhMVS3iNASbjY6%2BRae3OZi71EstnK8clNOjxa7GfwmDGKjo6%2B4bZWq1U1a9Z0aLtSwGVmZl6zaFuyZIn%2B/Oc/y8fHx94WFBSkatWqKTY2VoWFhZo9e7b%2B%2Bte/at26dapSpUppd6tYFaJoO3funCpXrqyqVauqUqVKGjVqlEaNGiVJWr16tTp16qQOHTpIku699149%2BOCD%2BvTTT%2B1FW/369dW5c%2BdSP%2B%2BBAweUnp6ukSNHysPDQ3fffbe6d%2B%2BuL7/8slT99OvXr8jFC36PPCItX17qMVVYzZtfLtgGDpSSk8t7NGVn9%2B7yHkHZs1jK%2BZ0ZJeKCr5PNxco2F3yJXFKxn8F%2BfiXe3lbKF9lqterTTz/VZ5995tA%2BY8YMh59nzZqliIgI7d69W/fff3%2BpnuNaKkTRNnDgQA0bNkwPPPCA/vjHP6pbt27q2rWrJCk1NVXbt29XeHi4fX2bzWYv4qTLRdvNOHXqlGrWrKkaNWrY2xo3blzqfvz9/YvGsEeO3NSYKrzkZGnv3vIeBQDA2ZiUtBX7GVxCPj4%2BslqtDm1Wq1UWi8UhRbvali1b1KRJEwUGBl63b09PT3l5eSktLe2mxlacci3aCgoKJEkNGjTQhg0btGPHDn3xxReaNm2a1qxZowULFqhq1aoaMGCApk6des1%2B3N3db%2Br5c3Nz7WO4orjLfAEAgEEV8OrRsLAwnTx5UmfOnLEXaYmJiWrWrJmqV69e7DZbtmxR%2B/btHdqysrIUGxurkSNHKiAgQJJ05swZnTlz5obFXWncshn08PCQJOXk5Njbjh49KknKzs5WQUGB2rVrpylTpug///mPNm7cqMzMTDVs2FA//vijQ1%2BnTp0qUmzdDH9/f2VlZen8%2BfP2tpSUFMP9AgCAiq9FixYKDw/X3LlzlZWVpZSUFC1btkwDBgyQJPXs2VO7du1y2ObgwYNq0KCBQ5unp6f27dun2bNny2q16uzZs5o5c6ZCQkLUqlWrMhvvLSvafHx8VKNGDW3atEkFBQX6%2Buuv9f3330uSxo4dq5dffllZWVkqLCzU3r175e3tLS8vL/Xp00d79uzRqlWrlJubq4MHD6pv377auHGj4THdfffd8vLy0ttvv63c3Fzt2rWr1OezAQCAEqiAt/yQpAULFig9PV3t27fX4MGD9eijj2rgwIGSpCNHjujChQsO62dkZMjX17dIP4sWLZLNZlOPHj3UqVMn5eXlacmSJXIrw4TRYivtGXgGrF27Vq%2B%2B%2BqrOnz%2Bvrl27KigoSN98841efvllTZs2TXv27JHFYtGdd96piRMn6t5775UkffbZZ1qwYIGOHz8uf39/Pfnkk4qKipJ0%2BZYfly5d0rx580o0ht/f8mPXrl2aMWOGjh49qlatWumBBx7Qe%2B%2B9py%2B%2B%2BMLYzrraJUetWkl79kitW7vWOW2ueDics6edgwu%2BTlyI4BzK7eOpRw9z%2Bi2DEMdZ3NKi7bZC0eYcKNpQXlzwdaJocw7l9vH04IPm9Pu7qzhdWYW4ehQAALi4CnghgrNxqaLt9OnTN7xfG987CgAAnJFLFW2%2Bvr4UZQAAVEQkbYYxgwAAAE7ApZI2AABQQZG0GUbRBgAAzEfRZhgzCAAA4ARI2gAAgPlI2gxjBgEAAJwASRsAADAfSZthFG0AAMB8FG2GMYMAAABOgKQNAACYj6TNMGYQAADACZC0AQAA85G0GUbRBgAAzEfRZhgzCAAA4ARI2gAAgPlI2gxjBgEAAJwASRsAADAfSZthFG0AAMB8FG2GMYMAAABOgKQNAACYj6TNMGYQAADACZC0AQAA85G0GUbRBgAAzEfRZhgzCAAA4ARI2gAAgPlI2gyjaAMAAOajaDOMGQQAAHACJG0AAMB8JG2GMYMAAABOgKQNAACYj6TNMIo2AABgPoo2w5hBAAAAJ0DSBgAAzEfSZhgzCAAA4ARI2gAAgPlI2gyjaAMAAOajaDOMGQQAAHACJG0AAMB8JG2GMYMAAOC2dfz4cQ0fPlwRERHq3LmzXn31VRUWFhZZb%2BHChQoNDVV4eLjD4/Tp05KkS5cuadq0aerYsaMiIiI0duxYZWZmlulYKdoAAID53NzMeRgUHR2tgIAAJSQkaNmyZUpISNDy5cuLXTcyMlKJiYkOD19fX0nSvHnzlJSUpPj4eG3cuFE2m03PPfec4fFdjaINAACYrwIWbYmJiUpOTtbEiRNVo0YNNW7cWFFRUYqPjy9VP/n5%2Bfroo480atQo1a1bV97e3ho/fry%2B%2BuorpaWlGRrj1TinzSzFRKsuYffu8h5B2XK1cyxatZL27JHuuUfau7e8R1NmfjttK%2B8hlCl3d8nbW7KetaigoLxHU3Z8fMp7BLgdpaenKyMjw6HNz89P/v7%2BN9w2KSlJ9evXl5eXl72tZcuWOnLkiLKysuTp6emw/o8//qj%2B/fvr0KFDqlu3rp577jl16NBBqampOn/%2BvFq2bGlfNygoSFWrVlVSUpICAgIM7uVlFG0AAMB8Jv2RHB8fr7i4OIe2MWPGKDo6%2BobbWq1W1axZ06HtSgGXmZnpULTVqVNHgYGBmjBhgvz9/RUfH68RI0ZozZo1slqtklSkr5o1a5bpeW0UbQAAwGn169dPXbp0cWjz8/Mr8fY2W8mS/L59%2B6pv3772n6OiorR%2B/XqtWbNGHTt2LFVfN4uiDQAAmM%2BkpM3f379Eh0KL4%2BPjY0/JrrBarbJYLPIpwfH%2B%2BvXrKz093b6u1WpV9erV7cvPnj2r2rVr39TYiuNiJ/QAAIAKqQJeiBAWFqaTJ0/qzJkz9rbExEQ1a9bMofiSpNdff13bt293aEtJSVFgYKACAwPl5eWlpKQk%2B7JDhw4pNzdXYWFhhsZ4NYo2AABwW2rRooXCw8M1d%2B5cZWVlKSUlRcuWLdOAAQMkST179tSuXbskXU7RZs6cqcOHD%2BvSpUtaunSpUlNT9dhjj8nd3V1PPPGE3njjDZ08eVKZmZl67bXX1L17d/stQcoCh0cBAID5KujV%2BgsWLNDUqVPVvn17eXp6qn///ho4cKAk6ciRI7pw4YIkacKECZIun8tmtVrVrFkzvfPOO6pTp44kaezYscrOzlZkZKTy8/PVuXNnzZgxo0zHarGZfdbc7coVp9Vicb39qqBvIjftyi0/Wrfmlh8VmP2WH1Zxy48KzBXf8qTL%2B1Uu5swxp98yvoFtRUbSBgAAzOdqfySXA4o2AABgPoo2w5hBAAAAJ0DSBgAAzEfSZhgzCAAA4ARI2gAAgPlI2gyjaAMAAOajaDOMGQQAAHACJG0AAMB8JG2GMYMAAABOgKQNAACYj6TNMIo2AABgPoo2w5hBAAAAJ0DSBgAAzEfSZhgzCAAA4ARI2gAAgPlI2gyjaAMAAOajaDOMGQQAAHACJG0AAMB8JG2GMYMAAABOgKQNAACYj6TNMIo2AABgPoo2w5hBAAAAJ0DSBgAAzEfSZhhFGwAAMB9Fm2HMIAAAgBMgaQMAAOYjaTOMGQQAAHACJG0AAMB8JG2GUbQBAADzUbQZxgwCAAA4AZI2AABgPpI2w5hBAAAAJ0DSBgAAzEfSZhhFGwAAMB9Fm2HMIAAAgBMgaQMAAOYjaTOMGQQAAHACJG0AAMB8JG2GUbQBAADzUbQZxgwCAAA4gdsyaYuJiZGHh4f%2B8Y9/lPdQAAC4PZC0GcYMAgCA29bx48c1fPhwRUREqHPnznr11VdVWFhY7LoffPCBevTooVatWikyMlIJCQn2ZZMnT1aLFi0UHh5uf9x7771lOtbbMmkDAAC3WAVN2qKjo9WyZUslJCTot99%2B09NPPy1fX1899dRTDutt3LhRc%2BfO1Ztvvqm77rpLn3zyicaPH6/PPvtMgYGBkqSRI0cqOjratLGWumhLTEzUnDlzdOjQIVWpUkXdu3fXlClTtHbtWi1evFjDhw/XggULdP78efXu3VvTpk1TpUqVNHnyZFksFlWrVk2ffPKJqlSporFjx2rgwIElet6jR49q%2BvTp2rt3r7y9vfXUU09p8ODBkqRTp05p5syZ2rNnj/Lz89WxY0dNnz5d3t7ekqQPP/xQb7zxhs6ePavevXsXqaBXrFihlStX6sSJE2rQoIFiYmLUrVu3Es9Jenq6MjIyHNr8fH3l7%2B9f4j5QTlq1Ku8RlK3mzR3/dRHu7uU9grJ1ZX9cbb%2BA6zKpaCv2M9jPr0SfwYmJiUpOTtayZctUo0YN1ahRQ1FRUVq%2BfHmRoi0nJ0d///vfdc8990iS%2Bvbtq9jYWH3//ff2os1spS7aYmJi1Lt3b7333ntKS0tT//791axZM1WvXl1paWlKTEzUpk2bdOLECQ0ZMkRBQUEaMmSIJOnzzz/Xc889p2%2B//VZbt27VmDFj1Lp1azUvwQfMmDFjdN9992kTm7DmAAAgAElEQVTRokX65Zdf9Je//EVBQUFq3769Ro0apWbNmmnLli3KycnRuHHjNH36dP3zn//U4cOHNW3aNMXFxaljx45as2aNZs%2BerZ49e0qSNm3apLi4OL399ttq3ry5vvjiC40fP16bNm1SvXr1SjQn8fHxiouLcxzv6NGKHju2lLPrBCyW8h5B2dqzp7xHYI733y/vEZQp7/IegElq1CjvEeBGXO0tz2Yr7xGUvWI/g8eMKVHilZSUpPr168vLy8ve1rJlSx05ckRZWVny9PS0t0dGRjpse%2B7cOWVnZysgIMDe9u2332rLli369ddfFRQUpBkzZigsLOxmd62IUhdtV1Iyd3d31atXT23atNGBAwcUERGhS5cuafz48apWrZqCgoL00EMP6auvvrIXbfXq1dMTTzwhSerWrZtCQ0P15Zdf3rBo%2B%2BGHH/Tjjz9q%2BfLlqlatmkJDQxUXF6eAgAAdPHhQSUlJevPNN%2BXp6SlPT08NHz5co0ePVm5urhISEtSiRQt7ctanTx8tX77c3vdHH32kPn362Cf1T3/6k%2B655x6tW7dOw4cPL9Gc9OvXT126dHFo8/P1db3fDovF9fbpf38xuYzmzS8XbAMHSsnJ5T2aMmP9wrWKa3f3ywXb%2BfNSQUF5j6bsXPW55xJc8S2vXJmUtBX7GeznV6JtrVaratas6dB2pYDLzMx0KNquZrPZNGXKFN1999267777JEmBgYFyc3PTuHHjVL16dcXFxWno0KHauHGjatWqVdrdKlapi7Zvv/3Wnnbl5%2BcrPz/fnlp5eXnJx8fHvm69evX09ddf239u0qSJQ1/16tVTenr6DZ8zNTVVnp6e9sOdktSuXTtJ0ubNm%2BXl5eXwAjVs2FB5eXlKS0tTWlqaGjRo4NBf48aNHfretm2bQyFns9nUrFmzG47rCn9//6IxLL/pzmHv3vIegTmSk11q31ypsLlaQYHr7htwqxT7GVwKtlJ%2BXufl5Wny5Mn6%2Beef9e6779rbR48e7bDeM888o3Xr1ikhIUF9%2B/a96fFdrVRFW0pKisaNG6dnn31WTzzxhKpWrapnnnlG%2Bfn5kqSC37372Gw2Wa7Klm%2B0/Frc3NyueSVHbm7uNbezWCzKzc21j%2B%2BKq/uqWrWqJkyYoKFDh95wHAAA4CZVwAsRfHx8ZLVaHdqsVqssFotDCHVFTk6ORo0apYsXL2rlypXXTdDc3d1Vt27dEoVTJVWqGTx48KCqVKmiwYMHq2rVqrLZbDp48KB9eVZWls6cOWP/%2BcSJEw7Heo8ePerQ34kTJ1SnTp0bPm9gYKCys7MddjwhIUHfffedAgMDdfbsWZ0%2Bfdq%2B7PDhw/Lw8FBAQID8/f116tQph/5SUlLs/92wYUP9%2BOOPRcZV2sobAABch5ubOQ8DwsLCdPLkSYfaJTEx0X6u/tVsNptiYmJUqVIlvfPOOw4Fm81m05w5c5R81Wkpubm5Sk1NLdOLFEq1t/Xr11dOTo4OHjyos2fP6tVXX1WVKlWUnp4um82mKlWqaNGiRcrJydHPP/%2Bs9evXOxxnPn78uD755BPl5eVp8%2BbNSk5OVqdOnW74vKGhoWrRooXmz5%2Bv7OxsHTp0SM8//7xycnIUHh6uoKAgzZ07VxcuXFBaWpoWL16shx56SJUrV1bHjh31ww8/6KuvvlJubq5WrlyptLQ0e9/9%2BvXThg0b9NVXXyk/P1/ffvutHn74Ye3bt680UwMAAJzMlfuqzZ07V1lZWUpJSdGyZcs0YMAASVLPnj21a9cuSdLatWv1888/65///Kc8PDwc%2BrFYLDp27JhmzpyptLQ0ZWdnKzY2VpUrVy7V3ShuxGIrZaQ0e/Zsffzxx6pWrZpGjhypkJAQjRw5UpUrV5bFYtHYsWMVFxdnv%2BXH9OnT5e7ursmTJ%2BvixYvy9vbWunXrVLlyZY0fP179%2B/cv0fOmpaVp0qRJ%2Bv7771W7dm0NGTLEfoHDL7/8ohdeeEGJiYmqVq2aunXrpokTJ6patWqSLt/S4%2B2339a5c%2Bf0yCOPKDc3Vzabzf6NCCtWrNDSpUt1%2BvRpNWjQQCNGjFDv3r1LMy1FuWJS54pn5VbAuN6QVq0uXxHburVLndP222nX%2Bv/O3V3y9pasVtc6p62Yo0lOzRXf8qRyvCJ2%2B3Zz%2Br3/fkObnzp1SlOnTtV3330nT09P9e/fX2PGjJHFYlFISIjeeustdezYUUOGDNHOnTvl/rt79URGRmr27NmyWq16%2BeWXtXXrVmVlZemuu%2B7SjBkzFBQUZGh8Vyt10XYtq1ev1ty5c7Vt27Zil0%2BePFmXLl3SvHnzyuLpKj5X/U13tf2iaHMKFG3OgaLNOVC0OS%2B%2BEQEAAJjP1f5ILgcVomi79957denSpWsu//zzz1W/fv1bOCIAAFCmKNoMK7PDo/gdV5xWVzxW4GpvIhwedQocHnUOrviWJ5Xj4dGdO83pt00bc/qtgCpE0gYAAFycq/2RXA6YQQAAACdA0gYAAMxH0mYYRRsAADAfRZthzCAAAIATIGkDAADmI2kzjBkEAABwAiRtAADAfCRthlG0AQAA81G0GcYMAgAAOAGSNgAAYD6SNsMo2gAAgPko2gxjBgEAAJwASRsAADAfSZthzCAAAIATIGkDAADmI2kzjKINAACYj6LNMGYQAADACZC0AQAA85G0GcYMAgAAOAGSNgAAYD6SNsMo2gAAgPko2gxjBgEAAJwASRsAADAfSZthzCAAAIATIGkDAADmI2kzjKINAACYj6LNMGYQAADACZC0AQAA85G0GcYMAgAAOAGSNgAAYD6SNsMo2gAAgPko2gxjBgEAAJwASRsAADAfSZthzCAAAIATIGkDAADmI2kzjKINAACYj6LNMGYQAADACZC0AQAA85G0GcYMAgCA29bx48c1fPhwRUREqHPnznr11VdVWFhY7LrvvvuuevToodatW2vAgAE6cOCAfdmlS5c0bdo0dezYURERERo7dqwyMzPLdKwUbQAAwHxubuY8DIqOjlZAQIASEhK0bNkyJSQkaPny5UXW%2B%2BKLL7Rw4UK98sor%2Buabb9S5c2eNGDFCFy5ckCTNmzdPSUlJio%2BP18aNG2Wz2fTcc88ZHt/VKNoAAID5TCra0tPTlZSU5PBIT08v0ZASExOVnJysiRMnqkaNGmrcuLGioqIUHx9fZN34%2BHg9/vjjuvvuu1W1alX99a9/lSR9%2BeWXys/P10cffaRRo0apbt268vb21vjx4/XVV18pLS2tzKaQc9pwW/vttK28h1Cm3N0lb0nWL/aooKC8R1N2avtaynsIZatVK2nPHnl3aS3t3VveoykztkLX%2Bn2Cc4iPj1dcXJxD25gxYxQdHX3DbZOSklS/fn15eXnZ21q2bKkjR44oKytLnp6eDuv26tXL/rObm5tCQ0OVmJio0NBQnT9/Xi1btrQvDwoKUtWqVZWUlKSAgAAju2hH0QYAAExnkzl/fPXr109dunRxaPPz8yvRtlarVTVr1nRou1LAZWZmOhRtVqvVobi7sm5mZqasVqskFemrZs2aZXpeG0UbAABwWv7%2B/vL397/p7W22kifEN1q3NH3dDM5pAwAApissNOdhhI%2BPjz0lu8JqtcpiscjHx8ehvVatWsWu6%2BPjY1/398vPnj2r2rVrGxvkVSjaAACA6Spi0RYWFqaTJ0/qzJkz9rbExEQ1a9ZM1atXL7JuUlKS/eeCggL98MMPuvvuuxUYGCgvLy%2BH5YcOHVJubq7CwsKMDfIqFG0AAOC21KJFC4WHh2vu3LnKyspSSkqKli1bpgEDBkiSevbsqV27dkmSBgwYoE8%2B%2BUTff/%2B9Ll68qMWLF6tKlSrq1KmT3N3d9cQTT%2BiNN97QyZMnlZmZqddee03du3eXr69vmY2Xc9oAAIDpjKZiZlmwYIGmTp2q9u3by9PTU/3799fAgQMlSUeOHLHfh61jx476%2B9//rvHjx%2Bu3335TeHi4lixZoqpVq0qSxo4dq%2BzsbEVGRio/P1%2BdO3fWjBkzynSsFpvZZ83drlxxWi0Wl9uv38641q0k3N0lb2/JahW3/KjI/nfLD7Xmlh8VmQu%2B5Um6vF/l4dIlc/r18DCn34qIpA0AAJiuoiZtzoSiDQAAmI6izTguRAAAAHACJG0AAMB0JG3GUbQBAADTUbQZx%2BFRAAAAJ0DSBgAATEfSZhxJGwAAgBMgaQMAAKYjaTOOog0AAJiOos04Do8CAAA4AZI2AABgOpI240jaAAAAnABJGwAAMB1Jm3EUbQAAwHQUbcZxeBQAAMAJkLQBAADTkbQZR9IGAADgBEjaAACA6UjajKNoAwAApqNoM47DowAAAE6ApA0AAJiOpM04kjYAAAAnQNIGAABMR9JmHEUbAAAwHUWbcRweBQAAcAIkbQAAwHQkbcaRtAEAADgBkjYAAGA6kjbjKNoAAIDpKNqM4/AoAACAEyBpAwAApiNpM46kDQAAwAmQtAEAANORtBlH0QYAAExH0WYch0cBAACcAEkbAAAwHUmbcSRtAAAAToCkDQAAmI6kzTiKNgAAYDqKNuM4PAoAAOAESNoAAIDpSNqMq3BJ2/HjxxUeHq4jR46U91AAAMBtzGq1avz48WrXrp06dOig559/Xjk5Oddcf9OmTerdu7datWqlHj166MMPP7QvW7hwoUJDQxUeHu7wOH36dInHU%2BGStvr16ysxMbHM%2BissLFSfPn1UvXp1vffee/Z2m82mf//731q1apUOHz5sf%2B5HHnlEQ4cOVaVKFW5qAABwWs6YtE2dOlW5ublat26d8vLyNG7cOMXGxmrKlClF1t2/f78mTpyo1157TZ06ddK2bds0evRoNW3aVPfee68kKTIyUv/4xz9uejwuX5msXLlSqampCg0NdWh/9tlntW/fPs2YMUNt2rRRfn6%2BduzYoenTpysxMVELFy4s8XOkp6crIyPDoc3P11f%2B/v5lsg8wj7t7eY%2BgbF3ZH1fbL7VqVd4jKFvNmzv%2BC9wGzCraiv0M9vMz/Bl8%2BvRpJSQk6OOPP5aPj48kadSoURo3bpyeffZZVa5c2WF9q9Wqp59%2BWt26dZMkPfDAAwoODtauXbvsRZtRFa5oO3bsmLp27aoNGzZo3759evPNN5WWlqZatWpp0KBBGjp0aIn7Sk9P1%2BLFi/Xkk09q9%2B7d9vZvvvlGa9eu1bp16xQUFCRJqlSpkh544AEtXrxYu3fvVl5eXpEX5Fri4%2BMVFxfn0DZm9GhFjx1b4rE6DYulvEdQpry9y3sE5qhRo7xHUMb27CnvEZjj/ffLewRlyrXeHS5zsbc82WzlPYKyV%2Bxn8Jgxio6ONtTvwYMH5e7urpCQEHtby5YtdeHCBR0%2BfNihXZI6duyojh072n/Oz89XRkaGAgIC7G0//vij%2Bvfvr0OHDqlu3bp67rnn1KFDhxKPqcIVbVdkZmZq1qxZio%2BPV0hIiA4cOKBhw4apbdu2atGiRYn6eOmll9S/f381aNDAoWjbtGmT2rZtay/YrhYaGloklbuRfv36qUuXLg5tfr6%2BrvfbYbG43D5Zz7rWO7K7%2B%2BWC7fx5qaCgvEdTdry7tC7vIZSt5s0vF2wDB0rJyeU9mjJj2%2B1axbULvuWVK7OStmI/g/38DPdrtVrl6ekpy1WVu5eXl6TLNcqNxMbG6o477lCvXr0kSXXq1FFgYKAmTJggf39/xcfHa8SIEVqzZo2aNm1aojFV2KLN29tbhYWFuuOOOyRJYWFh2r59u9zcSnbtxH//%2B18lJSXp5Zdf1vr16x2WHT16VI0aNSqzsfr7%2BxeNYflNdwquVNhcraDAxfZt797yHoE5kpNdd9%2BAW6TYz%2BAS%2BvTTTzVp0qRil8XExMh2E5/lNptNsbGxWrdund599115eHhIkvr27au%2Bffva14uKitL69eu1Zs0ajR8/vkR9V9iizWKxKDIyUg8%2B%2BKDuu%2B8%2BdejQQY899phq1ap1w20vXbqkWbNmacqUKfbJ%2Bn3fBb/7RBs6dKh27twp6fLFCy%2B%2B%2BKIeffTRstkZAABucxXxQoTIyEhFRkYWu2zbtm3KyspSQUGB3P93orDVapUk1a5du9htCgsL9dxzz2n//v364IMPFBgYeN3nr1%2B/vtLT00s83gp3y4%2BrvfDCC1q/fr3at2%2Bvzz//XL169dLRo0dvuN3ixYsVGhqqBx54oNjlTZo0UUpKikPb0qVLlZiYqMTERAUEBKiwIv7fBQCAkyosNOdhltDQUNlsNiVfdQpDYmKiatasqSZNmhS7zUsvvaSffvqp2ILt9ddf1/bt2x3aUlJSbljYXa3CFm02m03nzp1To0aNNGzYMH344Ydq1qyZNm/efMNt16xZo23btikiIkIRERF64YUXtGfPHkVEROjkyZPq1auXdu/erX379hW7PQUbAAC3Nx8fH/Xo0UPz58/XmTNndOrUKS1atEh9%2BvSx3xZsyJAh2rBhgyRp9%2B7dWrNmjZYsWSLvYq5ys1qtmjlzpg4fPqxLly5p6dKlSk1N1WOPPVbiMVXYw6NbtmzR6tWrtXjxYjVt2lTHjx9XWlqaGjZseMNt4%2BPjHQ5/fv755/rss8/0z3/%2BU35%2Bfqpbt66efPJJDR8%2BXDNmzFDXrl3l7u6u5ORkLVmyRGfPnlWzZs3M3D0AAG4rzpiHzJo1S9OnT1fXrl1VuXJlPfzww4qJibEvP3r0qM6ePStJWrVqlc6fP6/OnTs79NGmTRstXbpUEyZMkHT5XDar1apmzZrpnXfeUZ06dUo8HovtZs6yM9HVt/xYs2aNVq9erXPnzsnX11d9%2B/bViBEjSt3n6tWr9fHHHzvcXFeSPvroI8XHx%2Bvnn3%2BWJAUEBKhjx46KiopSvXr1jO1IxZrWsuGCl1L9dsb1rh719pasVte6EKG2r2u9TmrV6vJtTFq3dqkLEWyFrvX%2B4IJveZLK7zYmn31mTr8PPmhOvxVRhSvaXIYrTqsLvoNRtDkHijbnQNHmHCjanFeFPTwKAABchzMeHq1onK5o279/v/7yl79cc3m9evW0cePGWzgiAAAA8zld0XbXXXeV6RfKAwAA85G0Ged0RRsAAHA%2BFG3GVdj7tAEAAOD/kLQBAADTkbQZR9IGAADgBEjaAACA6UjajKNoAwAApqNoM47DowAAAE6ApA0AAJiOpM04kjYAAAAnQNIGAABMR9JmHEUbAAAwHUWbcRweBQAAcAIkbQAAwHQkbcaRtAEAADgBkjYAAGA6kjbjKNoAAIDpKNqM4/AoAACAEyBpAwAApiNpM46kDQAAwAmQtAEAANORtBlH0QYAAExH0WYch0cBAACcAEkbAAAwHUmbcSRtAAAAToCkDQAAmI6kzTiKNgAAYDqKNuM4PAoAAOAESNoAAIDpSNqMI2kDAABwAiRtAADAdCRtxlG0AQAA01G0GcfhUQAAACdA0gYAAExH0mYcSRsAAIATIGkDAACmI2kzjqINAACYjqLNOA6PAgAAOAGKNgAAYLrCQnMeZrJarRo/frzatWunDh066Pnnn1dOTk6x665evVrNmzdXeHi4w2P//v3/2/9CzZs3T127dlWbNm00bNgwHT16tFTjoWgDAACmc8aiberUqbp48aLWrVunVatWKSUlRbGxsddcv02bNkpMTHR43HXXXZKklStXau3atVqyZIm%2B/PJLNW7cWKNHj5bNZivxeCjaAAAAfuf06dNKSEhQTEyMfHx8FBAQoFGjRmnVqlXKy8srdX/x8fGKiopSUFCQPD09FRMTo5SUFO3bt6/EfXAhAgAAMJ1ZqVh6eroyMjIc2vz8/OTv72%2Bo34MHD8rd3V0hISH2tpYtW%2BrChQs6fPiwQ/sVJ0%2Be1FNPPaUDBw6oZs2aGjt2rCIjI5WTk6Off/5ZLVq0sK/r6empRo0aKTExUX/4wx9KNCaKNpPYZCnvIZQ5i1xvv3x8ynsE5vDyKu8RlC1bYckPHzgLiyTb7j3lPYwyZXFzofeHVq2kPXtkuae1tHdveY%2BmbJXicJwziI%2BPV1xcnEPbmDFjFB0dbahfq9UqT09PWSz/9/%2B11//eXDMzM4us7%2BPjo8aNG%2Bvvf/%2B7mjVrps2bN2vSpEny9/dX06ZNZbPZ7Ntf3V9xfV0LRRsAADCdWUlbv3791KVLF4c2Pz%2B/Em376aefatKkScUui4mJKdX5Zp06dVKnTp3sPz/00EPavHmzVq9erYkTJ0pSqforDkUbAAAwnVlFm7%2B//00fCo2MjFRkZGSxy7Zt26asrCwVFBTI3d1d0uX0TZJq165dov7r16%2BvAwcOyNvbW25ubvbtr7BarSXuS%2BJCBAAAgCJCQ0Nls9mUnJxsb0tMTFTNmjXVpEmTIut/8MEH2rBhg0NbSkqKAgMD5eHhoTvvvFNJSUn2ZefOnVNqaqr96tKSoGgDAACmc7Zbfvj4%2BKhHjx6aP3%2B%2Bzpw5o1OnTmnRokXq06ePKlW6fKByyJAh9kItNzdXL7zwghITE5WXl6d169Zp69at6t%2B/vyRpwIABevfdd5WSkqKsrCzFxsYqNDRU4eHhJR4Th0cBAACKMWvWLE2fPl1du3ZV5cqV9fDDDysmJsa%2B/OjRozp79qwkafDgwcrOzta4ceOUkZGhBg0aaNGiRQoLC5Mk9e/fXxkZGRo0aJCys7MVERFR5AKKG7HYjJ4Vh2K54qxaLK65X66G18k5uOLr5IpXj6o1V4%2BWleeeM6ffOXPM6bciImkDAACm4wvjjeOcNgAAACdA0gYAAExH0mYcSRsAAIATIGkDAACmI2kzjqINAACYjqLNOA6PAgAAOAGSNgAAYDqSNuNI2gAAAJwASRsAADAdSZtxFG0AAMB0FG3GcXgUAADACZC0AQAA05G0GUfSBgAA4ARI2gAAgOlI2oyjaAMAAKajaDOOw6MAAABOgKQNAACYjqTNOJI2AAAAJ0DSBgAATEfSZhxFGwAAMB1Fm3EcHgUAAHACJG0AAMB0JG3GkbQBAAA4AZI2AABgOpI24yjaAACA6SjajOPwKAAAgBMgaQMAAKYjaTOOpA0AAMAJkLQBAADTkbQZR9EGAABMR9FmHIdHAQAAnABJGwAAMB1Jm3EUbQAAwHQUbcZxeBQAAMAJkLQBAADTkbQZR9IGAADgBEjaAACA6UjajKNoAwAApqNoM47DowAAAE6ApA0AAJiOpM04kjYAAAAncEuLtuPHjys8PFxHjhwxpf/Vq1erffv2kqSdO3cqPDxcubm5193m2LFjCgkJUUpKiiljAgAAl5M2Mx5mslqtGj9%2BvNq1a6cOHTro%2BeefV05OTrHrTpkyReHh4Q6PFi1a6LnnnpMkTZ48WS1atHBYfu%2B995ZqPLf08Gj9%2BvWVmJh4S56rTZs2t%2By5AADA9Tnj4dGpU6cqNzdX69atU15ensaNG6fY2FhNmTKlyLqzZ8/W7Nmz7T/n5%2Bfr0UcfVc%2BePe1tI0eOVHR09E2Ph8OjAAAAv3P69GklJCQoJiZGPj4%2BCggI0KhRo7Rq1Srl5eXdcPvly5erXr16euCBB8psTLc0aTt27Ji6du2qDRs2aN%2B%2BfXrzzTeVlpamWrVqadCgQRo6dGiJ%2Bvn666/1yiuvKDU1VY0aNdLkyZN1//33O6yzY8cODR48WPv375eHh4eOHj2q6dOna%2B/evfL29tZTTz2lwYMHF%2Bn7%2BPHj6tu3ryZMmKA///nPJRpPenq6MjIyHNp8ff3k7%2B9fou0BwCW0alXeIyg7zZs7/usq9u4tt6c2K2kr7jPYz8/4Z/DBgwfl7u6ukJAQe1vLli114cIFHT582KH9986dO6c33nhD77//vkP7t99%2Bqy1btujXX39VUFCQZsyYobCwsBKPqVyuHs3MzNSsWbMUHx%2BvkJAQHThwQMOGDVPbtm3VokWL626blpam6Ohovfjii%2BrevbvWrl2r0aNH64svvrjudmPGjNF9992nRYsW6ZdfftFf/vIXBQUFqVGjRvZ1srOzNWLECPXr16/EBZskxcfHKy4uzqFt9OgxGjv25iPQispiKe8RoCR4nZyDy71Oe/aU9wjK3u8%2BdJ2ey/1PV/xn8JgxYwwdhpQun8/m6ekpy1Vz5uXlJelyHXM9K1asUJs2bXTnnXfa2wIDA%2BXm5qZx48apevXqiouL09ChQ7Vx40bVqlWrRGMql6LN29tbhYWFuuOOOyRJYWFh2r59u9zcbny09rPPPlNgYKB69eolSXr88cfl4eGhwuuU8D/88IN%2B/PFHLV%2B%2BXNWqVVNoaKji4uIUEBBgX8dms2nixIlq3ry5xo0bV6r96devn7p06eLQ5uvrJ5utVN1UeBaLXG6fXBGvk3NwxdfJck/r8h5C2Wne/HLBNnCglJxc3qNxCWYlbcV9Bvv5%2BZVo208//VSTJk0qdllMTIxsN/FLWlBQoJUrV2ru3LkO7aNHj3b4%2BZlnntG6deuUkJCgvn37lqjvcinaLBaLIiMj9eCDD%2Bq%2B%2B%2B5Thw4d9Nhjj5Wo0kxNTVWDBg0c2h566KEbbuPp6Slvb297W7t27SRdPmQrSfPnz9c333yjbdu2lXZ35O/vXySGdbU3YwC4oXI89Gaa5GTX3K9yYFbRVtxncElFRkYqMjKy2GXbtm1TVlaWCgoK5O7uLuly%2BiZJtWvXvmafO3fuVG5u7g2vDHV3d1fdunWVnp5e4vGW24UIL7zwgtavX6/27dvr888/V69evXT06NEbbufm5nbdVO1mtzl16pQaNmxYJGIFAAC3n9DQUNlsNiVflbQmJiaqZs2aatKkyTW327Jli9q2batKlf4vF7PZbJozZ45DX7m5uUpNTVVgYGCJx1QuRZvNZtO5c%2BfUqFEjDRs2TB9%2B%2BKGaNWumzZs333DbBg0aFLnP24oVK65b8AUGBio7O9uhmk1ISNB3331n/3nOnDl65ZVXtHLlSu3cufMm9goAAFyLs92nzcfHRz169ND8%2BfN15swZnTp1SosWLVKfPn3sBdmQIUO0YcMGh%2B0OHjxY5NQH4U0AABcLSURBVIigxWLRsWPHNHPmTKWlpSk7O1uxsbGqXLmyunXrVuIxlUvRtmXLFvXt21eHDx%2BWdPmKzbS0NDVs2PCG2z788MM6efKkPvzwQ%2BXm5mr9%2BvV67bXXVL169WtuExoaqhYtWmj%2B/PnKzs7WoUOHitwgz83NTaGhoRoxYoSeffZZZWVlGd9RAADgtGbNmqUaNWqoa9eu6t27t%2B666y7FxMTYlx89elRnz5512CYjI0O%2Bvr5F%2BnrxxRfVuHFjPf7442rXrp0OHjyo5cuX28/vL4lyOaetW7duunDhgoYMGaJz587J19dXffv2LVG16evrq3/961%2BaPn26fQIWLVokHx%2Bf6273xhtvaNKkSWrXrp1q166tUaNGqWPHjvZz2q54%2Bumn9eWXX2rOnDl68cUXDe0nAAC4zBlvrlujRo3/3969B9d8538cfx2psFNCWQlJjqxLd4RIKqUuq7oy1GUZqqW10R1Tu4hKKGWXrpKsVpXK7tCwtqtdqt30MqQbLdWklHXZjcsmNJVRmRUpiUuiyDaXc87vD3V%2BSRNHSI5PvjwfM2ZyPt8veU2/Lu%2B%2BP5evVqxYcd3rNZ1csW3bthrvbdmypZYsWVKnPDbXrWyNwA3dif9V78TdbncinpM13InPydboDjpOokePq0eYREbeeRsRDP3G693bO7/u/v3e%2BXUbIt6IAAAAYAFGpkevJzMzU9HR0de9HhgYeN22IwAAaLisOD3a0DSooi08PJyXvAMAANSgQRVtAADgzkSnre4o2gAAgNdRtNUdGxEAAAAsgE4bAADwOjptdUenDQAAwALotAEAAK%2Bj01Z3FG0AAMDrKNrqjulRAAAAC6DTBgAAvI5OW93RaQMAALAAOm0AAMDr6LTVHUUbAADwOoq2umN6FAAAwALotAEAAK%2Bj01Z3dNoAAAAsgE4bAADwOjptdUfRBgAAvI6ire6YHgUAALAAOm0AAMDr6LTVHZ02AAAAC6DTBgAAvI5OW91RtAEAAK%2BjaKs7pkcBAAAsgE4bAADwOjptdUfRBgAAvI6ire6YHgUAALAAOm0AAMDr6LTVHZ02AAAAC6DTBgAAvI5OW91RtAEAAK%2BjaKs7pkcBAAAsgE4bAADwOjptdUenDQAAwALotAEAAK%2Bj01Z3FG0AAMDrKNrqjulRAAAAC6DTBgAAvI5OW93RaQMAALAAijYAAOB1Tqd3fnhbVlaWBg8erHHjxt3w3vXr12vIkCGKjIzU%2BPHjdeTIEfe10tJSvfjiixowYIB69%2B6tuLg4FRUV3VQWijYAAOB1VizaPvroI8XGxiokJOSG96anp2vlypV69dVXtWfPHg0cOFBTp05VSUmJJCkxMVFHjx5VcnKytm3bJpfLpXnz5t1UHoo2AACAGpSWlio5OVkRERE3vDc5OVljxoxRRESEmjZtql//%2BteSpM8//1wVFRX64IMPNG3aNLVr104tW7bUzJkztWPHDhUUFNQ6DxsRAACA13mrK1ZYWKizZ89WGWvTpo38/f3r/GuPHTu21vcePXpUw4cPd39u1KiRQkNDlZWVpdDQUF26dEndunVzX%2B/UqZOaNm2qo0ePKiAgoFbfg6LNS2w20wnqV2FhoZKTk/Xkk0/Wyx8EeAfPyRru2OfkcplOUG8KCwuVvHKlnty69c56RgZ567fHypXJWrVqVZWx6dOnKzY21jvf8DqKi4vVokWLKmMtWrRQUVGRiouLJUl%2Bfn5Vrvv5%2Bd3UujaKNtTK2bNntWrVKkVFRfEXWAPGc7IGnlPDxzOyjieffFJRUVFVxtq0aVOrn5uSkqK5c%2BfWeG3JkiUaM2bMTWVx3aAyvdH1G6FoAwAAluXv73/LhfWoUaM0atSoeslx3333uTtq1xQXF%2Bv%2B%2B%2B9Xq1at3J/vvfde9/WLFy%2BqdevWtf4ebEQAAACoo7CwMB09etT92eFw6Msvv1RERITsdrtatGhR5XpOTo7KysoUFhZW6%2B9B0QYAAHALhg4dqoyMDEnS%2BPHjtXnzZh0%2BfFj/%2B9//tHr1avn6%2BurnP/%2B5fHx8NG7cOK1Zs0anT59WUVGRVqxYocGDB%2BvHP/5xrb8f06OolTZt2mj69Om1XicAM3hO1sBzavh4RpCkIUOG6JtvvpHD4ZDT6VT37t0lSVu3blVQUJByc3Pd57ANGDBAs2bN0syZM3X%2B/Hl1795da9euVdOmTSVJcXFxunLlikaNGqWKigoNHDhQixYtuqk8NlddV8UBAADA65geBQAAsACKNgAAAAugaAMAALAAijYAAAALoGgDAACwAIo2AAAAC6BoAwAAsACKNgAAAAugaAMAALAAijYAAAALoGgDAOB7mzZtqnG8pKRECxYsuM1pgKp4YTyqiYqKks1mq9W9aWlpXk6DGzlz5oxSU1N15swZ/f73v5ckZWZmKjw83HAyVOZwOOTj4yNJSklJ0bXXPnfq1Mn9EmqYt3z5cuXn52v69OnusYyMDP32t79V69atDSYDeGE8avD3v//d/fX58%2Bf13nvvafDgwfrJT34ip9Op48ePa8eOHXrmmWc0ceJEc0GhtLQ0Pffcc4qMjNSBAweUlZWl06dPa8SIEUpISNAvfvEL0xHveg6HQ88995x69%2B6t6OhoSVJYWJj8/f3lcrn07bffasuWLWrbtq3hpJCk/Px8xcTEqGvXrlqwYIFWrVqljRs3aurUqZoyZYq78AZMoGiDR5MmTdKMGTOqdW0yMjKUlJSkdevWGUoGSRo5cqRmzJihQYMGKTw8XJmZmZKkffv2afHixUpNTTWcEH/5y1/0zjvvaPXq1erSpYskVXlWM2fOVNu2bfW73/3OZExUUlJSotmzZ2vfvn1q3769li5d6n52gEmsaYNHBw8erPEvq/DwcB06dMhAIlSWl5enqKgoSaoypd2rVy%2BdOnXKVCxUkpqaqvj4%2BOv%2Bo/%2Bb3/xGX3zxxW1Ohcpyc3Or/CgoKNDzzz%2Bv/v37q0mTJmrcuLH7GmASa9rgUfv27bVy5UpNmTJFzZo1kyRdvnxZb7zxhoKDgw2nQ2BgoI4dO6bQ0NAq47t372b9TQORn5%2BvPn36VBnr1auX%2B%2BvQ0FCdOXPmdsdCJcOGDZPNZlPliafKn68tM7DZbMrOzjaSEZAo2nADCQkJmjFjhtatWyc/Pz85HA5dvnxZfn5%2Bev31103Hu%2Bv98pe/1KRJk/TEE0/I4XDorbfe0rFjx/Txxx9r7ty5puNBksvl0j33VP2r9q9//av764qKitsdCT/AhipYBUUbPIqIiFB6erqysrJUUFCgsrIy%2Bfv7KyIiQk2aNDEd7643YcIE%2Bfv768MPP5TdbldKSorsdrtWr16tfv36mY4HSR07dlRGRoYeeuihGq%2Bnp6erc%2BfOtzkVKgsKCqryee/evQoICFDHjh0lXV3D%2B91336l///4m4gFubERANeXl5WrcuLEkqayszOO9vr6%2BtyMSYFnvvvuu1q9fr6SkJHXo0KHKtczMTE2ZMkVz5szRmDFjDCVEZRs2bNCf/vQnrVy5Un379pV0tRM3f/58xcbGasKECYYT4m5G0YZqIiIi9J///EeS1KVLlxrPbHO5XKzvMGTevHm1vnfJkiVeTILamjt3rrZs2aI%2BffooJCREFRUVOnHihA4cOKDo6Gj3%2BXowLyoqSklJSdU2juTk5CgmJoapVBjF9CiqqbzeZv369QaToCalpaXur51Op3bu3Kng4GB16NBBTqdTX3/9tQoKCjRs2DCDKVHZq6%2B%2BqtGjR2v79u06efKkbDabunbtqueff14PPPCA6XiopKioyD0tWllwcLAuXLhgIBHw/%2Bi0oV5U7s7h9klISFC3bt30%2BOOPVxnfuHGjjh8/roULFxpKhtooKCiQv79/rd9AAu%2BbNGmS7r//fj377LNq3ry5JOncuXP64x//qFOnTumtt94yGxB3NYo21IvKh4Xi9unVq5f27t1bbXdiWVmZ%2BvXrp4yMDEPJUBt9%2B/ZVSkqK/P39TUfB9/Ly8hQbG6ucnBw1a9ZMTqdTV65cUWhoqNasWcOzglFMj6Je0Ckwo3nz5vriiy/cB%2Bxes3fvXneXAGb96le/uu61S5cuKS4uTr6%2BvixFaCDsdrs2b96sL7/8Unl5eWrUqJHsdjtvRECDQNEGWNjUqVP17LPPqmvXrgoODpbD4dDp06eVnZ2tF154wXQ86Oph1Hl5eXr66adlt9vd4y6XS0eOHNHQoUPVokULgwlR0475zp07VzmK5do4O%2BZhEtOjqBesaTPnxIkTSktLq3KO3oABA6q9LxZmuFwuvf3221qzZo3Gjx%2BvyZMnu//h79Onj1JSUhQQEGA45d2NHfOwCjptgMV17NhRdrtdhYWFstlsCggIkI%2BPj%2BlY%2BJ7NZtPTTz%2BtIUOGaMmSJRo5cqQWLFjAQa0NSOUd83/7299Y7oEGi6INsLCLFy9q0aJF%2Buyzz9yvQ2rSpIlGjBihBQsW8NaKBsTf31%2BJiYnatWuXEhIS1LVrVzkcDtOxIKlnz57ur3v37m0wCeAZRRvqBbPsZsTHx%2Bvs2bNatWqVQkJCJElff/211qxZo%2BXLl7OurQF6%2BOGHlZqaqqSkJGVlZVXb%2BYvb72a6nrt37/ZiEsAz1rTBo5EjR%2Bof//jHDe87f/68WrdufRsSobJevXpp27ZtatWqVZXxgoICPfXUU/r8888NJcOtGjZsmD755BPTMe4qmzZtqvW9jz32mBeTAJ7xv3jwqGXLltq5c6ceeeQRj/dRsJnh4%2BOjH/3oR9XG/fz8VFJSYiAR6io/P990hLvODwuxb7/9Vg6HQ/fdd58k6dSpU7r33nvdnwFTKNrgUUhIiObNm6egoCAFBgZWm8p57bXXDCWDJEVGRiohIUFz5sxxd9suXLig5cuXq3v37obT4VawCN6sffv2afr06UpISNDw4cMlSTt37lRiYqJef/111rzBKIo2eORwOG7YZYM5CxcuVExMjH72s5/Jz89P0tUuQadOnZSUlGQ4HWA9S5cu1QsvvOAu2CQpOjpaLVu21CuvvHJTU6lAfWNNG3AH%2BOqrr3Tq1CmVlZXJbrfTZbMwzjw0q0ePHsrIyKh2bE55ebkeeughHTp0yFAyQGpkOgAavsOHDys%2BPl7Tpk2TJDmdTm3dutVwKlyzd%2B9e%2Bfr6atCgQRo%2BfLhKS0v1z3/%2B03QswJLat2%2Bv7du3VxvfvHmzAgMDDSQC/h9FGzx677339Mwzz6isrEy7du2SJJ09e1Yvv/wy70psADZs2KDY2FgVFBS4xy5evKhZs2bp7bffNpgMsKY5c%2BZo3rx5Gj16tKZPn65p06Zp2LBheumllxQfH286Hu5yTI/Co8GDB%2BuVV17Rgw8%2BqPDwcGVmZkqSsrOzNWPGDH366aeGE97doqKilJSUVO1l1jk5OYqJiVFaWpqhZLhVlf%2BcwYyCggJ98sknysvLk81mk91u14gRI9glD%2BPYiACPzp07p8jISElVd7V17txZhYWFpmLhe0VFRerYsWO18eDgYF24cMFAInjy1VdfuQvs/Px8bd%2B%2BXe3bt1dUVJT7Hjqk5gUEBGjixIke7%2BE8PZjA9Cg8CgkJ0b59%2B6qNp6amsr6jAYiMjNSKFSt06dIl99i5c%2Bf08ssvKyIiwmAy/NCbb77pLgSKi4s1btw4paena%2BnSpVq7dq37vvDwcEMJcTM4Tw8m0GmDR5MnT9a0adMUFRWliooKLV68WMeOHdOhQ4c4o60BWLRokWJjY7V%2B/Xo1a9ZMTqdTV65cUWhoqNasWWM6HirZsGGD%2B8XkmzZtUnBwsNavX6/8/HxNnDhRkydPNpwQN4Pz9GACRRs8Gj58uOx2uzZt2qS%2BffvqzJkzCgsLU3x8fI3Tcri97Ha7Nm/erOzsbJ08eVKNGjWS3W6vtsbt9OnTateunaGUkK5OZXfr1k3S1fdXDh06VJIUFBSkc%2BfOmYwGwCIo2nBD3bt3r3Lu18WLF9WiRQuDifBDoaGhCg0Nve71oUOHcvaXYf7%2B/jp%2B/LiaNm2qf/3rX1q0aJEkKTc3V82bNzcbDoAlsKYNHh09elRjxoxxf54xY4Z69%2B6tvn37csikhbBJ3LwpU6Zo7NixGjFihB577DHZ7XZdunRJMTExevzxx03HA2ABdNrg0eLFizVo0CBJ0meffaYDBw4oPT1dBw8e1LJly/TOO%2B8YTojaYP2NGf/9738VEhIi6epJ%2B2%2B88YZatmwpm82m3NxcOZ1OjRkzxv1nDAA8oWiDRzk5OdqwYYMkKS0tTcOHD1dgYKDatWvHQZPADYwcOdJ95tqwYcOqFM8ul0s2m00ul0uJiYnKzs42FRO3gO41TKBog0dNmjRReXm5bDabdu3apWXLlkmSSkpK5HQ6DacDGrbKr3vjoGPr4Dw9NFQUbfDo4YcfVlxcnO655x41a9ZMffr0UXl5uRITE92H7gKoWeWzDIOCggwmQW29%2Beab%2BvOf/6x9%2B/a5z9Pr1KmTCgoKdPz4cffRLJynBxPYiACP4uPj1bNnT3Xq1Enr1q2TzWZTeXm5cnNz9Yc//MF0PACoV9c7T2/dunV6//33DafD3Y5OGzyqfODnD9%2BHOHfuXF4abxG%2Bvr6mIwCWwHl6aMgo2uDRD1%2BF5HA4lJeXp8OHD2vChAmGUqGyY8eOaceOHSosLJTNZlNAQIAGDhyozp07u%2B/597//bTAhYB2cp4eGjKINHs2ePbvG8d27d%2Bujjz66zWnwQ%2B%2B%2B%2B64SEhIUGhqqwMBAuVwuHThwQImJiYqPj9fYsWNNRwQs5dp5ei6Xi/P00ODYXOxbxi1wOp3q2bOnDh48aDrKXa1fv35KSEiods7X9u3btXDhQu3Zs8dQMsA6Kp%2Bnl5ubqwsXLrjP07PZbHI6nUpLS9OgQYN4fR%2BMomiDR7m5udXGvvvuO3366afatGmTduzYcftDwe3BBx/U/v37dc89VZvmFRUV6tOnjzIyMgwlA6wjPDzcvWa3S5cu1z1Pz2azcZ4ejGJ6FB5dOxD0Wm1/7evmzZu713rAnNGjR2vz5s164oknqox//PHHGjlypKFUgLVwnh6sgk4bPMrPz6821qRJE7Vq1UqNGnFijGnz58/Xtm3bFBgYqA4dOsjhcOjkyZPKz8/XI488UuUZvfbaawaTAgDqik4bPOJA0IbN5XLp0UcfrTIWFhamsLAwQ4kAAN5Cpw0AAMAC6LQBFuZ0OrVx40b3OW2S1LZtW0VFRempp56qsqAaAGBtdNoAC3vxxReVnp6uESNGuM9p%2B%2Babb7RlyxYNHjxYCxcuNB0RAFBPKNoAC%2BvRo4c%2B/PDDamdHHT9%2BXGPHjtWhQ4cMJQMA1De2/wEW1rx5cwUHB1cbt9vtvHIHAO4wFG2AhcXFxemll15ScXGxe6y4uFjLli1TbGyswWQAgPrG9ChgYY8%2B%2BqgKCgpUVlYmPz8/OZ1OXb58WY0bN5afn1%2BVe3fv3m0oJQCgPrB7FLCwmJiYGsddLpdWrFih2bNn3%2BZEAABvodMGWFhFRYWSk5N15MgRlZWVuccLCwuVk5Oj/fv3G0wHAKhPrGkDLGzx4sVau3atysrKtHXrVvn4%2BCgnJ0clJSVavXq16XgAgHpEpw2wsP79%2B%2BuDDz5Q27ZtFR4erszMTLlcLi1fvlzBwcEaP3686YgAgHpCpw2wsNLSUrVt21aS5OPjo7KyMtlsNk2ePJlOGwDcYSjaAAv76U9/qlWrVqm8vFwdOnTQ%2B%2B%2B/L0k6ffq0SkpKDKcDANQnpkcBC8vKytKsWbOUkpKiPXv2aObMmfL19VVpaamio6M1f/580xEBAPWEog24g5w4cULZ2dkKCgrSAw88YDoOAKAeUbQBAABYAGvaAAAALICiDQAAwAIo2gAAACyAog0AAMACKNoAAAAsgKINAADAAijaAAAALOD/AAHrV4OPs7TLAAAAAElFTkSuQmCC\" class=\"center-img\">\n",
              "</div>\n",
              "    <div class=\"row headerrow highlight\">\n",
              "        <h1>Sample</h1>\n",
              "    </div>\n",
              "    <div class=\"row variablerow\">\n",
              "    <div class=\"col-md-12\" style=\"overflow:scroll; width: 100%%; overflow-y: hidden;\">\n",
              "        <table border=\"1\" class=\"dataframe sample\">\n",
              "  <thead>\n",
              "    <tr style=\"text-align: right;\">\n",
              "      <th></th>\n",
              "      <th>impression_id</th>\n",
              "      <th>impression_time</th>\n",
              "      <th>user_id</th>\n",
              "      <th>app_code</th>\n",
              "      <th>os_version</th>\n",
              "      <th>is_4G</th>\n",
              "      <th>is_click</th>\n",
              "    </tr>\n",
              "  </thead>\n",
              "  <tbody>\n",
              "    <tr>\n",
              "      <th>0</th>\n",
              "      <td>c4ca4238a0b923820dcc509a6f75849b</td>\n",
              "      <td>2018-11-15 00:00:00</td>\n",
              "      <td>87862</td>\n",
              "      <td>422</td>\n",
              "      <td>old</td>\n",
              "      <td>0</td>\n",
              "      <td>0</td>\n",
              "    </tr>\n",
              "    <tr>\n",
              "      <th>1</th>\n",
              "      <td>45c48cce2e2d7fbdea1afc51c7c6ad26</td>\n",
              "      <td>2018-11-15 00:01:00</td>\n",
              "      <td>63410</td>\n",
              "      <td>467</td>\n",
              "      <td>latest</td>\n",
              "      <td>1</td>\n",
              "      <td>1</td>\n",
              "    </tr>\n",
              "    <tr>\n",
              "      <th>2</th>\n",
              "      <td>70efdf2ec9b086079795c442636b55fb</td>\n",
              "      <td>2018-11-15 00:02:00</td>\n",
              "      <td>71748</td>\n",
              "      <td>259</td>\n",
              "      <td>intermediate</td>\n",
              "      <td>1</td>\n",
              "      <td>0</td>\n",
              "    </tr>\n",
              "    <tr>\n",
              "      <th>3</th>\n",
              "      <td>8e296a067a37563370ded05f5a3bf3ec</td>\n",
              "      <td>2018-11-15 00:02:00</td>\n",
              "      <td>69209</td>\n",
              "      <td>244</td>\n",
              "      <td>latest</td>\n",
              "      <td>1</td>\n",
              "      <td>0</td>\n",
              "    </tr>\n",
              "    <tr>\n",
              "      <th>4</th>\n",
              "      <td>182be0c5cdcd5072bb1864cdee4d3d6e</td>\n",
              "      <td>2018-11-15 00:02:00</td>\n",
              "      <td>62873</td>\n",
              "      <td>473</td>\n",
              "      <td>latest</td>\n",
              "      <td>0</td>\n",
              "      <td>0</td>\n",
              "    </tr>\n",
              "  </tbody>\n",
              "</table>\n",
              "    </div>\n",
              "</div>\n",
              "</div>\n",
              "</body>\n",
              "</html>"
            ],
            "text/plain": [
              "<IPython.core.display.HTML object>"
            ]
          },
          "metadata": {
            "tags": []
          }
        }
      ]
    },
    {
      "cell_type": "markdown",
      "metadata": {
        "id": "RdlfKTI0W4LY",
        "colab_type": "text"
      },
      "source": [
        "#### is_click is click rate(Target) _Whether user clicked the AD (1-click, 0-no click)"
      ]
    },
    {
      "cell_type": "code",
      "metadata": {
        "id": "zNehwEAgTzdo",
        "colab_type": "code",
        "outputId": "89d669b3-7d0c-46a5-8aa8-a23dbc192cd2",
        "colab": {
          "base_uri": "https://localhost:8080/",
          "height": 153
        }
      },
      "source": [
        "# count the number of NaN values in each column\n",
        "print(train.isnull().sum())"
      ],
      "execution_count": 0,
      "outputs": [
        {
          "output_type": "stream",
          "text": [
            "impression_id      0\n",
            "impression_time    0\n",
            "user_id            0\n",
            "app_code           0\n",
            "os_version         0\n",
            "is_4G              0\n",
            "is_click           0\n",
            "dtype: int64\n"
          ],
          "name": "stdout"
        }
      ]
    },
    {
      "cell_type": "markdown",
      "metadata": {
        "id": "xZ9wB1-PXFiw",
        "colab_type": "text"
      },
      "source": [
        ""
      ]
    },
    {
      "cell_type": "code",
      "metadata": {
        "id": "M09YlkzQXsCW",
        "colab_type": "code",
        "outputId": "a6a46680-09dd-40ec-9238-57cbe71ac4dc",
        "colab": {
          "base_uri": "https://localhost:8080/",
          "height": 173
        }
      },
      "source": [
        "# Lets plot the correlation matrix \n",
        "\n",
        "corr_matrix = train.corr()\n",
        "corr_matrix"
      ],
      "execution_count": 0,
      "outputs": [
        {
          "output_type": "execute_result",
          "data": {
            "text/html": [
              "<div>\n",
              "<style scoped>\n",
              "    .dataframe tbody tr th:only-of-type {\n",
              "        vertical-align: middle;\n",
              "    }\n",
              "\n",
              "    .dataframe tbody tr th {\n",
              "        vertical-align: top;\n",
              "    }\n",
              "\n",
              "    .dataframe thead th {\n",
              "        text-align: right;\n",
              "    }\n",
              "</style>\n",
              "<table border=\"1\" class=\"dataframe\">\n",
              "  <thead>\n",
              "    <tr style=\"text-align: right;\">\n",
              "      <th></th>\n",
              "      <th>user_id</th>\n",
              "      <th>app_code</th>\n",
              "      <th>is_4G</th>\n",
              "      <th>is_click</th>\n",
              "    </tr>\n",
              "  </thead>\n",
              "  <tbody>\n",
              "    <tr>\n",
              "      <th>user_id</th>\n",
              "      <td>1.000000</td>\n",
              "      <td>0.000247</td>\n",
              "      <td>0.000256</td>\n",
              "      <td>-0.001035</td>\n",
              "    </tr>\n",
              "    <tr>\n",
              "      <th>app_code</th>\n",
              "      <td>0.000247</td>\n",
              "      <td>1.000000</td>\n",
              "      <td>-0.081480</td>\n",
              "      <td>-0.005449</td>\n",
              "    </tr>\n",
              "    <tr>\n",
              "      <th>is_4G</th>\n",
              "      <td>0.000256</td>\n",
              "      <td>-0.081480</td>\n",
              "      <td>1.000000</td>\n",
              "      <td>-0.003464</td>\n",
              "    </tr>\n",
              "    <tr>\n",
              "      <th>is_click</th>\n",
              "      <td>-0.001035</td>\n",
              "      <td>-0.005449</td>\n",
              "      <td>-0.003464</td>\n",
              "      <td>1.000000</td>\n",
              "    </tr>\n",
              "  </tbody>\n",
              "</table>\n",
              "</div>"
            ],
            "text/plain": [
              "           user_id  app_code     is_4G  is_click\n",
              "user_id   1.000000  0.000247  0.000256 -0.001035\n",
              "app_code  0.000247  1.000000 -0.081480 -0.005449\n",
              "is_4G     0.000256 -0.081480  1.000000 -0.003464\n",
              "is_click -0.001035 -0.005449 -0.003464  1.000000"
            ]
          },
          "metadata": {
            "tags": []
          },
          "execution_count": 7
        }
      ]
    },
    {
      "cell_type": "markdown",
      "metadata": {
        "id": "x3Gz-Y_rUB9E",
        "colab_type": "text"
      },
      "source": [
        "## Visualizing the features"
      ]
    },
    {
      "cell_type": "code",
      "metadata": {
        "id": "J3nVkZLZT7Zp",
        "colab_type": "code",
        "outputId": "2d2ba893-e478-43b4-d6e9-4d9df89c89b6",
        "colab": {
          "base_uri": "https://localhost:8080/",
          "height": 291
        }
      },
      "source": [
        "sns.boxplot(x='os_version', y='is_4G', data=train)\n",
        "plt.show()"
      ],
      "execution_count": 0,
      "outputs": [
        {
          "output_type": "display_data",
          "data": {
            "image/png": "[encoded data removed]",
            "text/plain": [
              "<Figure size 432x288 with 1 Axes>"
            ]
          },
          "metadata": {
            "tags": []
          }
        }
      ]
    },
    {
      "cell_type": "code",
      "metadata": {
        "id": "1GdJqDAiU31S",
        "colab_type": "code",
        "outputId": "8c3954f4-7837-4d9d-a50a-eb0c8d3854da",
        "colab": {
          "base_uri": "https://localhost:8080/",
          "height": 142
        }
      },
      "source": [
        "# Relation between is_4G and is_click\n",
        "\n",
        "pd.crosstab(train['is_4G'], train['is_click'], rownames=['is_4G'], colnames=['is_click'])"
      ],
      "execution_count": 0,
      "outputs": [
        {
          "output_type": "execute_result",
          "data": {
            "text/html": [
              "<div>\n",
              "<style scoped>\n",
              "    .dataframe tbody tr th:only-of-type {\n",
              "        vertical-align: middle;\n",
              "    }\n",
              "\n",
              "    .dataframe tbody tr th {\n",
              "        vertical-align: top;\n",
              "    }\n",
              "\n",
              "    .dataframe thead th {\n",
              "        text-align: right;\n",
              "    }\n",
              "</style>\n",
              "<table border=\"1\" class=\"dataframe\">\n",
              "  <thead>\n",
              "    <tr style=\"text-align: right;\">\n",
              "      <th>is_click</th>\n",
              "      <th>0</th>\n",
              "      <th>1</th>\n",
              "    </tr>\n",
              "    <tr>\n",
              "      <th>is_4G</th>\n",
              "      <th></th>\n",
              "      <th></th>\n",
              "    </tr>\n",
              "  </thead>\n",
              "  <tbody>\n",
              "    <tr>\n",
              "      <th>0</th>\n",
              "      <td>144738</td>\n",
              "      <td>7020</td>\n",
              "    </tr>\n",
              "    <tr>\n",
              "      <th>1</th>\n",
              "      <td>82009</td>\n",
              "      <td>3842</td>\n",
              "    </tr>\n",
              "  </tbody>\n",
              "</table>\n",
              "</div>"
            ],
            "text/plain": [
              "is_click       0     1\n",
              "is_4G                 \n",
              "0         144738  7020\n",
              "1          82009  3842"
            ]
          },
          "metadata": {
            "tags": []
          },
          "execution_count": 9
        }
      ]
    },
    {
      "cell_type": "code",
      "metadata": {
        "id": "7OowLo4NVzo3",
        "colab_type": "code",
        "outputId": "681c83fb-c557-487f-9465-50c0aff986aa",
        "colab": {
          "base_uri": "https://localhost:8080/",
          "height": 346
        }
      },
      "source": [
        "plt.figure(figsize=(5,5))\n",
        "c = train.corr()\n",
        "sns.heatmap(c,cmap=\"BrBG\",annot=True)"
      ],
      "execution_count": 0,
      "outputs": [
        {
          "output_type": "execute_result",
          "data": {
            "text/plain": [
              "<matplotlib.axes._subplots.AxesSubplot at 0x7f5a41cef780>"
            ]
          },
          "metadata": {
            "tags": []
          },
          "execution_count": 10
        },
        {
          "output_type": "display_data",
          "data": {
            "image/png": "[encoded data removed]",
            "text/plain": [
              "<Figure size 360x360 with 2 Axes>"
            ]
          },
          "metadata": {
            "tags": []
          }
        }
      ]
    },
    {
      "cell_type": "markdown",
      "metadata": {
        "id": "4NeeOzBGX0d5",
        "colab_type": "text"
      },
      "source": [
        ""
      ]
    },
    {
      "cell_type": "markdown",
      "metadata": {
        "id": "vfpLt_SVl71u",
        "colab_type": "text"
      },
      "source": [
        "\n",
        "#### Convert Categorical to Numerical for os_version column\n",
        "\n",
        "os_version_1 = Latest\n",
        "os_version_2 = Old\n"
      ]
    },
    {
      "cell_type": "code",
      "metadata": {
        "id": "trjy_ninkm_5",
        "colab_type": "code",
        "outputId": "c3614ebc-1bd5-4cd2-c40b-a2ce488d8d2d",
        "colab": {
          "base_uri": "https://localhost:8080/",
          "height": 204
        }
      },
      "source": [
        "os_version_encoded = pd.get_dummies(train['os_version'], drop_first=True, prefix = 'os_version')\n",
        "os_version_encoded.head()"
      ],
      "execution_count": 0,
      "outputs": [
        {
          "output_type": "execute_result",
          "data": {
            "text/html": [
              "<div>\n",
              "<style scoped>\n",
              "    .dataframe tbody tr th:only-of-type {\n",
              "        vertical-align: middle;\n",
              "    }\n",
              "\n",
              "    .dataframe tbody tr th {\n",
              "        vertical-align: top;\n",
              "    }\n",
              "\n",
              "    .dataframe thead th {\n",
              "        text-align: right;\n",
              "    }\n",
              "</style>\n",
              "<table border=\"1\" class=\"dataframe\">\n",
              "  <thead>\n",
              "    <tr style=\"text-align: right;\">\n",
              "      <th></th>\n",
              "      <th>os_version_latest</th>\n",
              "      <th>os_version_old</th>\n",
              "    </tr>\n",
              "  </thead>\n",
              "  <tbody>\n",
              "    <tr>\n",
              "      <th>0</th>\n",
              "      <td>0</td>\n",
              "      <td>1</td>\n",
              "    </tr>\n",
              "    <tr>\n",
              "      <th>1</th>\n",
              "      <td>1</td>\n",
              "      <td>0</td>\n",
              "    </tr>\n",
              "    <tr>\n",
              "      <th>2</th>\n",
              "      <td>0</td>\n",
              "      <td>0</td>\n",
              "    </tr>\n",
              "    <tr>\n",
              "      <th>3</th>\n",
              "      <td>1</td>\n",
              "      <td>0</td>\n",
              "    </tr>\n",
              "    <tr>\n",
              "      <th>4</th>\n",
              "      <td>1</td>\n",
              "      <td>0</td>\n",
              "    </tr>\n",
              "  </tbody>\n",
              "</table>\n",
              "</div>"
            ],
            "text/plain": [
              "   os_version_latest  os_version_old\n",
              "0                  0               1\n",
              "1                  1               0\n",
              "2                  0               0\n",
              "3                  1               0\n",
              "4                  1               0"
            ]
          },
          "metadata": {
            "tags": []
          },
          "execution_count": 11
        }
      ]
    },
    {
      "cell_type": "code",
      "metadata": {
        "id": "ZJAmewGxNYac",
        "colab_type": "code",
        "outputId": "c69d7c6d-1555-4726-e3b5-23488e835ef6",
        "colab": {
          "base_uri": "https://localhost:8080/",
          "height": 204
        }
      },
      "source": [
        "os_version_encoded = pd.get_dummies(test['os_version'], drop_first=True, prefix = 'os_version')\n",
        "os_version_encoded.head()"
      ],
      "execution_count": 0,
      "outputs": [
        {
          "output_type": "execute_result",
          "data": {
            "text/html": [
              "<div>\n",
              "<style scoped>\n",
              "    .dataframe tbody tr th:only-of-type {\n",
              "        vertical-align: middle;\n",
              "    }\n",
              "\n",
              "    .dataframe tbody tr th {\n",
              "        vertical-align: top;\n",
              "    }\n",
              "\n",
              "    .dataframe thead th {\n",
              "        text-align: right;\n",
              "    }\n",
              "</style>\n",
              "<table border=\"1\" class=\"dataframe\">\n",
              "  <thead>\n",
              "    <tr style=\"text-align: right;\">\n",
              "      <th></th>\n",
              "      <th>os_version_latest</th>\n",
              "      <th>os_version_old</th>\n",
              "    </tr>\n",
              "  </thead>\n",
              "  <tbody>\n",
              "    <tr>\n",
              "      <th>0</th>\n",
              "      <td>1</td>\n",
              "      <td>0</td>\n",
              "    </tr>\n",
              "    <tr>\n",
              "      <th>1</th>\n",
              "      <td>1</td>\n",
              "      <td>0</td>\n",
              "    </tr>\n",
              "    <tr>\n",
              "      <th>2</th>\n",
              "      <td>1</td>\n",
              "      <td>0</td>\n",
              "    </tr>\n",
              "    <tr>\n",
              "      <th>3</th>\n",
              "      <td>1</td>\n",
              "      <td>0</td>\n",
              "    </tr>\n",
              "    <tr>\n",
              "      <th>4</th>\n",
              "      <td>1</td>\n",
              "      <td>0</td>\n",
              "    </tr>\n",
              "  </tbody>\n",
              "</table>\n",
              "</div>"
            ],
            "text/plain": [
              "   os_version_latest  os_version_old\n",
              "0                  1               0\n",
              "1                  1               0\n",
              "2                  1               0\n",
              "3                  1               0\n",
              "4                  1               0"
            ]
          },
          "metadata": {
            "tags": []
          },
          "execution_count": 91
        }
      ]
    },
    {
      "cell_type": "code",
      "metadata": {
        "id": "398xqVRH5GLO",
        "colab_type": "code",
        "outputId": "35bb450f-594c-453c-d450-5dbb1d851620",
        "colab": {
          "base_uri": "https://localhost:8080/",
          "height": 34
        }
      },
      "source": [
        "df= pd.concat([train, os_version_encoded] ,axis=1)\n",
        "df.shape"
      ],
      "execution_count": 0,
      "outputs": [
        {
          "output_type": "execute_result",
          "data": {
            "text/plain": [
              "(237609, 9)"
            ]
          },
          "metadata": {
            "tags": []
          },
          "execution_count": 12
        }
      ]
    },
    {
      "cell_type": "code",
      "metadata": {
        "id": "INXbtaVhNhkZ",
        "colab_type": "code",
        "outputId": "f71d458a-a18f-438b-e27c-e6e8d3438cf9",
        "colab": {
          "base_uri": "https://localhost:8080/",
          "height": 34
        }
      },
      "source": [
        "df_test= pd.concat([test, os_version_encoded] ,axis=1)\n",
        "df_test.shape"
      ],
      "execution_count": 0,
      "outputs": [
        {
          "output_type": "execute_result",
          "data": {
            "text/plain": [
              "(90675, 8)"
            ]
          },
          "metadata": {
            "tags": []
          },
          "execution_count": 92
        }
      ]
    },
    {
      "cell_type": "code",
      "metadata": {
        "id": "wCzhz3k_76jU",
        "colab_type": "code",
        "outputId": "7853f0b2-457e-4aa0-9346-2f634a9b2d7a",
        "colab": {
          "base_uri": "https://localhost:8080/",
          "height": 309
        }
      },
      "source": [
        "df.head()"
      ],
      "execution_count": 0,
      "outputs": [
        {
          "output_type": "execute_result",
          "data": {
            "text/html": [
              "<div>\n",
              "<style scoped>\n",
              "    .dataframe tbody tr th:only-of-type {\n",
              "        vertical-align: middle;\n",
              "    }\n",
              "\n",
              "    .dataframe tbody tr th {\n",
              "        vertical-align: top;\n",
              "    }\n",
              "\n",
              "    .dataframe thead th {\n",
              "        text-align: right;\n",
              "    }\n",
              "</style>\n",
              "<table border=\"1\" class=\"dataframe\">\n",
              "  <thead>\n",
              "    <tr style=\"text-align: right;\">\n",
              "      <th></th>\n",
              "      <th>impression_id</th>\n",
              "      <th>impression_time</th>\n",
              "      <th>user_id</th>\n",
              "      <th>app_code</th>\n",
              "      <th>os_version</th>\n",
              "      <th>is_4G</th>\n",
              "      <th>is_click</th>\n",
              "      <th>os_version_latest</th>\n",
              "      <th>os_version_old</th>\n",
              "    </tr>\n",
              "  </thead>\n",
              "  <tbody>\n",
              "    <tr>\n",
              "      <th>0</th>\n",
              "      <td>c4ca4238a0b923820dcc509a6f75849b</td>\n",
              "      <td>2018-11-15 00:00:00</td>\n",
              "      <td>87862</td>\n",
              "      <td>422</td>\n",
              "      <td>old</td>\n",
              "      <td>0</td>\n",
              "      <td>0</td>\n",
              "      <td>0</td>\n",
              "      <td>1</td>\n",
              "    </tr>\n",
              "    <tr>\n",
              "      <th>1</th>\n",
              "      <td>45c48cce2e2d7fbdea1afc51c7c6ad26</td>\n",
              "      <td>2018-11-15 00:01:00</td>\n",
              "      <td>63410</td>\n",
              "      <td>467</td>\n",
              "      <td>latest</td>\n",
              "      <td>1</td>\n",
              "      <td>1</td>\n",
              "      <td>1</td>\n",
              "      <td>0</td>\n",
              "    </tr>\n",
              "    <tr>\n",
              "      <th>2</th>\n",
              "      <td>70efdf2ec9b086079795c442636b55fb</td>\n",
              "      <td>2018-11-15 00:02:00</td>\n",
              "      <td>71748</td>\n",
              "      <td>259</td>\n",
              "      <td>intermediate</td>\n",
              "      <td>1</td>\n",
              "      <td>0</td>\n",
              "      <td>0</td>\n",
              "      <td>0</td>\n",
              "    </tr>\n",
              "    <tr>\n",
              "      <th>3</th>\n",
              "      <td>8e296a067a37563370ded05f5a3bf3ec</td>\n",
              "      <td>2018-11-15 00:02:00</td>\n",
              "      <td>69209</td>\n",
              "      <td>244</td>\n",
              "      <td>latest</td>\n",
              "      <td>1</td>\n",
              "      <td>0</td>\n",
              "      <td>1</td>\n",
              "      <td>0</td>\n",
              "    </tr>\n",
              "    <tr>\n",
              "      <th>4</th>\n",
              "      <td>182be0c5cdcd5072bb1864cdee4d3d6e</td>\n",
              "      <td>2018-11-15 00:02:00</td>\n",
              "      <td>62873</td>\n",
              "      <td>473</td>\n",
              "      <td>latest</td>\n",
              "      <td>0</td>\n",
              "      <td>0</td>\n",
              "      <td>1</td>\n",
              "      <td>0</td>\n",
              "    </tr>\n",
              "  </tbody>\n",
              "</table>\n",
              "</div>"
            ],
            "text/plain": [
              "                      impression_id  ... os_version_old\n",
              "0  c4ca4238a0b923820dcc509a6f75849b  ...              1\n",
              "1  45c48cce2e2d7fbdea1afc51c7c6ad26  ...              0\n",
              "2  70efdf2ec9b086079795c442636b55fb  ...              0\n",
              "3  8e296a067a37563370ded05f5a3bf3ec  ...              0\n",
              "4  182be0c5cdcd5072bb1864cdee4d3d6e  ...              0\n",
              "\n",
              "[5 rows x 9 columns]"
            ]
          },
          "metadata": {
            "tags": []
          },
          "execution_count": 13
        }
      ]
    },
    {
      "cell_type": "code",
      "metadata": {
        "id": "Evx4PjlzHXiL",
        "colab_type": "code",
        "colab": {}
      },
      "source": [
        "df['impression_time']=pd.to_datetime(df['impression_time'], errors='coerce')\n",
        "df['Hour']=df['impression_time'].dt.hour\n",
        "df['Month']=df['impression_time'].dt.month\n",
        "df['day']=df['impression_time'].dt.dayofweek\n",
        "df['Minute']=df['impression_time'].dt.minute\n",
        "df['Second']=df['impression_time'].dt.second\n"
      ],
      "execution_count": 0,
      "outputs": []
    },
    {
      "cell_type": "code",
      "metadata": {
        "id": "taOj0ZTVKNf0",
        "colab_type": "code",
        "outputId": "ec09f3ee-fb4b-4652-81c4-d0b9c11a3d5c",
        "colab": {
          "base_uri": "https://localhost:8080/",
          "height": 309
        }
      },
      "source": [
        "df.head()"
      ],
      "execution_count": 0,
      "outputs": [
        {
          "output_type": "execute_result",
          "data": {
            "text/html": [
              "<div>\n",
              "<style scoped>\n",
              "    .dataframe tbody tr th:only-of-type {\n",
              "        vertical-align: middle;\n",
              "    }\n",
              "\n",
              "    .dataframe tbody tr th {\n",
              "        vertical-align: top;\n",
              "    }\n",
              "\n",
              "    .dataframe thead th {\n",
              "        text-align: right;\n",
              "    }\n",
              "</style>\n",
              "<table border=\"1\" class=\"dataframe\">\n",
              "  <thead>\n",
              "    <tr style=\"text-align: right;\">\n",
              "      <th></th>\n",
              "      <th>impression_id</th>\n",
              "      <th>impression_time</th>\n",
              "      <th>user_id</th>\n",
              "      <th>app_code</th>\n",
              "      <th>os_version</th>\n",
              "      <th>is_4G</th>\n",
              "      <th>is_click</th>\n",
              "      <th>os_version_latest</th>\n",
              "      <th>os_version_old</th>\n",
              "      <th>Hour</th>\n",
              "      <th>Month</th>\n",
              "      <th>day</th>\n",
              "      <th>Minute</th>\n",
              "      <th>Second</th>\n",
              "    </tr>\n",
              "  </thead>\n",
              "  <tbody>\n",
              "    <tr>\n",
              "      <th>0</th>\n",
              "      <td>c4ca4238a0b923820dcc509a6f75849b</td>\n",
              "      <td>2018-11-15 00:00:00</td>\n",
              "      <td>87862</td>\n",
              "      <td>422</td>\n",
              "      <td>old</td>\n",
              "      <td>0</td>\n",
              "      <td>0</td>\n",
              "      <td>0</td>\n",
              "      <td>1</td>\n",
              "      <td>0</td>\n",
              "      <td>11</td>\n",
              "      <td>3</td>\n",
              "      <td>0</td>\n",
              "      <td>0</td>\n",
              "    </tr>\n",
              "    <tr>\n",
              "      <th>1</th>\n",
              "      <td>45c48cce2e2d7fbdea1afc51c7c6ad26</td>\n",
              "      <td>2018-11-15 00:01:00</td>\n",
              "      <td>63410</td>\n",
              "      <td>467</td>\n",
              "      <td>latest</td>\n",
              "      <td>1</td>\n",
              "      <td>1</td>\n",
              "      <td>1</td>\n",
              "      <td>0</td>\n",
              "      <td>0</td>\n",
              "      <td>11</td>\n",
              "      <td>3</td>\n",
              "      <td>1</td>\n",
              "      <td>0</td>\n",
              "    </tr>\n",
              "    <tr>\n",
              "      <th>2</th>\n",
              "      <td>70efdf2ec9b086079795c442636b55fb</td>\n",
              "      <td>2018-11-15 00:02:00</td>\n",
              "      <td>71748</td>\n",
              "      <td>259</td>\n",
              "      <td>intermediate</td>\n",
              "      <td>1</td>\n",
              "      <td>0</td>\n",
              "      <td>0</td>\n",
              "      <td>0</td>\n",
              "      <td>0</td>\n",
              "      <td>11</td>\n",
              "      <td>3</td>\n",
              "      <td>2</td>\n",
              "      <td>0</td>\n",
              "    </tr>\n",
              "    <tr>\n",
              "      <th>3</th>\n",
              "      <td>8e296a067a37563370ded05f5a3bf3ec</td>\n",
              "      <td>2018-11-15 00:02:00</td>\n",
              "      <td>69209</td>\n",
              "      <td>244</td>\n",
              "      <td>latest</td>\n",
              "      <td>1</td>\n",
              "      <td>0</td>\n",
              "      <td>1</td>\n",
              "      <td>0</td>\n",
              "      <td>0</td>\n",
              "      <td>11</td>\n",
              "      <td>3</td>\n",
              "      <td>2</td>\n",
              "      <td>0</td>\n",
              "    </tr>\n",
              "    <tr>\n",
              "      <th>4</th>\n",
              "      <td>182be0c5cdcd5072bb1864cdee4d3d6e</td>\n",
              "      <td>2018-11-15 00:02:00</td>\n",
              "      <td>62873</td>\n",
              "      <td>473</td>\n",
              "      <td>latest</td>\n",
              "      <td>0</td>\n",
              "      <td>0</td>\n",
              "      <td>1</td>\n",
              "      <td>0</td>\n",
              "      <td>0</td>\n",
              "      <td>11</td>\n",
              "      <td>3</td>\n",
              "      <td>2</td>\n",
              "      <td>0</td>\n",
              "    </tr>\n",
              "  </tbody>\n",
              "</table>\n",
              "</div>"
            ],
            "text/plain": [
              "                      impression_id     impression_time  ...  Minute  Second\n",
              "0  c4ca4238a0b923820dcc509a6f75849b 2018-11-15 00:00:00  ...       0       0\n",
              "1  45c48cce2e2d7fbdea1afc51c7c6ad26 2018-11-15 00:01:00  ...       1       0\n",
              "2  70efdf2ec9b086079795c442636b55fb 2018-11-15 00:02:00  ...       2       0\n",
              "3  8e296a067a37563370ded05f5a3bf3ec 2018-11-15 00:02:00  ...       2       0\n",
              "4  182be0c5cdcd5072bb1864cdee4d3d6e 2018-11-15 00:02:00  ...       2       0\n",
              "\n",
              "[5 rows x 14 columns]"
            ]
          },
          "metadata": {
            "tags": []
          },
          "execution_count": 15
        }
      ]
    },
    {
      "cell_type": "code",
      "metadata": {
        "id": "pfZen5ZCMRum",
        "colab_type": "code",
        "outputId": "1a161bf5-62e0-4a7f-f657-dfc47d109014",
        "colab": {
          "base_uri": "https://localhost:8080/",
          "height": 34
        }
      },
      "source": [
        "df.shape"
      ],
      "execution_count": 0,
      "outputs": [
        {
          "output_type": "execute_result",
          "data": {
            "text/plain": [
              "(237609, 14)"
            ]
          },
          "metadata": {
            "tags": []
          },
          "execution_count": 16
        }
      ]
    },
    {
      "cell_type": "code",
      "metadata": {
        "id": "6vIxhIVhxkgK",
        "colab_type": "code",
        "colab": {}
      },
      "source": [
        "df['impression_id'] = df['impression_id'].str.extract('(\\d+)', expand=False)\n"
      ],
      "execution_count": 0,
      "outputs": []
    },
    {
      "cell_type": "code",
      "metadata": {
        "id": "PHnWsOMF2l0S",
        "colab_type": "code",
        "outputId": "e5e529bf-4403-4bcf-9001-779920eac9a9",
        "colab": {
          "base_uri": "https://localhost:8080/",
          "height": 309
        }
      },
      "source": [
        "df.head()"
      ],
      "execution_count": 0,
      "outputs": [
        {
          "output_type": "execute_result",
          "data": {
            "text/html": [
              "<div>\n",
              "<style scoped>\n",
              "    .dataframe tbody tr th:only-of-type {\n",
              "        vertical-align: middle;\n",
              "    }\n",
              "\n",
              "    .dataframe tbody tr th {\n",
              "        vertical-align: top;\n",
              "    }\n",
              "\n",
              "    .dataframe thead th {\n",
              "        text-align: right;\n",
              "    }\n",
              "</style>\n",
              "<table border=\"1\" class=\"dataframe\">\n",
              "  <thead>\n",
              "    <tr style=\"text-align: right;\">\n",
              "      <th></th>\n",
              "      <th>impression_id</th>\n",
              "      <th>impression_time</th>\n",
              "      <th>user_id</th>\n",
              "      <th>app_code</th>\n",
              "      <th>os_version</th>\n",
              "      <th>is_4G</th>\n",
              "      <th>is_click</th>\n",
              "      <th>os_version_latest</th>\n",
              "      <th>os_version_old</th>\n",
              "      <th>Hour</th>\n",
              "      <th>Month</th>\n",
              "      <th>day</th>\n",
              "      <th>Minute</th>\n",
              "      <th>Second</th>\n",
              "    </tr>\n",
              "  </thead>\n",
              "  <tbody>\n",
              "    <tr>\n",
              "      <th>0</th>\n",
              "      <td>4</td>\n",
              "      <td>2018-11-15 00:00:00</td>\n",
              "      <td>87862</td>\n",
              "      <td>422</td>\n",
              "      <td>old</td>\n",
              "      <td>0</td>\n",
              "      <td>0</td>\n",
              "      <td>0</td>\n",
              "      <td>1</td>\n",
              "      <td>0</td>\n",
              "      <td>11</td>\n",
              "      <td>3</td>\n",
              "      <td>0</td>\n",
              "      <td>0</td>\n",
              "    </tr>\n",
              "    <tr>\n",
              "      <th>1</th>\n",
              "      <td>45</td>\n",
              "      <td>2018-11-15 00:01:00</td>\n",
              "      <td>63410</td>\n",
              "      <td>467</td>\n",
              "      <td>latest</td>\n",
              "      <td>1</td>\n",
              "      <td>1</td>\n",
              "      <td>1</td>\n",
              "      <td>0</td>\n",
              "      <td>0</td>\n",
              "      <td>11</td>\n",
              "      <td>3</td>\n",
              "      <td>1</td>\n",
              "      <td>0</td>\n",
              "    </tr>\n",
              "    <tr>\n",
              "      <th>2</th>\n",
              "      <td>70</td>\n",
              "      <td>2018-11-15 00:02:00</td>\n",
              "      <td>71748</td>\n",
              "      <td>259</td>\n",
              "      <td>intermediate</td>\n",
              "      <td>1</td>\n",
              "      <td>0</td>\n",
              "      <td>0</td>\n",
              "      <td>0</td>\n",
              "      <td>0</td>\n",
              "      <td>11</td>\n",
              "      <td>3</td>\n",
              "      <td>2</td>\n",
              "      <td>0</td>\n",
              "    </tr>\n",
              "    <tr>\n",
              "      <th>3</th>\n",
              "      <td>8</td>\n",
              "      <td>2018-11-15 00:02:00</td>\n",
              "      <td>69209</td>\n",
              "      <td>244</td>\n",
              "      <td>latest</td>\n",
              "      <td>1</td>\n",
              "      <td>0</td>\n",
              "      <td>1</td>\n",
              "      <td>0</td>\n",
              "      <td>0</td>\n",
              "      <td>11</td>\n",
              "      <td>3</td>\n",
              "      <td>2</td>\n",
              "      <td>0</td>\n",
              "    </tr>\n",
              "    <tr>\n",
              "      <th>4</th>\n",
              "      <td>182</td>\n",
              "      <td>2018-11-15 00:02:00</td>\n",
              "      <td>62873</td>\n",
              "      <td>473</td>\n",
              "      <td>latest</td>\n",
              "      <td>0</td>\n",
              "      <td>0</td>\n",
              "      <td>1</td>\n",
              "      <td>0</td>\n",
              "      <td>0</td>\n",
              "      <td>11</td>\n",
              "      <td>3</td>\n",
              "      <td>2</td>\n",
              "      <td>0</td>\n",
              "    </tr>\n",
              "  </tbody>\n",
              "</table>\n",
              "</div>"
            ],
            "text/plain": [
              "  impression_id     impression_time  user_id  ...  day Minute  Second\n",
              "0             4 2018-11-15 00:00:00    87862  ...    3      0       0\n",
              "1            45 2018-11-15 00:01:00    63410  ...    3      1       0\n",
              "2            70 2018-11-15 00:02:00    71748  ...    3      2       0\n",
              "3             8 2018-11-15 00:02:00    69209  ...    3      2       0\n",
              "4           182 2018-11-15 00:02:00    62873  ...    3      2       0\n",
              "\n",
              "[5 rows x 14 columns]"
            ]
          },
          "metadata": {
            "tags": []
          },
          "execution_count": 20
        }
      ]
    },
    {
      "cell_type": "code",
      "metadata": {
        "id": "EvfKR3qeNyST",
        "colab_type": "code",
        "colab": {}
      },
      "source": [
        "df_test['impression_time']=pd.to_datetime(df_test['impression_time'], errors='coerce')\n",
        "df_test['Hour']=df_test['impression_time'].dt.hour\n",
        "df_test['Month']=df_test['impression_time'].dt.month\n",
        "df_test['day']=df_test['impression_time'].dt.dayofweek\n",
        "df_test['Minute']=df_test['impression_time'].dt.minute\n",
        "df_test['Second']=df_test['impression_time'].dt.second"
      ],
      "execution_count": 0,
      "outputs": []
    },
    {
      "cell_type": "code",
      "metadata": {
        "id": "b655rTjcOKIu",
        "colab_type": "code",
        "outputId": "f47f6de1-5029-4a56-c5b7-697b387ab842",
        "colab": {
          "base_uri": "https://localhost:8080/",
          "height": 309
        }
      },
      "source": [
        "df_test.head()"
      ],
      "execution_count": 0,
      "outputs": [
        {
          "output_type": "execute_result",
          "data": {
            "text/html": [
              "<div>\n",
              "<style scoped>\n",
              "    .dataframe tbody tr th:only-of-type {\n",
              "        vertical-align: middle;\n",
              "    }\n",
              "\n",
              "    .dataframe tbody tr th {\n",
              "        vertical-align: top;\n",
              "    }\n",
              "\n",
              "    .dataframe thead th {\n",
              "        text-align: right;\n",
              "    }\n",
              "</style>\n",
              "<table border=\"1\" class=\"dataframe\">\n",
              "  <thead>\n",
              "    <tr style=\"text-align: right;\">\n",
              "      <th></th>\n",
              "      <th>impression_id</th>\n",
              "      <th>impression_time</th>\n",
              "      <th>user_id</th>\n",
              "      <th>app_code</th>\n",
              "      <th>os_version</th>\n",
              "      <th>is_4G</th>\n",
              "      <th>os_version_latest</th>\n",
              "      <th>os_version_old</th>\n",
              "      <th>Hour</th>\n",
              "      <th>Month</th>\n",
              "      <th>day</th>\n",
              "      <th>Minute</th>\n",
              "      <th>Second</th>\n",
              "    </tr>\n",
              "  </thead>\n",
              "  <tbody>\n",
              "    <tr>\n",
              "      <th>0</th>\n",
              "      <td>a9e7126a585a69a32bc7414e9d0c0ada</td>\n",
              "      <td>2018-12-13 07:44:00</td>\n",
              "      <td>44754</td>\n",
              "      <td>127</td>\n",
              "      <td>latest</td>\n",
              "      <td>1</td>\n",
              "      <td>1</td>\n",
              "      <td>0</td>\n",
              "      <td>7</td>\n",
              "      <td>12</td>\n",
              "      <td>3</td>\n",
              "      <td>44</td>\n",
              "      <td>0</td>\n",
              "    </tr>\n",
              "    <tr>\n",
              "      <th>1</th>\n",
              "      <td>caac14a5bf2ba283db7708bb34855760</td>\n",
              "      <td>2018-12-13 07:45:00</td>\n",
              "      <td>29656</td>\n",
              "      <td>44</td>\n",
              "      <td>latest</td>\n",
              "      <td>0</td>\n",
              "      <td>1</td>\n",
              "      <td>0</td>\n",
              "      <td>7</td>\n",
              "      <td>12</td>\n",
              "      <td>3</td>\n",
              "      <td>45</td>\n",
              "      <td>0</td>\n",
              "    </tr>\n",
              "    <tr>\n",
              "      <th>2</th>\n",
              "      <td>13f10ba306a19ce7bec2f3cae507b698</td>\n",
              "      <td>2018-12-13 07:46:00</td>\n",
              "      <td>25234</td>\n",
              "      <td>296</td>\n",
              "      <td>latest</td>\n",
              "      <td>1</td>\n",
              "      <td>1</td>\n",
              "      <td>0</td>\n",
              "      <td>7</td>\n",
              "      <td>12</td>\n",
              "      <td>3</td>\n",
              "      <td>46</td>\n",
              "      <td>0</td>\n",
              "    </tr>\n",
              "    <tr>\n",
              "      <th>3</th>\n",
              "      <td>39c4b4dc0e9701b55a0a4f072008fb3f</td>\n",
              "      <td>2018-12-13 07:47:00</td>\n",
              "      <td>22988</td>\n",
              "      <td>207</td>\n",
              "      <td>latest</td>\n",
              "      <td>1</td>\n",
              "      <td>1</td>\n",
              "      <td>0</td>\n",
              "      <td>7</td>\n",
              "      <td>12</td>\n",
              "      <td>3</td>\n",
              "      <td>47</td>\n",
              "      <td>0</td>\n",
              "    </tr>\n",
              "    <tr>\n",
              "      <th>4</th>\n",
              "      <td>bf5a572cca75f5fc67f4b14e58b11d70</td>\n",
              "      <td>2018-12-13 07:48:00</td>\n",
              "      <td>35431</td>\n",
              "      <td>242</td>\n",
              "      <td>latest</td>\n",
              "      <td>1</td>\n",
              "      <td>1</td>\n",
              "      <td>0</td>\n",
              "      <td>7</td>\n",
              "      <td>12</td>\n",
              "      <td>3</td>\n",
              "      <td>48</td>\n",
              "      <td>0</td>\n",
              "    </tr>\n",
              "  </tbody>\n",
              "</table>\n",
              "</div>"
            ],
            "text/plain": [
              "                      impression_id     impression_time  ...  Minute  Second\n",
              "0  a9e7126a585a69a32bc7414e9d0c0ada 2018-12-13 07:44:00  ...      44       0\n",
              "1  caac14a5bf2ba283db7708bb34855760 2018-12-13 07:45:00  ...      45       0\n",
              "2  13f10ba306a19ce7bec2f3cae507b698 2018-12-13 07:46:00  ...      46       0\n",
              "3  39c4b4dc0e9701b55a0a4f072008fb3f 2018-12-13 07:47:00  ...      47       0\n",
              "4  bf5a572cca75f5fc67f4b14e58b11d70 2018-12-13 07:48:00  ...      48       0\n",
              "\n",
              "[5 rows x 13 columns]"
            ]
          },
          "metadata": {
            "tags": []
          },
          "execution_count": 94
        }
      ]
    },
    {
      "cell_type": "code",
      "metadata": {
        "id": "6bFVtOBkOQJv",
        "colab_type": "code",
        "colab": {}
      },
      "source": [
        "y_train = df['is_click']"
      ],
      "execution_count": 0,
      "outputs": []
    },
    {
      "cell_type": "code",
      "metadata": {
        "id": "qVXA6dmr_X5k",
        "colab_type": "code",
        "outputId": "0244b8d9-3eb6-43d9-9358-f81c021dbf6a",
        "colab": {
          "base_uri": "https://localhost:8080/",
          "height": 68
        }
      },
      "source": [
        "y_train.value_counts()"
      ],
      "execution_count": 0,
      "outputs": [
        {
          "output_type": "execute_result",
          "data": {
            "text/plain": [
              "0    226747\n",
              "1     10862\n",
              "Name: is_click, dtype: int64"
            ]
          },
          "metadata": {
            "tags": []
          },
          "execution_count": 207
        }
      ]
    },
    {
      "cell_type": "code",
      "metadata": {
        "id": "-15ldHvBXzY6",
        "colab_type": "code",
        "colab": {}
      },
      "source": [
        "# Lets separate the categorical columns from train data\n",
        "\n",
        "X=df.drop([\"os_version\", \"is_click\", 'impression_time','impression_id'], axis=1)"
      ],
      "execution_count": 0,
      "outputs": []
    },
    {
      "cell_type": "code",
      "metadata": {
        "id": "bqujubqnStCj",
        "colab_type": "code",
        "colab": {}
      },
      "source": [
        "from sklearn.preprocessing import StandardScaler\n",
        "scaler = StandardScaler()\n",
        "scaler.fit(X)\n",
        "\n",
        "# Scale and center the data\n",
        "X_train = scaler.transform(X)\n",
        "\n",
        "# Create a pandas DataFrame\n",
        "X_train = pd.DataFrame(data=X, index=X.index, columns=X.columns)\n"
      ],
      "execution_count": 0,
      "outputs": []
    },
    {
      "cell_type": "code",
      "metadata": {
        "id": "D1pu228CMJvZ",
        "colab_type": "code",
        "outputId": "ef49a821-abe7-4175-cc75-95a0336e1507",
        "colab": {
          "base_uri": "https://localhost:8080/",
          "height": 34
        }
      },
      "source": [
        "X_train.shape"
      ],
      "execution_count": 0,
      "outputs": [
        {
          "output_type": "execute_result",
          "data": {
            "text/plain": [
              "(237609, 10)"
            ]
          },
          "metadata": {
            "tags": []
          },
          "execution_count": 106
        }
      ]
    },
    {
      "cell_type": "code",
      "metadata": {
        "id": "RA8kknaNyVpA",
        "colab_type": "code",
        "outputId": "3aa0cd3c-617c-49ba-ff43-64e857749e30",
        "colab": {
          "base_uri": "https://localhost:8080/",
          "height": 204
        }
      },
      "source": [
        "X_train.head()"
      ],
      "execution_count": 0,
      "outputs": [
        {
          "output_type": "execute_result",
          "data": {
            "text/html": [
              "<div>\n",
              "<style scoped>\n",
              "    .dataframe tbody tr th:only-of-type {\n",
              "        vertical-align: middle;\n",
              "    }\n",
              "\n",
              "    .dataframe tbody tr th {\n",
              "        vertical-align: top;\n",
              "    }\n",
              "\n",
              "    .dataframe thead th {\n",
              "        text-align: right;\n",
              "    }\n",
              "</style>\n",
              "<table border=\"1\" class=\"dataframe\">\n",
              "  <thead>\n",
              "    <tr style=\"text-align: right;\">\n",
              "      <th></th>\n",
              "      <th>user_id</th>\n",
              "      <th>app_code</th>\n",
              "      <th>is_4G</th>\n",
              "      <th>os_version_latest</th>\n",
              "      <th>os_version_old</th>\n",
              "      <th>Hour</th>\n",
              "      <th>Month</th>\n",
              "      <th>day</th>\n",
              "      <th>Minute</th>\n",
              "      <th>Second</th>\n",
              "    </tr>\n",
              "  </thead>\n",
              "  <tbody>\n",
              "    <tr>\n",
              "      <th>0</th>\n",
              "      <td>87862</td>\n",
              "      <td>422</td>\n",
              "      <td>0</td>\n",
              "      <td>0</td>\n",
              "      <td>1</td>\n",
              "      <td>0</td>\n",
              "      <td>11</td>\n",
              "      <td>3</td>\n",
              "      <td>0</td>\n",
              "      <td>0</td>\n",
              "    </tr>\n",
              "    <tr>\n",
              "      <th>1</th>\n",
              "      <td>63410</td>\n",
              "      <td>467</td>\n",
              "      <td>1</td>\n",
              "      <td>1</td>\n",
              "      <td>0</td>\n",
              "      <td>0</td>\n",
              "      <td>11</td>\n",
              "      <td>3</td>\n",
              "      <td>1</td>\n",
              "      <td>0</td>\n",
              "    </tr>\n",
              "    <tr>\n",
              "      <th>2</th>\n",
              "      <td>71748</td>\n",
              "      <td>259</td>\n",
              "      <td>1</td>\n",
              "      <td>0</td>\n",
              "      <td>0</td>\n",
              "      <td>0</td>\n",
              "      <td>11</td>\n",
              "      <td>3</td>\n",
              "      <td>2</td>\n",
              "      <td>0</td>\n",
              "    </tr>\n",
              "    <tr>\n",
              "      <th>3</th>\n",
              "      <td>69209</td>\n",
              "      <td>244</td>\n",
              "      <td>1</td>\n",
              "      <td>1</td>\n",
              "      <td>0</td>\n",
              "      <td>0</td>\n",
              "      <td>11</td>\n",
              "      <td>3</td>\n",
              "      <td>2</td>\n",
              "      <td>0</td>\n",
              "    </tr>\n",
              "    <tr>\n",
              "      <th>4</th>\n",
              "      <td>62873</td>\n",
              "      <td>473</td>\n",
              "      <td>0</td>\n",
              "      <td>1</td>\n",
              "      <td>0</td>\n",
              "      <td>0</td>\n",
              "      <td>11</td>\n",
              "      <td>3</td>\n",
              "      <td>2</td>\n",
              "      <td>0</td>\n",
              "    </tr>\n",
              "  </tbody>\n",
              "</table>\n",
              "</div>"
            ],
            "text/plain": [
              "   user_id  app_code  is_4G  os_version_latest  ...  Month  day  Minute  Second\n",
              "0    87862       422      0                  0  ...     11    3       0       0\n",
              "1    63410       467      1                  1  ...     11    3       1       0\n",
              "2    71748       259      1                  0  ...     11    3       2       0\n",
              "3    69209       244      1                  1  ...     11    3       2       0\n",
              "4    62873       473      0                  1  ...     11    3       2       0\n",
              "\n",
              "[5 rows x 10 columns]"
            ]
          },
          "metadata": {
            "tags": []
          },
          "execution_count": 107
        }
      ]
    },
    {
      "cell_type": "code",
      "metadata": {
        "id": "CdjJU1JNNRE0",
        "colab_type": "code",
        "outputId": "d6f70e79-65f4-47ce-8054-8c990b31d787",
        "colab": {
          "base_uri": "https://localhost:8080/",
          "height": 272
        }
      },
      "source": [
        "X_train.info()"
      ],
      "execution_count": 0,
      "outputs": [
        {
          "output_type": "stream",
          "text": [
            "<class 'pandas.core.frame.DataFrame'>\n",
            "RangeIndex: 237609 entries, 0 to 237608\n",
            "Data columns (total 10 columns):\n",
            "user_id              237609 non-null int64\n",
            "app_code             237609 non-null int64\n",
            "is_4G                237609 non-null int64\n",
            "os_version_latest    237609 non-null uint8\n",
            "os_version_old       237609 non-null uint8\n",
            "Hour                 237609 non-null int64\n",
            "Month                237609 non-null int64\n",
            "day                  237609 non-null int64\n",
            "Minute               237609 non-null int64\n",
            "Second               237609 non-null int64\n",
            "dtypes: int64(8), uint8(2)\n",
            "memory usage: 15.0 MB\n"
          ],
          "name": "stdout"
        }
      ]
    },
    {
      "cell_type": "code",
      "metadata": {
        "id": "VjTQQlzuO0P5",
        "colab_type": "code",
        "colab": {}
      },
      "source": [
        "# Lets separate the categorical columns from test data\n",
        "\n",
        "Xt=df_test.drop([\"os_version\", 'impression_time','impression_id'], axis=1)"
      ],
      "execution_count": 0,
      "outputs": []
    },
    {
      "cell_type": "code",
      "metadata": {
        "id": "TmQP2iFfWpTh",
        "colab_type": "code",
        "colab": {}
      },
      "source": [
        "from sklearn.preprocessing import StandardScaler\n",
        "scaler = StandardScaler()\n",
        "scaler.fit(Xt)\n",
        "\n",
        "# Scale and center the data\n",
        "X_test = scaler.transform(Xt)\n",
        "\n",
        "# Create a pandas DataFrame\n",
        "X_test = pd.DataFrame(data=Xt, index=Xt.index, columns=Xt.columns)"
      ],
      "execution_count": 0,
      "outputs": []
    },
    {
      "cell_type": "code",
      "metadata": {
        "id": "e0NDgz9WPEsB",
        "colab_type": "code",
        "outputId": "d577ec17-3f02-4a89-a264-a9c1da6e59e5",
        "colab": {
          "base_uri": "https://localhost:8080/",
          "height": 204
        }
      },
      "source": [
        "X_test.head()"
      ],
      "execution_count": 0,
      "outputs": [
        {
          "output_type": "execute_result",
          "data": {
            "text/html": [
              "<div>\n",
              "<style scoped>\n",
              "    .dataframe tbody tr th:only-of-type {\n",
              "        vertical-align: middle;\n",
              "    }\n",
              "\n",
              "    .dataframe tbody tr th {\n",
              "        vertical-align: top;\n",
              "    }\n",
              "\n",
              "    .dataframe thead th {\n",
              "        text-align: right;\n",
              "    }\n",
              "</style>\n",
              "<table border=\"1\" class=\"dataframe\">\n",
              "  <thead>\n",
              "    <tr style=\"text-align: right;\">\n",
              "      <th></th>\n",
              "      <th>user_id</th>\n",
              "      <th>app_code</th>\n",
              "      <th>is_4G</th>\n",
              "      <th>os_version_latest</th>\n",
              "      <th>os_version_old</th>\n",
              "      <th>Hour</th>\n",
              "      <th>Month</th>\n",
              "      <th>day</th>\n",
              "      <th>Minute</th>\n",
              "      <th>Second</th>\n",
              "    </tr>\n",
              "  </thead>\n",
              "  <tbody>\n",
              "    <tr>\n",
              "      <th>0</th>\n",
              "      <td>44754</td>\n",
              "      <td>127</td>\n",
              "      <td>1</td>\n",
              "      <td>1</td>\n",
              "      <td>0</td>\n",
              "      <td>7</td>\n",
              "      <td>12</td>\n",
              "      <td>3</td>\n",
              "      <td>44</td>\n",
              "      <td>0</td>\n",
              "    </tr>\n",
              "    <tr>\n",
              "      <th>1</th>\n",
              "      <td>29656</td>\n",
              "      <td>44</td>\n",
              "      <td>0</td>\n",
              "      <td>1</td>\n",
              "      <td>0</td>\n",
              "      <td>7</td>\n",
              "      <td>12</td>\n",
              "      <td>3</td>\n",
              "      <td>45</td>\n",
              "      <td>0</td>\n",
              "    </tr>\n",
              "    <tr>\n",
              "      <th>2</th>\n",
              "      <td>25234</td>\n",
              "      <td>296</td>\n",
              "      <td>1</td>\n",
              "      <td>1</td>\n",
              "      <td>0</td>\n",
              "      <td>7</td>\n",
              "      <td>12</td>\n",
              "      <td>3</td>\n",
              "      <td>46</td>\n",
              "      <td>0</td>\n",
              "    </tr>\n",
              "    <tr>\n",
              "      <th>3</th>\n",
              "      <td>22988</td>\n",
              "      <td>207</td>\n",
              "      <td>1</td>\n",
              "      <td>1</td>\n",
              "      <td>0</td>\n",
              "      <td>7</td>\n",
              "      <td>12</td>\n",
              "      <td>3</td>\n",
              "      <td>47</td>\n",
              "      <td>0</td>\n",
              "    </tr>\n",
              "    <tr>\n",
              "      <th>4</th>\n",
              "      <td>35431</td>\n",
              "      <td>242</td>\n",
              "      <td>1</td>\n",
              "      <td>1</td>\n",
              "      <td>0</td>\n",
              "      <td>7</td>\n",
              "      <td>12</td>\n",
              "      <td>3</td>\n",
              "      <td>48</td>\n",
              "      <td>0</td>\n",
              "    </tr>\n",
              "  </tbody>\n",
              "</table>\n",
              "</div>"
            ],
            "text/plain": [
              "   user_id  app_code  is_4G  os_version_latest  ...  Month  day  Minute  Second\n",
              "0    44754       127      1                  1  ...     12    3      44       0\n",
              "1    29656        44      0                  1  ...     12    3      45       0\n",
              "2    25234       296      1                  1  ...     12    3      46       0\n",
              "3    22988       207      1                  1  ...     12    3      47       0\n",
              "4    35431       242      1                  1  ...     12    3      48       0\n",
              "\n",
              "[5 rows x 10 columns]"
            ]
          },
          "metadata": {
            "tags": []
          },
          "execution_count": 111
        }
      ]
    },
    {
      "cell_type": "code",
      "metadata": {
        "id": "moKIPA2gPMLb",
        "colab_type": "code",
        "outputId": "74362deb-1c93-4dca-d33c-88e1873bdf14",
        "colab": {
          "base_uri": "https://localhost:8080/",
          "height": 34
        }
      },
      "source": [
        "X_test.shape"
      ],
      "execution_count": 0,
      "outputs": [
        {
          "output_type": "execute_result",
          "data": {
            "text/plain": [
              "(90675, 10)"
            ]
          },
          "metadata": {
            "tags": []
          },
          "execution_count": 112
        }
      ]
    },
    {
      "cell_type": "markdown",
      "metadata": {
        "id": "1E3V8p2yWB1U",
        "colab_type": "text"
      },
      "source": [
        "### Model building"
      ]
    },
    {
      "cell_type": "markdown",
      "metadata": {
        "id": "D9RBaPPZpbFj",
        "colab_type": "text"
      },
      "source": [
        "## Train the model"
      ]
    },
    {
      "cell_type": "code",
      "metadata": {
        "id": "F-gjjX-qWGe_",
        "colab_type": "code",
        "outputId": "f53bb6e3-9eb1-45df-bb2b-e9af97a3c4e3",
        "colab": {
          "base_uri": "https://localhost:8080/",
          "height": 85
        }
      },
      "source": [
        "\n",
        "# Building the Logistic Regression Model\n",
        "\n",
        "from sklearn.linear_model import LogisticRegression\n",
        "\n",
        "logreg = LogisticRegression(C=1, n_jobs=1)               # Set Large C value for low regularization to prevent overfitting\n",
        "logreg.fit(X_train, y_train)\n",
        "\n",
        "print(logreg.coef_)                                            # Coefficients for Logistic Regression\n",
        "print(logreg.intercept_)"
      ],
      "execution_count": 0,
      "outputs": [
        {
          "output_type": "stream",
          "text": [
            "[[-2.44376297e-07 -1.82544109e-04 -1.30787356e-02 -2.93983945e-02\n",
            "  -1.10858355e-05  3.63219652e-03 -2.61893153e-01 -9.33101574e-03\n",
            "   1.09324807e-03  0.00000000e+00]]\n",
            "[-0.02459261]\n"
          ],
          "name": "stdout"
        }
      ]
    },
    {
      "cell_type": "code",
      "metadata": {
        "id": "1l7b2rZXaDrL",
        "colab_type": "code",
        "colab": {}
      },
      "source": [
        "# now applying our learnt model on test and also on train data\n",
        "\n",
        "y_pred_test = logreg.predict(X_test)\n",
        "y_pred_train = logreg.predict(X_train)"
      ],
      "execution_count": 0,
      "outputs": []
    },
    {
      "cell_type": "code",
      "metadata": {
        "id": "dQNJAGnd_X-X",
        "colab_type": "code",
        "outputId": "96d801a5-66e4-482f-b80e-fb43e2783ee9",
        "colab": {
          "base_uri": "https://localhost:8080/",
          "height": 34
        }
      },
      "source": [
        "# comparing the metrics of predicted lebel and real label of test data\n",
        "print(\"Train Accuracy: \", metrics.accuracy_score(y_train, y_pred_train))"
      ],
      "execution_count": 0,
      "outputs": [
        {
          "output_type": "stream",
          "text": [
            "Train Accuracy:  0.9542862433662025\n"
          ],
          "name": "stdout"
        }
      ]
    },
    {
      "cell_type": "markdown",
      "metadata": {
        "id": "NlA0Egjmkmil",
        "colab_type": "text"
      },
      "source": [
        "### train data accuracy is 95.42%"
      ]
    },
    {
      "cell_type": "code",
      "metadata": {
        "id": "6xIxOlcsoVDC",
        "colab_type": "code",
        "outputId": "b9f75ab8-cc43-4825-efd9-40bedafd490d",
        "colab": {
          "base_uri": "https://localhost:8080/",
          "height": 51
        }
      },
      "source": [
        "#predict on train data\n",
        "y_pred_train = model_fit.predict(X_train)\n",
        "\n",
        "#mean squared error\n",
        "mse=mean_squared_error(y_train,y_pred_train)\n",
        "\n",
        "#root mean squared error\n",
        "print('train rmse: {}'.format(np.sqrt(mse)))\n",
        "\n",
        "#mean absolute error\n",
        "mae=mean_absolute_error(y_train,y_pred_train)\n",
        "print('train mae: {}'.format(mae))"
      ],
      "execution_count": 0,
      "outputs": [
        {
          "output_type": "stream",
          "text": [
            "train rmse: 0.2124353124074949\n",
            "train mae: 0.045128761957669954\n"
          ],
          "name": "stdout"
        }
      ]
    },
    {
      "cell_type": "code",
      "metadata": {
        "id": "Y4ZepJqJ5lG2",
        "colab_type": "code",
        "outputId": "536cce44-4bba-4422-ee26-0905a84dc2b3",
        "colab": {
          "base_uri": "https://localhost:8080/",
          "height": 34
        }
      },
      "source": [
        "#Check model's accuracy\n",
        "from sklearn.metrics import roc_auc_score\n",
        "roc_auc_score(y_train, y_pred_train)"
      ],
      "execution_count": 0,
      "outputs": [
        {
          "output_type": "execute_result",
          "data": {
            "text/plain": [
              "0.5098169544453459"
            ]
          },
          "metadata": {
            "tags": []
          },
          "execution_count": 146
        }
      ]
    },
    {
      "cell_type": "code",
      "metadata": {
        "id": "ZcI6OT6sCRW4",
        "colab_type": "code",
        "outputId": "197ced61-af05-46c2-ce02-606afcc153ba",
        "colab": {
          "base_uri": "https://localhost:8080/",
          "height": 51
        }
      },
      "source": [
        "cm=metrics.confusion_matrix(y_train, y_pred_train)\n",
        "cm"
      ],
      "execution_count": 0,
      "outputs": [
        {
          "output_type": "execute_result",
          "data": {
            "text/plain": [
              "array([[226669,     78],\n",
              "       [ 10645,    217]])"
            ]
          },
          "metadata": {
            "tags": []
          },
          "execution_count": 147
        }
      ]
    },
    {
      "cell_type": "code",
      "metadata": {
        "id": "xqLvdVGQCE2H",
        "colab_type": "code",
        "outputId": "e6359e3e-f295-4a88-ecc5-2adebe5e6e36",
        "colab": {
          "base_uri": "https://localhost:8080/",
          "height": 291
        }
      },
      "source": [
        "cmap = sns.cubehelix_palette(50, hue=0.05, rot=0, light=0.9, dark=0, as_cmap=True)\n",
        "sns.heatmap(cm,cmap = cmap,xticklabels=['Prediction No','Prediction Yes'],yticklabels=['Actual No','Actual Yes'], annot=True,\n",
        "            fmt='d')"
      ],
      "execution_count": 0,
      "outputs": [
        {
          "output_type": "execute_result",
          "data": {
            "text/plain": [
              "<matplotlib.axes._subplots.AxesSubplot at 0x7f5a3d8934a8>"
            ]
          },
          "metadata": {
            "tags": []
          },
          "execution_count": 148
        },
        {
          "output_type": "display_data",
          "data": {
            "image/png": "[encoded data removed]",
            "text/plain": [
              "<Figure size 432x288 with 2 Axes>"
            ]
          },
          "metadata": {
            "tags": []
          }
        }
      ]
    },
    {
      "cell_type": "code",
      "metadata": {
        "id": "moC-xB1aC-EP",
        "colab_type": "code",
        "outputId": "339ce6d0-6f63-4a73-d51c-62ed8415aa96",
        "colab": {
          "base_uri": "https://localhost:8080/",
          "height": 170
        }
      },
      "source": [
        "# Creating Classification Report\n",
        "\n",
        "cr = metrics.classification_report(y_train, y_pred_train)\n",
        "print(cr)"
      ],
      "execution_count": 0,
      "outputs": [
        {
          "output_type": "stream",
          "text": [
            "              precision    recall  f1-score   support\n",
            "\n",
            "           0       0.96      1.00      0.98    226747\n",
            "           1       0.74      0.02      0.04     10862\n",
            "\n",
            "    accuracy                           0.95    237609\n",
            "   macro avg       0.85      0.51      0.51    237609\n",
            "weighted avg       0.95      0.95      0.93    237609\n",
            "\n"
          ],
          "name": "stdout"
        }
      ]
    },
    {
      "cell_type": "markdown",
      "metadata": {
        "id": "RoKL9UPnDs3g",
        "colab_type": "text"
      },
      "source": [
        "#### Imbalanced Data\n",
        "\n",
        "The above metrics illustrate there is a clear imbalance in data.\n",
        "\n",
        "Let us retrain our data using logistic regression this time using a parameter called 'balanced' which would handle imbalance in the data by changing the threshold set by logistic regression model:"
      ]
    },
    {
      "cell_type": "code",
      "metadata": {
        "id": "iYBuusHUDvfu",
        "colab_type": "code",
        "outputId": "0aa5571c-0d19-4e6b-c483-0b6aca0c435b",
        "colab": {
          "base_uri": "https://localhost:8080/",
          "height": 85
        }
      },
      "source": [
        "# Building the Logistic Regression Model\n",
        "\n",
        "from sklearn.linear_model import LogisticRegression\n",
        "\n",
        "logreg = LogisticRegression(C=1,class_weight='balanced')                            # Set Large C value for low regularization to prevent overfitting\n",
        "logreg.fit(X_train, y_train)\n",
        "\n",
        "print(logreg.coef_)                                            # Coefficients for Logistic Regression\n",
        "print(logreg.intercept_)"
      ],
      "execution_count": 0,
      "outputs": [
        {
          "output_type": "stream",
          "text": [
            "[[-2.34446393e-07 -1.90559147e-04 -1.77224598e-02 -2.27391376e-01\n",
            "  -5.23163598e-02  2.44138752e-03  2.53604393e-02  1.26280495e-02\n",
            "   1.15900923e-03  0.00000000e+00]]\n",
            "[-0.19838407]\n"
          ],
          "name": "stdout"
        }
      ]
    },
    {
      "cell_type": "code",
      "metadata": {
        "id": "4WwBQo2zD56y",
        "colab_type": "code",
        "colab": {}
      },
      "source": [
        "# now applying our learnt model on test and also on train data\n",
        "\n",
        "y_pred_test = logreg.predict(X_test)\n",
        "y_pred_train = logreg.predict(X_train)"
      ],
      "execution_count": 0,
      "outputs": []
    },
    {
      "cell_type": "code",
      "metadata": {
        "id": "q-bA81XKD6tX",
        "colab_type": "code",
        "outputId": "a83d4b67-e078-4937-e5d9-9af8a1412a10",
        "colab": {
          "base_uri": "https://localhost:8080/",
          "height": 34
        }
      },
      "source": [
        "from sklearn import metrics\n",
        "# comparing the metrics of predicted lebel and real label of test data\n",
        "print(\"Test Accuracy: \", metrics.accuracy_score(y_train, y_pred_train))"
      ],
      "execution_count": 0,
      "outputs": [
        {
          "output_type": "stream",
          "text": [
            "Test Accuracy:  0.5438388276538346\n"
          ],
          "name": "stdout"
        }
      ]
    },
    {
      "cell_type": "code",
      "metadata": {
        "id": "ccy-J0xXD-1r",
        "colab_type": "code",
        "outputId": "6f067f59-bffe-4b0e-eece-c0f6f51c3d25",
        "colab": {
          "base_uri": "https://localhost:8080/",
          "height": 291
        }
      },
      "source": [
        "# creating a confusion matrix to understand the classification\n",
        "conf = metrics.confusion_matrix(y_train, y_pred_train)\n",
        "cmap = sns.cubehelix_palette(50, hue=0.05, rot=0, light=0.9, dark=0, as_cmap=True)\n",
        "sns.heatmap(conf,cmap = cmap,xticklabels=['Prediction No','Prediction Yes'],yticklabels=['Actual No','Actual Yes'], annot=True,\n",
        "            fmt='d')"
      ],
      "execution_count": 0,
      "outputs": [
        {
          "output_type": "execute_result",
          "data": {
            "text/plain": [
              "<matplotlib.axes._subplots.AxesSubplot at 0x7f5a3d812048>"
            ]
          },
          "metadata": {
            "tags": []
          },
          "execution_count": 153
        },
        {
          "output_type": "display_data",
          "data": {
            "image/png": "[encoded data removed]",
            "text/plain": [
              "<Figure size 432x288 with 2 Axes>"
            ]
          },
          "metadata": {
            "tags": []
          }
        }
      ]
    },
    {
      "cell_type": "code",
      "metadata": {
        "id": "4WiGAPb6EH_V",
        "colab_type": "code",
        "outputId": "ceca7244-18b5-4f6f-85c9-a5b473dbd29f",
        "colab": {
          "base_uri": "https://localhost:8080/",
          "height": 170
        }
      },
      "source": [
        "# Creating Classification Report\n",
        "\n",
        "cr = metrics.classification_report(y_train, y_pred_train)\n",
        "print(cr)"
      ],
      "execution_count": 0,
      "outputs": [
        {
          "output_type": "stream",
          "text": [
            "              precision    recall  f1-score   support\n",
            "\n",
            "           0       0.96      0.55      0.70    226747\n",
            "           1       0.05      0.50      0.09     10862\n",
            "\n",
            "    accuracy                           0.54    237609\n",
            "   macro avg       0.50      0.52      0.39    237609\n",
            "weighted avg       0.92      0.54      0.67    237609\n",
            "\n"
          ],
          "name": "stdout"
        }
      ]
    },
    {
      "cell_type": "markdown",
      "metadata": {
        "id": "QJLxSrKG4da9",
        "colab_type": "text"
      },
      "source": [
        "### Decision Tree with gini and entropy both"
      ]
    },
    {
      "cell_type": "code",
      "metadata": {
        "id": "tWw1fWtLYs4c",
        "colab_type": "code",
        "colab": {}
      },
      "source": [
        "from sklearn.tree import DecisionTreeClassifier\n",
        "dt = DecisionTreeClassifier(criterion = 'gini',max_depth = 10, min_samples_leaf =3, random_state=101)"
      ],
      "execution_count": 0,
      "outputs": []
    },
    {
      "cell_type": "code",
      "metadata": {
        "id": "Rljbomv04j6W",
        "colab_type": "code",
        "colab": {}
      },
      "source": [
        "model_fit=dt.fit(X_train, y_train)"
      ],
      "execution_count": 0,
      "outputs": []
    },
    {
      "cell_type": "code",
      "metadata": {
        "id": "-WlSU0R7JT38",
        "colab_type": "code",
        "colab": {}
      },
      "source": [
        "# now applying our learnt model on test and also on train data\n",
        "\n",
        "y_pred_test = dt.predict(X_test)\n",
        "y_pred_train = dt.predict(X_train)"
      ],
      "execution_count": 0,
      "outputs": []
    },
    {
      "cell_type": "code",
      "metadata": {
        "id": "MBL7e2aG6UtS",
        "colab_type": "code",
        "outputId": "1a83473f-ea85-40db-e149-487f4a6ecc6e",
        "colab": {
          "base_uri": "https://localhost:8080/",
          "height": 51
        }
      },
      "source": [
        "from sklearn.metrics import confusion_matrix as cm\n",
        "cm=cm(y_train, y_pred_train)\n",
        "cm"
      ],
      "execution_count": 0,
      "outputs": [
        {
          "output_type": "execute_result",
          "data": {
            "text/plain": [
              "array([[226669,     78],\n",
              "       [ 10645,    217]])"
            ]
          },
          "metadata": {
            "tags": []
          },
          "execution_count": 200
        }
      ]
    },
    {
      "cell_type": "code",
      "metadata": {
        "id": "RdhICSF_sb8T",
        "colab_type": "code",
        "outputId": "cf5828e4-7a9f-4356-c922-9f9863a0c9f9",
        "colab": {
          "base_uri": "https://localhost:8080/",
          "height": 34
        }
      },
      "source": [
        "print(y_pred_test)"
      ],
      "execution_count": 0,
      "outputs": [
        {
          "output_type": "stream",
          "text": [
            "[0 0 0 ... 0 0 0]\n"
          ],
          "name": "stdout"
        }
      ]
    },
    {
      "cell_type": "code",
      "metadata": {
        "id": "NtLdIgkoyOzO",
        "colab_type": "code",
        "colab": {}
      },
      "source": [
        "y_pred[\"is_click\"] = pd.DataFrame(y_pred_test) "
      ],
      "execution_count": 0,
      "outputs": []
    },
    {
      "cell_type": "code",
      "metadata": {
        "id": "aXQowPOk-CaO",
        "colab_type": "code",
        "outputId": "3395ee82-4920-43ec-9d19-bfa1bd39a549",
        "colab": {
          "base_uri": "https://localhost:8080/",
          "height": 68
        }
      },
      "source": [
        "y_pred[\"is_click\"].value_counts()"
      ],
      "execution_count": 0,
      "outputs": [
        {
          "output_type": "execute_result",
          "data": {
            "text/plain": [
              "0    90548\n",
              "1      127\n",
              "Name: is_click, dtype: int64"
            ]
          },
          "metadata": {
            "tags": []
          },
          "execution_count": 203
        }
      ]
    },
    {
      "cell_type": "markdown",
      "metadata": {
        "id": "EdbwJv8K-c_i",
        "colab_type": "text"
      },
      "source": [
        "## Conclusion: 127 times ad is clicked during 2018/12/12 – 2018/12/18 "
      ]
    },
    {
      "cell_type": "code",
      "metadata": {
        "id": "VC2cL4EFyX3N",
        "colab_type": "code",
        "outputId": "5937959d-ca12-4d1a-a577-b6204253fdd6",
        "colab": {
          "base_uri": "https://localhost:8080/",
          "height": 204
        }
      },
      "source": [
        "y_pred.head()"
      ],
      "execution_count": 0,
      "outputs": [
        {
          "output_type": "execute_result",
          "data": {
            "text/html": [
              "<div>\n",
              "<style scoped>\n",
              "    .dataframe tbody tr th:only-of-type {\n",
              "        vertical-align: middle;\n",
              "    }\n",
              "\n",
              "    .dataframe tbody tr th {\n",
              "        vertical-align: top;\n",
              "    }\n",
              "\n",
              "    .dataframe thead th {\n",
              "        text-align: right;\n",
              "    }\n",
              "</style>\n",
              "<table border=\"1\" class=\"dataframe\">\n",
              "  <thead>\n",
              "    <tr style=\"text-align: right;\">\n",
              "      <th></th>\n",
              "      <th>0</th>\n",
              "      <th>is_click</th>\n",
              "    </tr>\n",
              "  </thead>\n",
              "  <tbody>\n",
              "    <tr>\n",
              "      <th>0</th>\n",
              "      <td>0</td>\n",
              "      <td>0</td>\n",
              "    </tr>\n",
              "    <tr>\n",
              "      <th>1</th>\n",
              "      <td>0</td>\n",
              "      <td>0</td>\n",
              "    </tr>\n",
              "    <tr>\n",
              "      <th>2</th>\n",
              "      <td>0</td>\n",
              "      <td>0</td>\n",
              "    </tr>\n",
              "    <tr>\n",
              "      <th>3</th>\n",
              "      <td>0</td>\n",
              "      <td>0</td>\n",
              "    </tr>\n",
              "    <tr>\n",
              "      <th>4</th>\n",
              "      <td>0</td>\n",
              "      <td>0</td>\n",
              "    </tr>\n",
              "  </tbody>\n",
              "</table>\n",
              "</div>"
            ],
            "text/plain": [
              "   0  is_click\n",
              "0  0         0\n",
              "1  0         0\n",
              "2  0         0\n",
              "3  0         0\n",
              "4  0         0"
            ]
          },
          "metadata": {
            "tags": []
          },
          "execution_count": 178
        }
      ]
    },
    {
      "cell_type": "code",
      "metadata": {
        "id": "VP8Xl8F_srJS",
        "colab_type": "code",
        "colab": {}
      },
      "source": [
        "submission=pd.concat([X_test,y_pred], axis=1)"
      ],
      "execution_count": 0,
      "outputs": []
    },
    {
      "cell_type": "code",
      "metadata": {
        "id": "ordK2c_M0bgF",
        "colab_type": "code",
        "outputId": "7a1298b7-bc65-41e1-b170-28eb152a2ef4",
        "colab": {
          "base_uri": "https://localhost:8080/",
          "height": 204
        }
      },
      "source": [
        "submission.head()"
      ],
      "execution_count": 0,
      "outputs": [
        {
          "output_type": "execute_result",
          "data": {
            "text/html": [
              "<div>\n",
              "<style scoped>\n",
              "    .dataframe tbody tr th:only-of-type {\n",
              "        vertical-align: middle;\n",
              "    }\n",
              "\n",
              "    .dataframe tbody tr th {\n",
              "        vertical-align: top;\n",
              "    }\n",
              "\n",
              "    .dataframe thead th {\n",
              "        text-align: right;\n",
              "    }\n",
              "</style>\n",
              "<table border=\"1\" class=\"dataframe\">\n",
              "  <thead>\n",
              "    <tr style=\"text-align: right;\">\n",
              "      <th></th>\n",
              "      <th>user_id</th>\n",
              "      <th>app_code</th>\n",
              "      <th>is_4G</th>\n",
              "      <th>os_version_latest</th>\n",
              "      <th>os_version_old</th>\n",
              "      <th>Hour</th>\n",
              "      <th>Month</th>\n",
              "      <th>day</th>\n",
              "      <th>Minute</th>\n",
              "      <th>Second</th>\n",
              "      <th>0</th>\n",
              "      <th>is_click</th>\n",
              "    </tr>\n",
              "  </thead>\n",
              "  <tbody>\n",
              "    <tr>\n",
              "      <th>0</th>\n",
              "      <td>44754</td>\n",
              "      <td>127</td>\n",
              "      <td>1</td>\n",
              "      <td>1</td>\n",
              "      <td>0</td>\n",
              "      <td>7</td>\n",
              "      <td>12</td>\n",
              "      <td>3</td>\n",
              "      <td>44</td>\n",
              "      <td>0</td>\n",
              "      <td>0</td>\n",
              "      <td>0</td>\n",
              "    </tr>\n",
              "    <tr>\n",
              "      <th>1</th>\n",
              "      <td>29656</td>\n",
              "      <td>44</td>\n",
              "      <td>0</td>\n",
              "      <td>1</td>\n",
              "      <td>0</td>\n",
              "      <td>7</td>\n",
              "      <td>12</td>\n",
              "      <td>3</td>\n",
              "      <td>45</td>\n",
              "      <td>0</td>\n",
              "      <td>0</td>\n",
              "      <td>0</td>\n",
              "    </tr>\n",
              "    <tr>\n",
              "      <th>2</th>\n",
              "      <td>25234</td>\n",
              "      <td>296</td>\n",
              "      <td>1</td>\n",
              "      <td>1</td>\n",
              "      <td>0</td>\n",
              "      <td>7</td>\n",
              "      <td>12</td>\n",
              "      <td>3</td>\n",
              "      <td>46</td>\n",
              "      <td>0</td>\n",
              "      <td>0</td>\n",
              "      <td>0</td>\n",
              "    </tr>\n",
              "    <tr>\n",
              "      <th>3</th>\n",
              "      <td>22988</td>\n",
              "      <td>207</td>\n",
              "      <td>1</td>\n",
              "      <td>1</td>\n",
              "      <td>0</td>\n",
              "      <td>7</td>\n",
              "      <td>12</td>\n",
              "      <td>3</td>\n",
              "      <td>47</td>\n",
              "      <td>0</td>\n",
              "      <td>0</td>\n",
              "      <td>0</td>\n",
              "    </tr>\n",
              "    <tr>\n",
              "      <th>4</th>\n",
              "      <td>35431</td>\n",
              "      <td>242</td>\n",
              "      <td>1</td>\n",
              "      <td>1</td>\n",
              "      <td>0</td>\n",
              "      <td>7</td>\n",
              "      <td>12</td>\n",
              "      <td>3</td>\n",
              "      <td>48</td>\n",
              "      <td>0</td>\n",
              "      <td>0</td>\n",
              "      <td>0</td>\n",
              "    </tr>\n",
              "  </tbody>\n",
              "</table>\n",
              "</div>"
            ],
            "text/plain": [
              "   user_id  app_code  is_4G  os_version_latest  ...  Minute  Second  0  is_click\n",
              "0    44754       127      1                  1  ...      44       0  0         0\n",
              "1    29656        44      0                  1  ...      45       0  0         0\n",
              "2    25234       296      1                  1  ...      46       0  0         0\n",
              "3    22988       207      1                  1  ...      47       0  0         0\n",
              "4    35431       242      1                  1  ...      48       0  0         0\n",
              "\n",
              "[5 rows x 12 columns]"
            ]
          },
          "metadata": {
            "tags": []
          },
          "execution_count": 180
        }
      ]
    },
    {
      "cell_type": "code",
      "metadata": {
        "id": "pWtR9CdY2Vtg",
        "colab_type": "code",
        "colab": {}
      },
      "source": [
        "from google.colab import files\n",
        "submission.to_csv('submission.csv')\n",
        "files.download('submission.csv')"
      ],
      "execution_count": 0,
      "outputs": []
    },
    {
      "cell_type": "markdown",
      "metadata": {
        "id": "NJUCeEG679kc",
        "colab_type": "text"
      },
      "source": [
        "#### DT with entropy"
      ]
    },
    {
      "cell_type": "code",
      "metadata": {
        "id": "GHG25SOI7WsS",
        "colab_type": "code",
        "colab": {}
      },
      "source": [
        "from sklearn.tree import DecisionTreeClassifier\n",
        "dt = DecisionTreeClassifier(criterion = 'entropy',max_depth = 10, min_samples_leaf =3, random_state=101)"
      ],
      "execution_count": 0,
      "outputs": []
    },
    {
      "cell_type": "code",
      "metadata": {
        "id": "P4iQCoNM7acN",
        "colab_type": "code",
        "colab": {}
      },
      "source": [
        "model_fit=dt.fit(X_train, y_train)"
      ],
      "execution_count": 0,
      "outputs": []
    },
    {
      "cell_type": "code",
      "metadata": {
        "id": "AIl7hLOg7fx-",
        "colab_type": "code",
        "colab": {}
      },
      "source": [
        "# now applying our learnt model on test and also on train data\n",
        "\n",
        "y_pred_test = dt.predict(X_test)\n",
        "y_pred_train = dt.predict(X_train)"
      ],
      "execution_count": 0,
      "outputs": []
    },
    {
      "cell_type": "code",
      "metadata": {
        "id": "wHOuTnqS6CLR",
        "colab_type": "code",
        "outputId": "d190bae4-f3a8-4500-b81a-42fe36ce54d3",
        "colab": {
          "base_uri": "https://localhost:8080/",
          "height": 51
        }
      },
      "source": [
        "from sklearn.metrics import confusion_matrix as cm\n",
        "cm=cm(y_train, y_pred_train)\n",
        "cm"
      ],
      "execution_count": 0,
      "outputs": [
        {
          "output_type": "execute_result",
          "data": {
            "text/plain": [
              "array([[226683,     64],\n",
              "       [ 10694,    168]])"
            ]
          },
          "metadata": {
            "tags": []
          },
          "execution_count": 186
        }
      ]
    },
    {
      "cell_type": "code",
      "metadata": {
        "id": "HrUhR1jm8ugJ",
        "colab_type": "code",
        "colab": {}
      },
      "source": [
        " \n",
        "y_pred[\"is_click\"] = pd.DataFrame(y_pred_test) "
      ],
      "execution_count": 0,
      "outputs": []
    },
    {
      "cell_type": "code",
      "metadata": {
        "id": "bmxFGGZJ8UkO",
        "colab_type": "code",
        "outputId": "70445b17-4d65-4fea-c218-984344c6c050",
        "colab": {
          "base_uri": "https://localhost:8080/",
          "height": 68
        }
      },
      "source": [
        "y_pred[\"is_click\"].value_counts()"
      ],
      "execution_count": 0,
      "outputs": [
        {
          "output_type": "execute_result",
          "data": {
            "text/plain": [
              "0    90582\n",
              "1       93\n",
              "Name: is_click, dtype: int64"
            ]
          },
          "metadata": {
            "tags": []
          },
          "execution_count": 194
        }
      ]
    },
    {
      "cell_type": "code",
      "metadata": {
        "id": "7iMiZz5G7lvY",
        "colab_type": "code",
        "colab": {}
      },
      "source": [
        ""
      ],
      "execution_count": 0,
      "outputs": []
    }
  ]
}